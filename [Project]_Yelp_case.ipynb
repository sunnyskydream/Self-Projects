{
  "nbformat": 4,
  "nbformat_minor": 0,
  "metadata": {
    "colab": {
      "name": "[Project] Yelp case.ipynb",
      "provenance": [],
      "collapsed_sections": [],
      "authorship_tag": "ABX9TyOoiCBJLL13+oFvz1OyDcGN",
      "include_colab_link": true
    },
    "kernelspec": {
      "name": "python3",
      "display_name": "Python 3"
    }
  },
  "cells": [
    {
      "cell_type": "markdown",
      "metadata": {
        "id": "view-in-github",
        "colab_type": "text"
      },
      "source": [
        "<a href=\"https://colab.research.google.com/github/sunnyskydream/Self-projects/blob/main/%5BProject%5D_Yelp_case.ipynb\" target=\"_parent\"><img src=\"https://colab.research.google.com/assets/colab-badge.svg\" alt=\"Open In Colab\"/></a>"
      ]
    },
    {
      "cell_type": "markdown",
      "source": [
        "BANA 277 Customer and Social Analytics_coursework\n",
        "\n",
        "Yelp Case\n",
        "https://store.hbr.org/product/yelp/709412\n",
        "\n",
        "Learning:<br/>\n",
        "*   t-test\n",
        "*   exploratory data analysis: Yelp rating by Area and Google_cuisine\n",
        "\n",
        "\n"
      ],
      "metadata": {
        "id": "_hFIomKDHG6x"
      }
    },
    {
      "cell_type": "markdown",
      "source": [
        "**Data preparation and cleaning**"
      ],
      "metadata": {
        "id": "Nas5A5xojOAc"
      }
    },
    {
      "cell_type": "code",
      "metadata": {
        "id": "63xpiJTEJVQH",
        "outputId": "62cb834d-0d73-40d8-9d74-659ea4178a99",
        "colab": {
          "base_uri": "https://localhost:8080/",
          "height": 547
        }
      },
      "source": [
        "import pandas as pd \n",
        "pd.set_option('display.float_format', lambda x: '%.4f' % x)\n",
        "\n",
        "data = pd.read_excel('test_G_Y_matching.xlsx', dtype={'cost level_Google':str} )\n",
        "data.rename(columns={\"cost level_Google\": \"cost_level_Google\"},inplace=True)\n",
        "data.sample(5)"
      ],
      "execution_count": 1,
      "outputs": [
        {
          "output_type": "execute_result",
          "data": {
            "text/html": [
              "\n",
              "  <div id=\"df-14260f4b-506d-462a-b4e4-761529c267f7\">\n",
              "    <div class=\"colab-df-container\">\n",
              "      <div>\n",
              "<style scoped>\n",
              "    .dataframe tbody tr th:only-of-type {\n",
              "        vertical-align: middle;\n",
              "    }\n",
              "\n",
              "    .dataframe tbody tr th {\n",
              "        vertical-align: top;\n",
              "    }\n",
              "\n",
              "    .dataframe thead th {\n",
              "        text-align: right;\n",
              "    }\n",
              "</style>\n",
              "<table border=\"1\" class=\"dataframe\">\n",
              "  <thead>\n",
              "    <tr style=\"text-align: right;\">\n",
              "      <th></th>\n",
              "      <th>Name</th>\n",
              "      <th>Yelp_review_count</th>\n",
              "      <th>Google_review_count</th>\n",
              "      <th>Yelp_rating</th>\n",
              "      <th>Google_rating</th>\n",
              "      <th>Yelp_cuisine</th>\n",
              "      <th>Google_cuisine</th>\n",
              "      <th>cost_level_Google</th>\n",
              "      <th>Area</th>\n",
              "      <th>Zipcode</th>\n",
              "      <th>Count_of_likes_Google</th>\n",
              "      <th>Count_of_useful_Yelp</th>\n",
              "      <th>Count_of_funny_Yelp</th>\n",
              "      <th>Count_of_cool_Yelp</th>\n",
              "    </tr>\n",
              "  </thead>\n",
              "  <tbody>\n",
              "    <tr>\n",
              "      <th>6</th>\n",
              "      <td>Driftwood Oven</td>\n",
              "      <td>38</td>\n",
              "      <td>94</td>\n",
              "      <td>4.5000</td>\n",
              "      <td>4.8000</td>\n",
              "      <td>Restaurants, Food Trucks, Pizza, Food</td>\n",
              "      <td>Pizza</td>\n",
              "      <td>NaN</td>\n",
              "      <td>Lawrenceville</td>\n",
              "      <td>15201</td>\n",
              "      <td>3</td>\n",
              "      <td>82</td>\n",
              "      <td>34</td>\n",
              "      <td>70</td>\n",
              "    </tr>\n",
              "    <tr>\n",
              "      <th>128</th>\n",
              "      <td>Genoa Pizza &amp; Bar</td>\n",
              "      <td>47</td>\n",
              "      <td>200</td>\n",
              "      <td>3.0000</td>\n",
              "      <td>4.0000</td>\n",
              "      <td>Pizza, Food, Nightlife, Bars, Restaurants, Foo...</td>\n",
              "      <td>Pizza</td>\n",
              "      <td>$$</td>\n",
              "      <td>Downtown</td>\n",
              "      <td>15222</td>\n",
              "      <td>19</td>\n",
              "      <td>37</td>\n",
              "      <td>20</td>\n",
              "      <td>10</td>\n",
              "    </tr>\n",
              "    <tr>\n",
              "      <th>39</th>\n",
              "      <td>Paris 66</td>\n",
              "      <td>212</td>\n",
              "      <td>185</td>\n",
              "      <td>3.5000</td>\n",
              "      <td>4.5000</td>\n",
              "      <td>Breakfast &amp; Brunch, Creperies, Gluten-Free, Br...</td>\n",
              "      <td>Bistro</td>\n",
              "      <td>$$$</td>\n",
              "      <td>Shadyside</td>\n",
              "      <td>15206</td>\n",
              "      <td>15</td>\n",
              "      <td>482</td>\n",
              "      <td>95</td>\n",
              "      <td>119</td>\n",
              "    </tr>\n",
              "    <tr>\n",
              "      <th>0</th>\n",
              "      <td>Butcher and the Rye</td>\n",
              "      <td>759</td>\n",
              "      <td>576</td>\n",
              "      <td>4.5000</td>\n",
              "      <td>4.6000</td>\n",
              "      <td>Nightlife, Restaurants, Bars, American (New), ...</td>\n",
              "      <td>New American</td>\n",
              "      <td>$$$</td>\n",
              "      <td>Downtown</td>\n",
              "      <td>15222</td>\n",
              "      <td>32</td>\n",
              "      <td>895</td>\n",
              "      <td>331</td>\n",
              "      <td>399</td>\n",
              "    </tr>\n",
              "    <tr>\n",
              "      <th>33</th>\n",
              "      <td>Pamela's Upstreet Diner</td>\n",
              "      <td>155</td>\n",
              "      <td>422</td>\n",
              "      <td>4.0000</td>\n",
              "      <td>4.6000</td>\n",
              "      <td>Diners, Breakfast &amp; Brunch, Restaurants</td>\n",
              "      <td>Breakfast</td>\n",
              "      <td>$</td>\n",
              "      <td>Squirrel Hill</td>\n",
              "      <td>15217</td>\n",
              "      <td>8</td>\n",
              "      <td>151</td>\n",
              "      <td>56</td>\n",
              "      <td>74</td>\n",
              "    </tr>\n",
              "  </tbody>\n",
              "</table>\n",
              "</div>\n",
              "      <button class=\"colab-df-convert\" onclick=\"convertToInteractive('df-14260f4b-506d-462a-b4e4-761529c267f7')\"\n",
              "              title=\"Convert this dataframe to an interactive table.\"\n",
              "              style=\"display:none;\">\n",
              "        \n",
              "  <svg xmlns=\"http://www.w3.org/2000/svg\" height=\"24px\"viewBox=\"0 0 24 24\"\n",
              "       width=\"24px\">\n",
              "    <path d=\"M0 0h24v24H0V0z\" fill=\"none\"/>\n",
              "    <path d=\"M18.56 5.44l.94 2.06.94-2.06 2.06-.94-2.06-.94-.94-2.06-.94 2.06-2.06.94zm-11 1L8.5 8.5l.94-2.06 2.06-.94-2.06-.94L8.5 2.5l-.94 2.06-2.06.94zm10 10l.94 2.06.94-2.06 2.06-.94-2.06-.94-.94-2.06-.94 2.06-2.06.94z\"/><path d=\"M17.41 7.96l-1.37-1.37c-.4-.4-.92-.59-1.43-.59-.52 0-1.04.2-1.43.59L10.3 9.45l-7.72 7.72c-.78.78-.78 2.05 0 2.83L4 21.41c.39.39.9.59 1.41.59.51 0 1.02-.2 1.41-.59l7.78-7.78 2.81-2.81c.8-.78.8-2.07 0-2.86zM5.41 20L4 18.59l7.72-7.72 1.47 1.35L5.41 20z\"/>\n",
              "  </svg>\n",
              "      </button>\n",
              "      \n",
              "  <style>\n",
              "    .colab-df-container {\n",
              "      display:flex;\n",
              "      flex-wrap:wrap;\n",
              "      gap: 12px;\n",
              "    }\n",
              "\n",
              "    .colab-df-convert {\n",
              "      background-color: #E8F0FE;\n",
              "      border: none;\n",
              "      border-radius: 50%;\n",
              "      cursor: pointer;\n",
              "      display: none;\n",
              "      fill: #1967D2;\n",
              "      height: 32px;\n",
              "      padding: 0 0 0 0;\n",
              "      width: 32px;\n",
              "    }\n",
              "\n",
              "    .colab-df-convert:hover {\n",
              "      background-color: #E2EBFA;\n",
              "      box-shadow: 0px 1px 2px rgba(60, 64, 67, 0.3), 0px 1px 3px 1px rgba(60, 64, 67, 0.15);\n",
              "      fill: #174EA6;\n",
              "    }\n",
              "\n",
              "    [theme=dark] .colab-df-convert {\n",
              "      background-color: #3B4455;\n",
              "      fill: #D2E3FC;\n",
              "    }\n",
              "\n",
              "    [theme=dark] .colab-df-convert:hover {\n",
              "      background-color: #434B5C;\n",
              "      box-shadow: 0px 1px 3px 1px rgba(0, 0, 0, 0.15);\n",
              "      filter: drop-shadow(0px 1px 2px rgba(0, 0, 0, 0.3));\n",
              "      fill: #FFFFFF;\n",
              "    }\n",
              "  </style>\n",
              "\n",
              "      <script>\n",
              "        const buttonEl =\n",
              "          document.querySelector('#df-14260f4b-506d-462a-b4e4-761529c267f7 button.colab-df-convert');\n",
              "        buttonEl.style.display =\n",
              "          google.colab.kernel.accessAllowed ? 'block' : 'none';\n",
              "\n",
              "        async function convertToInteractive(key) {\n",
              "          const element = document.querySelector('#df-14260f4b-506d-462a-b4e4-761529c267f7');\n",
              "          const dataTable =\n",
              "            await google.colab.kernel.invokeFunction('convertToInteractive',\n",
              "                                                     [key], {});\n",
              "          if (!dataTable) return;\n",
              "\n",
              "          const docLinkHtml = 'Like what you see? Visit the ' +\n",
              "            '<a target=\"_blank\" href=https://colab.research.google.com/notebooks/data_table.ipynb>data table notebook</a>'\n",
              "            + ' to learn more about interactive tables.';\n",
              "          element.innerHTML = '';\n",
              "          dataTable['output_type'] = 'display_data';\n",
              "          await google.colab.output.renderOutput(dataTable, element);\n",
              "          const docLink = document.createElement('div');\n",
              "          docLink.innerHTML = docLinkHtml;\n",
              "          element.appendChild(docLink);\n",
              "        }\n",
              "      </script>\n",
              "    </div>\n",
              "  </div>\n",
              "  "
            ],
            "text/plain": [
              "                        Name  ...  Count_of_cool_Yelp\n",
              "6             Driftwood Oven  ...                  70\n",
              "128        Genoa Pizza & Bar  ...                  10\n",
              "39                  Paris 66  ...                 119\n",
              "0        Butcher and the Rye  ...                 399\n",
              "33   Pamela's Upstreet Diner  ...                  74\n",
              "\n",
              "[5 rows x 14 columns]"
            ]
          },
          "metadata": {},
          "execution_count": 1
        }
      ]
    },
    {
      "cell_type": "code",
      "source": [
        "data.shape"
      ],
      "metadata": {
        "colab": {
          "base_uri": "https://localhost:8080/"
        },
        "id": "bwiwWbBqbktn",
        "outputId": "ff52bf91-9000-4bd0-ae1e-c3602de8bcc1"
      },
      "execution_count": 2,
      "outputs": [
        {
          "output_type": "execute_result",
          "data": {
            "text/plain": [
              "(200, 14)"
            ]
          },
          "metadata": {},
          "execution_count": 2
        }
      ]
    },
    {
      "cell_type": "code",
      "source": [
        "data.duplicated().sum()"
      ],
      "metadata": {
        "colab": {
          "base_uri": "https://localhost:8080/"
        },
        "id": "IjAFDlwMbvS3",
        "outputId": "9a9d54da-31a4-4038-8e8c-68ada70d1c52"
      },
      "execution_count": 3,
      "outputs": [
        {
          "output_type": "execute_result",
          "data": {
            "text/plain": [
              "0"
            ]
          },
          "metadata": {},
          "execution_count": 3
        }
      ]
    },
    {
      "cell_type": "code",
      "source": [
        "data.info()"
      ],
      "metadata": {
        "colab": {
          "base_uri": "https://localhost:8080/"
        },
        "id": "T49efyR7b8gM",
        "outputId": "adfc16d5-f0c2-4dbf-d3f2-51398a992ce6"
      },
      "execution_count": 4,
      "outputs": [
        {
          "output_type": "stream",
          "name": "stdout",
          "text": [
            "<class 'pandas.core.frame.DataFrame'>\n",
            "RangeIndex: 200 entries, 0 to 199\n",
            "Data columns (total 14 columns):\n",
            " #   Column                 Non-Null Count  Dtype  \n",
            "---  ------                 --------------  -----  \n",
            " 0   Name                   200 non-null    object \n",
            " 1   Yelp_review_count      200 non-null    int64  \n",
            " 2   Google_review_count    200 non-null    int64  \n",
            " 3   Yelp_rating            200 non-null    float64\n",
            " 4   Google_rating          200 non-null    float64\n",
            " 5   Yelp_cuisine           200 non-null    object \n",
            " 6   Google_cuisine         200 non-null    object \n",
            " 7   cost_level_Google      153 non-null    object \n",
            " 8   Area                   173 non-null    object \n",
            " 9   Zipcode                200 non-null    int64  \n",
            " 10  Count_of_likes_Google  200 non-null    int64  \n",
            " 11  Count_of_useful_Yelp   200 non-null    int64  \n",
            " 12  Count_of_funny_Yelp    200 non-null    int64  \n",
            " 13  Count_of_cool_Yelp     200 non-null    int64  \n",
            "dtypes: float64(2), int64(7), object(5)\n",
            "memory usage: 22.0+ KB\n"
          ]
        }
      ]
    },
    {
      "cell_type": "code",
      "source": [
        "data.isna().sum()"
      ],
      "metadata": {
        "colab": {
          "base_uri": "https://localhost:8080/"
        },
        "id": "dV2mhOUfcJiS",
        "outputId": "c3e5c3ff-42ed-4d2f-8713-45681eb94b41"
      },
      "execution_count": 5,
      "outputs": [
        {
          "output_type": "execute_result",
          "data": {
            "text/plain": [
              "Name                      0\n",
              "Yelp_review_count         0\n",
              "Google_review_count       0\n",
              "Yelp_rating               0\n",
              "Google_rating             0\n",
              "Yelp_cuisine              0\n",
              "Google_cuisine            0\n",
              "cost_level_Google        47\n",
              "Area                     27\n",
              "Zipcode                   0\n",
              "Count_of_likes_Google     0\n",
              "Count_of_useful_Yelp      0\n",
              "Count_of_funny_Yelp       0\n",
              "Count_of_cool_Yelp        0\n",
              "dtype: int64"
            ]
          },
          "metadata": {},
          "execution_count": 5
        }
      ]
    },
    {
      "cell_type": "code",
      "source": [
        "data_clean = data.fillna('Unknown')\n",
        "data_clean.isna().sum()"
      ],
      "metadata": {
        "colab": {
          "base_uri": "https://localhost:8080/"
        },
        "id": "eMEPIeBEcbwt",
        "outputId": "3bf4beea-e365-4efb-fb5d-a2c8ac66fd04"
      },
      "execution_count": 6,
      "outputs": [
        {
          "output_type": "execute_result",
          "data": {
            "text/plain": [
              "Name                     0\n",
              "Yelp_review_count        0\n",
              "Google_review_count      0\n",
              "Yelp_rating              0\n",
              "Google_rating            0\n",
              "Yelp_cuisine             0\n",
              "Google_cuisine           0\n",
              "cost_level_Google        0\n",
              "Area                     0\n",
              "Zipcode                  0\n",
              "Count_of_likes_Google    0\n",
              "Count_of_useful_Yelp     0\n",
              "Count_of_funny_Yelp      0\n",
              "Count_of_cool_Yelp       0\n",
              "dtype: int64"
            ]
          },
          "metadata": {},
          "execution_count": 6
        }
      ]
    },
    {
      "cell_type": "code",
      "source": [
        "data_clean.describe()"
      ],
      "metadata": {
        "colab": {
          "base_uri": "https://localhost:8080/",
          "height": 300
        },
        "id": "ttOfFY3jcoi6",
        "outputId": "a6b41be3-4e56-46dc-fa40-30728268de2e"
      },
      "execution_count": 7,
      "outputs": [
        {
          "output_type": "execute_result",
          "data": {
            "text/html": [
              "\n",
              "  <div id=\"df-e6d296d9-0031-41d8-aeeb-5022e03ee4df\">\n",
              "    <div class=\"colab-df-container\">\n",
              "      <div>\n",
              "<style scoped>\n",
              "    .dataframe tbody tr th:only-of-type {\n",
              "        vertical-align: middle;\n",
              "    }\n",
              "\n",
              "    .dataframe tbody tr th {\n",
              "        vertical-align: top;\n",
              "    }\n",
              "\n",
              "    .dataframe thead th {\n",
              "        text-align: right;\n",
              "    }\n",
              "</style>\n",
              "<table border=\"1\" class=\"dataframe\">\n",
              "  <thead>\n",
              "    <tr style=\"text-align: right;\">\n",
              "      <th></th>\n",
              "      <th>Yelp_review_count</th>\n",
              "      <th>Google_review_count</th>\n",
              "      <th>Yelp_rating</th>\n",
              "      <th>Google_rating</th>\n",
              "      <th>Zipcode</th>\n",
              "      <th>Count_of_likes_Google</th>\n",
              "      <th>Count_of_useful_Yelp</th>\n",
              "      <th>Count_of_funny_Yelp</th>\n",
              "      <th>Count_of_cool_Yelp</th>\n",
              "    </tr>\n",
              "  </thead>\n",
              "  <tbody>\n",
              "    <tr>\n",
              "      <th>count</th>\n",
              "      <td>200.0000</td>\n",
              "      <td>200.0000</td>\n",
              "      <td>200.0000</td>\n",
              "      <td>200.0000</td>\n",
              "      <td>200.0000</td>\n",
              "      <td>200.0000</td>\n",
              "      <td>200.0000</td>\n",
              "      <td>200.0000</td>\n",
              "      <td>200.0000</td>\n",
              "    </tr>\n",
              "    <tr>\n",
              "      <th>mean</th>\n",
              "      <td>176.2600</td>\n",
              "      <td>275.7700</td>\n",
              "      <td>3.6775</td>\n",
              "      <td>4.2560</td>\n",
              "      <td>15217.5550</td>\n",
              "      <td>22.3350</td>\n",
              "      <td>203.2350</td>\n",
              "      <td>66.1050</td>\n",
              "      <td>103.3800</td>\n",
              "    </tr>\n",
              "    <tr>\n",
              "      <th>std</th>\n",
              "      <td>222.8826</td>\n",
              "      <td>283.2935</td>\n",
              "      <td>0.5950</td>\n",
              "      <td>0.3809</td>\n",
              "      <td>10.6967</td>\n",
              "      <td>27.2742</td>\n",
              "      <td>256.6012</td>\n",
              "      <td>101.2564</td>\n",
              "      <td>157.3152</td>\n",
              "    </tr>\n",
              "    <tr>\n",
              "      <th>min</th>\n",
              "      <td>3.0000</td>\n",
              "      <td>2.0000</td>\n",
              "      <td>2.0000</td>\n",
              "      <td>2.9000</td>\n",
              "      <td>15201.0000</td>\n",
              "      <td>0.0000</td>\n",
              "      <td>0.0000</td>\n",
              "      <td>0.0000</td>\n",
              "      <td>0.0000</td>\n",
              "    </tr>\n",
              "    <tr>\n",
              "      <th>25%</th>\n",
              "      <td>42.7500</td>\n",
              "      <td>104.0000</td>\n",
              "      <td>3.5000</td>\n",
              "      <td>4.1000</td>\n",
              "      <td>15211.0000</td>\n",
              "      <td>8.0000</td>\n",
              "      <td>47.2500</td>\n",
              "      <td>14.7500</td>\n",
              "      <td>21.0000</td>\n",
              "    </tr>\n",
              "    <tr>\n",
              "      <th>50%</th>\n",
              "      <td>113.0000</td>\n",
              "      <td>181.0000</td>\n",
              "      <td>4.0000</td>\n",
              "      <td>4.3000</td>\n",
              "      <td>15219.0000</td>\n",
              "      <td>14.0000</td>\n",
              "      <td>120.5000</td>\n",
              "      <td>32.0000</td>\n",
              "      <td>53.5000</td>\n",
              "    </tr>\n",
              "    <tr>\n",
              "      <th>75%</th>\n",
              "      <td>223.2500</td>\n",
              "      <td>375.0000</td>\n",
              "      <td>4.0000</td>\n",
              "      <td>4.5000</td>\n",
              "      <td>15222.0000</td>\n",
              "      <td>29.0000</td>\n",
              "      <td>250.0000</td>\n",
              "      <td>81.2500</td>\n",
              "      <td>119.0000</td>\n",
              "    </tr>\n",
              "    <tr>\n",
              "      <th>max</th>\n",
              "      <td>1629.0000</td>\n",
              "      <td>1978.0000</td>\n",
              "      <td>4.5000</td>\n",
              "      <td>5.0000</td>\n",
              "      <td>15275.0000</td>\n",
              "      <td>250.0000</td>\n",
              "      <td>1930.0000</td>\n",
              "      <td>793.0000</td>\n",
              "      <td>1229.0000</td>\n",
              "    </tr>\n",
              "  </tbody>\n",
              "</table>\n",
              "</div>\n",
              "      <button class=\"colab-df-convert\" onclick=\"convertToInteractive('df-e6d296d9-0031-41d8-aeeb-5022e03ee4df')\"\n",
              "              title=\"Convert this dataframe to an interactive table.\"\n",
              "              style=\"display:none;\">\n",
              "        \n",
              "  <svg xmlns=\"http://www.w3.org/2000/svg\" height=\"24px\"viewBox=\"0 0 24 24\"\n",
              "       width=\"24px\">\n",
              "    <path d=\"M0 0h24v24H0V0z\" fill=\"none\"/>\n",
              "    <path d=\"M18.56 5.44l.94 2.06.94-2.06 2.06-.94-2.06-.94-.94-2.06-.94 2.06-2.06.94zm-11 1L8.5 8.5l.94-2.06 2.06-.94-2.06-.94L8.5 2.5l-.94 2.06-2.06.94zm10 10l.94 2.06.94-2.06 2.06-.94-2.06-.94-.94-2.06-.94 2.06-2.06.94z\"/><path d=\"M17.41 7.96l-1.37-1.37c-.4-.4-.92-.59-1.43-.59-.52 0-1.04.2-1.43.59L10.3 9.45l-7.72 7.72c-.78.78-.78 2.05 0 2.83L4 21.41c.39.39.9.59 1.41.59.51 0 1.02-.2 1.41-.59l7.78-7.78 2.81-2.81c.8-.78.8-2.07 0-2.86zM5.41 20L4 18.59l7.72-7.72 1.47 1.35L5.41 20z\"/>\n",
              "  </svg>\n",
              "      </button>\n",
              "      \n",
              "  <style>\n",
              "    .colab-df-container {\n",
              "      display:flex;\n",
              "      flex-wrap:wrap;\n",
              "      gap: 12px;\n",
              "    }\n",
              "\n",
              "    .colab-df-convert {\n",
              "      background-color: #E8F0FE;\n",
              "      border: none;\n",
              "      border-radius: 50%;\n",
              "      cursor: pointer;\n",
              "      display: none;\n",
              "      fill: #1967D2;\n",
              "      height: 32px;\n",
              "      padding: 0 0 0 0;\n",
              "      width: 32px;\n",
              "    }\n",
              "\n",
              "    .colab-df-convert:hover {\n",
              "      background-color: #E2EBFA;\n",
              "      box-shadow: 0px 1px 2px rgba(60, 64, 67, 0.3), 0px 1px 3px 1px rgba(60, 64, 67, 0.15);\n",
              "      fill: #174EA6;\n",
              "    }\n",
              "\n",
              "    [theme=dark] .colab-df-convert {\n",
              "      background-color: #3B4455;\n",
              "      fill: #D2E3FC;\n",
              "    }\n",
              "\n",
              "    [theme=dark] .colab-df-convert:hover {\n",
              "      background-color: #434B5C;\n",
              "      box-shadow: 0px 1px 3px 1px rgba(0, 0, 0, 0.15);\n",
              "      filter: drop-shadow(0px 1px 2px rgba(0, 0, 0, 0.3));\n",
              "      fill: #FFFFFF;\n",
              "    }\n",
              "  </style>\n",
              "\n",
              "      <script>\n",
              "        const buttonEl =\n",
              "          document.querySelector('#df-e6d296d9-0031-41d8-aeeb-5022e03ee4df button.colab-df-convert');\n",
              "        buttonEl.style.display =\n",
              "          google.colab.kernel.accessAllowed ? 'block' : 'none';\n",
              "\n",
              "        async function convertToInteractive(key) {\n",
              "          const element = document.querySelector('#df-e6d296d9-0031-41d8-aeeb-5022e03ee4df');\n",
              "          const dataTable =\n",
              "            await google.colab.kernel.invokeFunction('convertToInteractive',\n",
              "                                                     [key], {});\n",
              "          if (!dataTable) return;\n",
              "\n",
              "          const docLinkHtml = 'Like what you see? Visit the ' +\n",
              "            '<a target=\"_blank\" href=https://colab.research.google.com/notebooks/data_table.ipynb>data table notebook</a>'\n",
              "            + ' to learn more about interactive tables.';\n",
              "          element.innerHTML = '';\n",
              "          dataTable['output_type'] = 'display_data';\n",
              "          await google.colab.output.renderOutput(dataTable, element);\n",
              "          const docLink = document.createElement('div');\n",
              "          docLink.innerHTML = docLinkHtml;\n",
              "          element.appendChild(docLink);\n",
              "        }\n",
              "      </script>\n",
              "    </div>\n",
              "  </div>\n",
              "  "
            ],
            "text/plain": [
              "       Yelp_review_count   ...  Count_of_cool_Yelp\n",
              "count            200.0000  ...            200.0000\n",
              "mean             176.2600  ...            103.3800\n",
              "std              222.8826  ...            157.3152\n",
              "min                3.0000  ...              0.0000\n",
              "25%               42.7500  ...             21.0000\n",
              "50%              113.0000  ...             53.5000\n",
              "75%              223.2500  ...            119.0000\n",
              "max             1629.0000  ...           1229.0000\n",
              "\n",
              "[8 rows x 9 columns]"
            ]
          },
          "metadata": {},
          "execution_count": 7
        }
      ]
    },
    {
      "cell_type": "markdown",
      "source": [
        "**Q3.A: How do the two sites compare in terms of the number of reviews (Volume) and star rating (Valence)?**<br/>"
      ],
      "metadata": {
        "id": "blZbXSVLiYKd"
      }
    },
    {
      "cell_type": "code",
      "source": [
        "import matplotlib.pylab as plt\n",
        "import seaborn as sns\n",
        "sns.distplot(data_clean.iloc[:,1], label = \"Yelp\")\n",
        "sns.distplot(data_clean.iloc[:,2], label = \"Google\")\n",
        "plt.xlabel(\"Review count\")\n",
        "plt.legend()\n",
        "plt.show()"
      ],
      "metadata": {
        "colab": {
          "base_uri": "https://localhost:8080/",
          "height": 368
        },
        "id": "MqrCxeBUj2om",
        "outputId": "e9b0a7e4-b69f-4c80-dd8e-7770270bcf52"
      },
      "execution_count": 8,
      "outputs": [
        {
          "output_type": "stream",
          "name": "stderr",
          "text": [
            "/usr/local/lib/python3.7/dist-packages/seaborn/distributions.py:2619: FutureWarning: `distplot` is a deprecated function and will be removed in a future version. Please adapt your code to use either `displot` (a figure-level function with similar flexibility) or `histplot` (an axes-level function for histograms).\n",
            "  warnings.warn(msg, FutureWarning)\n",
            "/usr/local/lib/python3.7/dist-packages/seaborn/distributions.py:2619: FutureWarning: `distplot` is a deprecated function and will be removed in a future version. Please adapt your code to use either `displot` (a figure-level function with similar flexibility) or `histplot` (an axes-level function for histograms).\n",
            "  warnings.warn(msg, FutureWarning)\n"
          ]
        },
        {
          "output_type": "display_data",
          "data": {
            "image/png": "[encoded data removed]",
            "text/plain": [
              "<Figure size 432x288 with 1 Axes>"
            ]
          },
          "metadata": {
            "needs_background": "light"
          }
        }
      ]
    },
    {
      "cell_type": "markdown",
      "source": [
        "In terms of number of reviews (Volume), Google’s review count tend to be more than Yelps. <br/>\n",
        "Average Yelp_review_count is 176.26<br/>\n",
        "Average Google_review_count is 275.77\n"
      ],
      "metadata": {
        "id": "F5rJN0MSrja7"
      }
    },
    {
      "cell_type": "code",
      "source": [
        "sns.distplot(data_clean.Yelp_rating, label = \"Yelp\")\n",
        "sns.distplot(data_clean.Google_rating, label = \"Google\")\n",
        "plt.xlabel(\"Rating\")\n",
        "plt.legend()\n",
        "plt.show()"
      ],
      "metadata": {
        "colab": {
          "base_uri": "https://localhost:8080/",
          "height": 368
        },
        "id": "CRwko32hiXkx",
        "outputId": "b0e69b9d-481d-4605-808f-4ffc20bcd6ed"
      },
      "execution_count": 9,
      "outputs": [
        {
          "output_type": "stream",
          "name": "stderr",
          "text": [
            "/usr/local/lib/python3.7/dist-packages/seaborn/distributions.py:2619: FutureWarning: `distplot` is a deprecated function and will be removed in a future version. Please adapt your code to use either `displot` (a figure-level function with similar flexibility) or `histplot` (an axes-level function for histograms).\n",
            "  warnings.warn(msg, FutureWarning)\n",
            "/usr/local/lib/python3.7/dist-packages/seaborn/distributions.py:2619: FutureWarning: `distplot` is a deprecated function and will be removed in a future version. Please adapt your code to use either `displot` (a figure-level function with similar flexibility) or `histplot` (an axes-level function for histograms).\n",
            "  warnings.warn(msg, FutureWarning)\n"
          ]
        },
        {
          "output_type": "display_data",
          "data": {
            "image/png": "[encoded data removed]",
            "text/plain": [
              "<Figure size 432x288 with 1 Axes>"
            ]
          },
          "metadata": {
            "needs_background": "light"
          }
        }
      ]
    },
    {
      "cell_type": "markdown",
      "source": [
        "In terms of star rating (Valence), Google’s rating tends to be higher than Yelp’s. <br/>\n",
        "Average Yelp_rating is 3.6775 <br/>\n",
        "Average Google_rating is 4.256\n"
      ],
      "metadata": {
        "id": "5xHS8DuurvTs"
      }
    },
    {
      "cell_type": "markdown",
      "source": [
        "**Q3.B: Is the review rating different across the two sites, and is the difference statistically significant?**<br/>\n",
        "Step 1. Determine a null and alternate hypothesis.\n",
        "\n",
        "In general, the null hypothesis will state that the two populations being tested have no statistically significant difference. The alternate hypothesis will state that there is one present. In this example we can say that:\n",
        "\n",
        "H0 (Null Hypothesis): Rating in Yelp/Google are the same\n",
        "\n",
        "HA (Alternative Hypothesis): Rating in Yelp/Google are different (2 sided test)\n",
        "\n",
        "Step 2. Determine the Alpha (/confidence interval) and degrees of freedom\n",
        "\n",
        "The typical value of α is 0.05. This means that there is 95% confidence that the conclusion of this test will be valid. The degree of freedom is min(N_Yelp-1, N_Google-1)\n",
        "\n",
        "Step 3. Calculate the Confidence Interval &/ t-Statistic for Diffence in Means"
      ],
      "metadata": {
        "id": "gPkYr_dFgvT9"
      }
    },
    {
      "cell_type": "code",
      "source": [
        "#perform t-test\n",
        "from scipy import stats\n",
        "import numpy as np\n",
        "\n",
        "Yelp_rating = data_clean.Yelp_rating\n",
        "Google_rating = data_clean.Google_rating\n"
      ],
      "metadata": {
        "id": "KNE-V5x2eTxy"
      },
      "execution_count": 10,
      "outputs": []
    },
    {
      "cell_type": "code",
      "source": [
        "# Calculate Point Estimate for Xb - Xa\n",
        "Diff_YG = Yelp_rating.mean() - Google_rating.mean()\n",
        "Diff_YG"
      ],
      "metadata": {
        "colab": {
          "base_uri": "https://localhost:8080/"
        },
        "id": "mAnLK_oQdeSY",
        "outputId": "6327fe3c-c724-481f-bbfe-aed02cb5e3cd"
      },
      "execution_count": 11,
      "outputs": [
        {
          "output_type": "execute_result",
          "data": {
            "text/plain": [
              "-0.5784999999999991"
            ]
          },
          "metadata": {},
          "execution_count": 11
        }
      ]
    },
    {
      "cell_type": "code",
      "source": [
        "# Calculate the Standard Error for Xb - Xa\n",
        "SE_YG = np.sqrt(Yelp_rating.var()/len(Yelp_rating) + Google_rating.var()/len(Google_rating))\n",
        "SE_YG "
      ],
      "metadata": {
        "colab": {
          "base_uri": "https://localhost:8080/"
        },
        "id": "OF6CiISmfPBC",
        "outputId": "fc5acd0d-c60d-440e-de92-adbf6fc2bab7"
      },
      "execution_count": 12,
      "outputs": [
        {
          "output_type": "execute_result",
          "data": {
            "text/plain": [
              "0.0499551431952536"
            ]
          },
          "metadata": {},
          "execution_count": 12
        }
      ]
    },
    {
      "cell_type": "code",
      "source": [
        "# Calculate the 95% Confidence Interval\n",
        "min_95_CI_rating = Diff_YG - 1.96 * SE_YG\n",
        "max_95_CI_rating = Diff_YG + 1.96 * SE_YG\n",
        "\n",
        "print(min_95_CI_rating, max_95_CI_rating)"
      ],
      "metadata": {
        "colab": {
          "base_uri": "https://localhost:8080/"
        },
        "id": "9njUVGAwfdfj",
        "outputId": "30fac91c-de75-4880-92f9-34594fb22aa4"
      },
      "execution_count": 13,
      "outputs": [
        {
          "output_type": "stream",
          "name": "stdout",
          "text": [
            "-0.6764120806626962 -0.48058791933730205\n"
          ]
        }
      ]
    },
    {
      "cell_type": "code",
      "source": [
        "# Calculate Test Statistics\n",
        "T_Score_rating = (Diff_YG - 0) / SE_YG\n",
        "T_Score_rating"
      ],
      "metadata": {
        "colab": {
          "base_uri": "https://localhost:8080/"
        },
        "id": "_464gcZcfsM4",
        "outputId": "cc7474f5-f949-4dd9-9ce9-2e5a8f3000f0"
      },
      "execution_count": 14,
      "outputs": [
        {
          "output_type": "execute_result",
          "data": {
            "text/plain": [
              "-11.580389185131278"
            ]
          },
          "metadata": {},
          "execution_count": 14
        }
      ]
    },
    {
      "cell_type": "code",
      "source": [
        "# recalulate Test Statistics using 'stats' library\n",
        "Test_rating = stats.ttest_ind(Yelp_rating, \n",
        "                       Google_rating, \n",
        "                       equal_var=False\n",
        "                       )\n",
        "Test_rating.statistic"
      ],
      "metadata": {
        "colab": {
          "base_uri": "https://localhost:8080/"
        },
        "id": "Hl6X_a6YgEFB",
        "outputId": "cabe4968-b6bd-40d5-d421-d4e342ea06e9"
      },
      "execution_count": 15,
      "outputs": [
        {
          "output_type": "execute_result",
          "data": {
            "text/plain": [
              "-11.580389185131295"
            ]
          },
          "metadata": {},
          "execution_count": 15
        }
      ]
    },
    {
      "cell_type": "code",
      "source": [
        "Test_rating.pvalue"
      ],
      "metadata": {
        "colab": {
          "base_uri": "https://localhost:8080/"
        },
        "id": "O8MdyZw6gjQI",
        "outputId": "4eb0463d-3d71-4a83-9df5-709d5042a592"
      },
      "execution_count": 16,
      "outputs": [
        {
          "output_type": "execute_result",
          "data": {
            "text/plain": [
              "2.3678739029063522e-26"
            ]
          },
          "metadata": {},
          "execution_count": 16
        }
      ]
    },
    {
      "cell_type": "markdown",
      "source": [
        "Step 4. Make Conclusion\n",
        "\n",
        "The T-score we calculated is correct, just the same as calculated by the 'stats' library.\n",
        "\n",
        "Our conclusion:\n",
        "\n",
        "T-score vs. 95% cutoff: |-11.58| > 1.96\n",
        "\n",
        "p-val vs. 5%: close to 0 < 0.05\n",
        "\n",
        "95% CI: (-0.6764, -0.4806)\n",
        "\n",
        "Conclusion: Reject H0 => There is a siginificant difference in Rating between Yelp/Google group."
      ],
      "metadata": {
        "id": "tWnixtC0gq8G"
      }
    },
    {
      "cell_type": "markdown",
      "source": [
        "**Q3.C: For what types of restaurants (location, price rating, cuisine, etc) are the review ratings most different?  What factors might explain the results?**<br/>\n",
        "As we can see in below charts, no matter from area, cuisine or price rating, Google rating tends to be higher than Yelp rating. This might because of the different nature of the review process: users tend to use Google map to the restaurant, and with pop box when they finished meal, user could easily access for review and rating, therefore, ratings tend to be higher with just single click. However, for Yelp, users need motivation to open the app and write review with rating, which is more serious about their experience."
      ],
      "metadata": {
        "id": "jP9eN-Tyo9Rq"
      }
    },
    {
      "cell_type": "markdown",
      "source": [
        "a. By Top 10 Area<br/>\n"
      ],
      "metadata": {
        "id": "gp2_qejkGpCY"
      }
    },
    {
      "cell_type": "code",
      "source": [
        "area_weight_df = pd.DataFrame(data_clean.groupby('Area').Name.count().sort_values(ascending = False))\n",
        "area_weight_df.columns = ['counts']\n",
        "top_10_area_name = area_weight_df[0:10].index\n",
        "top_10_area_data = data_clean[data_clean.Area.isin(top_10_area_name)]"
      ],
      "metadata": {
        "id": "WpMl7vWTtBGH"
      },
      "execution_count": 17,
      "outputs": []
    },
    {
      "cell_type": "code",
      "source": [
        "f, ax = plt.subplots(figsize=(30, 5))\n",
        "fig = sns.boxplot(x='Area', y='Yelp_rating', data=top_10_area_data, showfliers = False, palette = \"flare\")\n",
        "fig = sns.boxplot(x='Area', y='Google_rating', data=top_10_area_data, showfliers = False, palette = \"crest\")\n",
        "plt.legend([\"Google in blue on the top\", \"Yelp in red in bottom\"])\n",
        "plt.show()\n",
        " #https://stackoverflow.com/questions/9622163/save-plot-to-image-file-instead-of-displaying-it-using-matplotlib"
      ],
      "metadata": {
        "colab": {
          "base_uri": "https://localhost:8080/",
          "height": 273
        },
        "id": "QOtRSLZ512v0",
        "outputId": "fc8da864-5146-4c8a-c734-940dae07e192"
      },
      "execution_count": 18,
      "outputs": [
        {
          "output_type": "display_data",
          "data": {
            "image/png": "[encoded data removed]",
            "text/plain": [
              "<Figure size 2160x360 with 1 Axes>"
            ]
          },
          "metadata": {
            "needs_background": "light"
          }
        }
      ]
    },
    {
      "cell_type": "markdown",
      "source": [
        "b.\tBy Top 15 Google_cuisine<br/>\n"
      ],
      "metadata": {
        "id": "Wm23NZ4TG2Mx"
      }
    },
    {
      "cell_type": "code",
      "source": [
        "cuisine_weight_df = pd.DataFrame(data_clean.groupby('Google_cuisine').Name.count().sort_values(ascending = False))\n",
        "cuisine_weight_df.columns = ['counts']\n",
        "top_15_cuisine_name = cuisine_weight_df[0:15].index\n",
        "top_15_cuisine_data = data_clean[data_clean.Google_cuisine.isin(top_15_cuisine_name)]"
      ],
      "metadata": {
        "id": "drGH8Ea79S5D"
      },
      "execution_count": 21,
      "outputs": []
    },
    {
      "cell_type": "code",
      "source": [
        "f, ax = plt.subplots(figsize=(30, 5))\n",
        "fig = sns.boxplot(x='Google_cuisine', y='Yelp_rating', data=top_15_cuisine_data, showfliers = False,palette = \"flare\")\n",
        "fig = sns.boxplot(x='Google_cuisine', y='Google_rating', data=top_15_cuisine_data, showfliers = False, palette = \"crest\")\n",
        "plt.legend([\"Google in blue on the top\", \"Yelp in red in bottom\"])\n",
        "plt.show()"
      ],
      "metadata": {
        "colab": {
          "base_uri": "https://localhost:8080/",
          "height": 274
        },
        "id": "S51HXXNd9xPC",
        "outputId": "a2514758-518e-4210-8263-eb6aef808d5e"
      },
      "execution_count": 26,
      "outputs": [
        {
          "output_type": "display_data",
          "data": {
            "image/png": "[encoded data removed]",
            "text/plain": [
              "<Figure size 2160x360 with 1 Axes>"
            ]
          },
          "metadata": {
            "needs_background": "light"
          }
        }
      ]
    },
    {
      "cell_type": "markdown",
      "source": [
        "c. By Google price rating<br/>\n",
        " \n"
      ],
      "metadata": {
        "id": "YxY-ZSdJ2pVe"
      }
    },
    {
      "cell_type": "code",
      "source": [
        "cost_df = pd.concat([data_clean.groupby('cost_level_Google').size(),data_clean.groupby('cost_level_Google').Yelp_rating.mean(), data_clean.groupby('cost_level_Google').Google_rating.mean()], axis = 1)\n",
        "cost_df"
      ],
      "metadata": {
        "colab": {
          "base_uri": "https://localhost:8080/",
          "height": 237
        },
        "id": "xabr_48Oz8Gt",
        "outputId": "daec2248-20ce-41ce-ac44-1e2c557ced5d"
      },
      "execution_count": 27,
      "outputs": [
        {
          "output_type": "execute_result",
          "data": {
            "text/html": [
              "\n",
              "  <div id=\"df-54f8a57e-5596-494d-bc62-beaefd9bfe6d\">\n",
              "    <div class=\"colab-df-container\">\n",
              "      <div>\n",
              "<style scoped>\n",
              "    .dataframe tbody tr th:only-of-type {\n",
              "        vertical-align: middle;\n",
              "    }\n",
              "\n",
              "    .dataframe tbody tr th {\n",
              "        vertical-align: top;\n",
              "    }\n",
              "\n",
              "    .dataframe thead th {\n",
              "        text-align: right;\n",
              "    }\n",
              "</style>\n",
              "<table border=\"1\" class=\"dataframe\">\n",
              "  <thead>\n",
              "    <tr style=\"text-align: right;\">\n",
              "      <th></th>\n",
              "      <th>0</th>\n",
              "      <th>Yelp_rating</th>\n",
              "      <th>Google_rating</th>\n",
              "    </tr>\n",
              "    <tr>\n",
              "      <th>cost_level_Google</th>\n",
              "      <th></th>\n",
              "      <th></th>\n",
              "      <th></th>\n",
              "    </tr>\n",
              "  </thead>\n",
              "  <tbody>\n",
              "    <tr>\n",
              "      <th>$</th>\n",
              "      <td>35</td>\n",
              "      <td>3.5857</td>\n",
              "      <td>4.1857</td>\n",
              "    </tr>\n",
              "    <tr>\n",
              "      <th>$$</th>\n",
              "      <td>91</td>\n",
              "      <td>3.6429</td>\n",
              "      <td>4.2297</td>\n",
              "    </tr>\n",
              "    <tr>\n",
              "      <th>$$$</th>\n",
              "      <td>23</td>\n",
              "      <td>3.8913</td>\n",
              "      <td>4.3696</td>\n",
              "    </tr>\n",
              "    <tr>\n",
              "      <th>$$$$</th>\n",
              "      <td>4</td>\n",
              "      <td>3.7500</td>\n",
              "      <td>4.2750</td>\n",
              "    </tr>\n",
              "    <tr>\n",
              "      <th>Unknown</th>\n",
              "      <td>47</td>\n",
              "      <td>3.7021</td>\n",
              "      <td>4.3021</td>\n",
              "    </tr>\n",
              "  </tbody>\n",
              "</table>\n",
              "</div>\n",
              "      <button class=\"colab-df-convert\" onclick=\"convertToInteractive('df-54f8a57e-5596-494d-bc62-beaefd9bfe6d')\"\n",
              "              title=\"Convert this dataframe to an interactive table.\"\n",
              "              style=\"display:none;\">\n",
              "        \n",
              "  <svg xmlns=\"http://www.w3.org/2000/svg\" height=\"24px\"viewBox=\"0 0 24 24\"\n",
              "       width=\"24px\">\n",
              "    <path d=\"M0 0h24v24H0V0z\" fill=\"none\"/>\n",
              "    <path d=\"M18.56 5.44l.94 2.06.94-2.06 2.06-.94-2.06-.94-.94-2.06-.94 2.06-2.06.94zm-11 1L8.5 8.5l.94-2.06 2.06-.94-2.06-.94L8.5 2.5l-.94 2.06-2.06.94zm10 10l.94 2.06.94-2.06 2.06-.94-2.06-.94-.94-2.06-.94 2.06-2.06.94z\"/><path d=\"M17.41 7.96l-1.37-1.37c-.4-.4-.92-.59-1.43-.59-.52 0-1.04.2-1.43.59L10.3 9.45l-7.72 7.72c-.78.78-.78 2.05 0 2.83L4 21.41c.39.39.9.59 1.41.59.51 0 1.02-.2 1.41-.59l7.78-7.78 2.81-2.81c.8-.78.8-2.07 0-2.86zM5.41 20L4 18.59l7.72-7.72 1.47 1.35L5.41 20z\"/>\n",
              "  </svg>\n",
              "      </button>\n",
              "      \n",
              "  <style>\n",
              "    .colab-df-container {\n",
              "      display:flex;\n",
              "      flex-wrap:wrap;\n",
              "      gap: 12px;\n",
              "    }\n",
              "\n",
              "    .colab-df-convert {\n",
              "      background-color: #E8F0FE;\n",
              "      border: none;\n",
              "      border-radius: 50%;\n",
              "      cursor: pointer;\n",
              "      display: none;\n",
              "      fill: #1967D2;\n",
              "      height: 32px;\n",
              "      padding: 0 0 0 0;\n",
              "      width: 32px;\n",
              "    }\n",
              "\n",
              "    .colab-df-convert:hover {\n",
              "      background-color: #E2EBFA;\n",
              "      box-shadow: 0px 1px 2px rgba(60, 64, 67, 0.3), 0px 1px 3px 1px rgba(60, 64, 67, 0.15);\n",
              "      fill: #174EA6;\n",
              "    }\n",
              "\n",
              "    [theme=dark] .colab-df-convert {\n",
              "      background-color: #3B4455;\n",
              "      fill: #D2E3FC;\n",
              "    }\n",
              "\n",
              "    [theme=dark] .colab-df-convert:hover {\n",
              "      background-color: #434B5C;\n",
              "      box-shadow: 0px 1px 3px 1px rgba(0, 0, 0, 0.15);\n",
              "      filter: drop-shadow(0px 1px 2px rgba(0, 0, 0, 0.3));\n",
              "      fill: #FFFFFF;\n",
              "    }\n",
              "  </style>\n",
              "\n",
              "      <script>\n",
              "        const buttonEl =\n",
              "          document.querySelector('#df-54f8a57e-5596-494d-bc62-beaefd9bfe6d button.colab-df-convert');\n",
              "        buttonEl.style.display =\n",
              "          google.colab.kernel.accessAllowed ? 'block' : 'none';\n",
              "\n",
              "        async function convertToInteractive(key) {\n",
              "          const element = document.querySelector('#df-54f8a57e-5596-494d-bc62-beaefd9bfe6d');\n",
              "          const dataTable =\n",
              "            await google.colab.kernel.invokeFunction('convertToInteractive',\n",
              "                                                     [key], {});\n",
              "          if (!dataTable) return;\n",
              "\n",
              "          const docLinkHtml = 'Like what you see? Visit the ' +\n",
              "            '<a target=\"_blank\" href=https://colab.research.google.com/notebooks/data_table.ipynb>data table notebook</a>'\n",
              "            + ' to learn more about interactive tables.';\n",
              "          element.innerHTML = '';\n",
              "          dataTable['output_type'] = 'display_data';\n",
              "          await google.colab.output.renderOutput(dataTable, element);\n",
              "          const docLink = document.createElement('div');\n",
              "          docLink.innerHTML = docLinkHtml;\n",
              "          element.appendChild(docLink);\n",
              "        }\n",
              "      </script>\n",
              "    </div>\n",
              "  </div>\n",
              "  "
            ],
            "text/plain": [
              "                    0  Yelp_rating  Google_rating\n",
              "cost_level_Google                                \n",
              "$                  35       3.5857         4.1857\n",
              "$$                 91       3.6429         4.2297\n",
              "$$$                23       3.8913         4.3696\n",
              "$$$$                4       3.7500         4.2750\n",
              "Unknown            47       3.7021         4.3021"
            ]
          },
          "metadata": {},
          "execution_count": 27
        }
      ]
    },
    {
      "cell_type": "code",
      "source": [
        "cost_df.describe()"
      ],
      "metadata": {
        "colab": {
          "base_uri": "https://localhost:8080/",
          "height": 300
        },
        "id": "Wel00obQ5j1G",
        "outputId": "6c021ab5-7192-482a-e367-b6180681512a"
      },
      "execution_count": 28,
      "outputs": [
        {
          "output_type": "execute_result",
          "data": {
            "text/html": [
              "\n",
              "  <div id=\"df-042749ff-cd7c-4716-95ce-4911cd195549\">\n",
              "    <div class=\"colab-df-container\">\n",
              "      <div>\n",
              "<style scoped>\n",
              "    .dataframe tbody tr th:only-of-type {\n",
              "        vertical-align: middle;\n",
              "    }\n",
              "\n",
              "    .dataframe tbody tr th {\n",
              "        vertical-align: top;\n",
              "    }\n",
              "\n",
              "    .dataframe thead th {\n",
              "        text-align: right;\n",
              "    }\n",
              "</style>\n",
              "<table border=\"1\" class=\"dataframe\">\n",
              "  <thead>\n",
              "    <tr style=\"text-align: right;\">\n",
              "      <th></th>\n",
              "      <th>0</th>\n",
              "      <th>Yelp_rating</th>\n",
              "      <th>Google_rating</th>\n",
              "    </tr>\n",
              "  </thead>\n",
              "  <tbody>\n",
              "    <tr>\n",
              "      <th>count</th>\n",
              "      <td>5.0000</td>\n",
              "      <td>5.0000</td>\n",
              "      <td>5.0000</td>\n",
              "    </tr>\n",
              "    <tr>\n",
              "      <th>mean</th>\n",
              "      <td>40.0000</td>\n",
              "      <td>3.7144</td>\n",
              "      <td>4.2724</td>\n",
              "    </tr>\n",
              "    <tr>\n",
              "      <th>std</th>\n",
              "      <td>32.6343</td>\n",
              "      <td>0.1166</td>\n",
              "      <td>0.0701</td>\n",
              "    </tr>\n",
              "    <tr>\n",
              "      <th>min</th>\n",
              "      <td>4.0000</td>\n",
              "      <td>3.5857</td>\n",
              "      <td>4.1857</td>\n",
              "    </tr>\n",
              "    <tr>\n",
              "      <th>25%</th>\n",
              "      <td>23.0000</td>\n",
              "      <td>3.6429</td>\n",
              "      <td>4.2297</td>\n",
              "    </tr>\n",
              "    <tr>\n",
              "      <th>50%</th>\n",
              "      <td>35.0000</td>\n",
              "      <td>3.7021</td>\n",
              "      <td>4.2750</td>\n",
              "    </tr>\n",
              "    <tr>\n",
              "      <th>75%</th>\n",
              "      <td>47.0000</td>\n",
              "      <td>3.7500</td>\n",
              "      <td>4.3021</td>\n",
              "    </tr>\n",
              "    <tr>\n",
              "      <th>max</th>\n",
              "      <td>91.0000</td>\n",
              "      <td>3.8913</td>\n",
              "      <td>4.3696</td>\n",
              "    </tr>\n",
              "  </tbody>\n",
              "</table>\n",
              "</div>\n",
              "      <button class=\"colab-df-convert\" onclick=\"convertToInteractive('df-042749ff-cd7c-4716-95ce-4911cd195549')\"\n",
              "              title=\"Convert this dataframe to an interactive table.\"\n",
              "              style=\"display:none;\">\n",
              "        \n",
              "  <svg xmlns=\"http://www.w3.org/2000/svg\" height=\"24px\"viewBox=\"0 0 24 24\"\n",
              "       width=\"24px\">\n",
              "    <path d=\"M0 0h24v24H0V0z\" fill=\"none\"/>\n",
              "    <path d=\"M18.56 5.44l.94 2.06.94-2.06 2.06-.94-2.06-.94-.94-2.06-.94 2.06-2.06.94zm-11 1L8.5 8.5l.94-2.06 2.06-.94-2.06-.94L8.5 2.5l-.94 2.06-2.06.94zm10 10l.94 2.06.94-2.06 2.06-.94-2.06-.94-.94-2.06-.94 2.06-2.06.94z\"/><path d=\"M17.41 7.96l-1.37-1.37c-.4-.4-.92-.59-1.43-.59-.52 0-1.04.2-1.43.59L10.3 9.45l-7.72 7.72c-.78.78-.78 2.05 0 2.83L4 21.41c.39.39.9.59 1.41.59.51 0 1.02-.2 1.41-.59l7.78-7.78 2.81-2.81c.8-.78.8-2.07 0-2.86zM5.41 20L4 18.59l7.72-7.72 1.47 1.35L5.41 20z\"/>\n",
              "  </svg>\n",
              "      </button>\n",
              "      \n",
              "  <style>\n",
              "    .colab-df-container {\n",
              "      display:flex;\n",
              "      flex-wrap:wrap;\n",
              "      gap: 12px;\n",
              "    }\n",
              "\n",
              "    .colab-df-convert {\n",
              "      background-color: #E8F0FE;\n",
              "      border: none;\n",
              "      border-radius: 50%;\n",
              "      cursor: pointer;\n",
              "      display: none;\n",
              "      fill: #1967D2;\n",
              "      height: 32px;\n",
              "      padding: 0 0 0 0;\n",
              "      width: 32px;\n",
              "    }\n",
              "\n",
              "    .colab-df-convert:hover {\n",
              "      background-color: #E2EBFA;\n",
              "      box-shadow: 0px 1px 2px rgba(60, 64, 67, 0.3), 0px 1px 3px 1px rgba(60, 64, 67, 0.15);\n",
              "      fill: #174EA6;\n",
              "    }\n",
              "\n",
              "    [theme=dark] .colab-df-convert {\n",
              "      background-color: #3B4455;\n",
              "      fill: #D2E3FC;\n",
              "    }\n",
              "\n",
              "    [theme=dark] .colab-df-convert:hover {\n",
              "      background-color: #434B5C;\n",
              "      box-shadow: 0px 1px 3px 1px rgba(0, 0, 0, 0.15);\n",
              "      filter: drop-shadow(0px 1px 2px rgba(0, 0, 0, 0.3));\n",
              "      fill: #FFFFFF;\n",
              "    }\n",
              "  </style>\n",
              "\n",
              "      <script>\n",
              "        const buttonEl =\n",
              "          document.querySelector('#df-042749ff-cd7c-4716-95ce-4911cd195549 button.colab-df-convert');\n",
              "        buttonEl.style.display =\n",
              "          google.colab.kernel.accessAllowed ? 'block' : 'none';\n",
              "\n",
              "        async function convertToInteractive(key) {\n",
              "          const element = document.querySelector('#df-042749ff-cd7c-4716-95ce-4911cd195549');\n",
              "          const dataTable =\n",
              "            await google.colab.kernel.invokeFunction('convertToInteractive',\n",
              "                                                     [key], {});\n",
              "          if (!dataTable) return;\n",
              "\n",
              "          const docLinkHtml = 'Like what you see? Visit the ' +\n",
              "            '<a target=\"_blank\" href=https://colab.research.google.com/notebooks/data_table.ipynb>data table notebook</a>'\n",
              "            + ' to learn more about interactive tables.';\n",
              "          element.innerHTML = '';\n",
              "          dataTable['output_type'] = 'display_data';\n",
              "          await google.colab.output.renderOutput(dataTable, element);\n",
              "          const docLink = document.createElement('div');\n",
              "          docLink.innerHTML = docLinkHtml;\n",
              "          element.appendChild(docLink);\n",
              "        }\n",
              "      </script>\n",
              "    </div>\n",
              "  </div>\n",
              "  "
            ],
            "text/plain": [
              "            0  Yelp_rating  Google_rating\n",
              "count  5.0000       5.0000         5.0000\n",
              "mean  40.0000       3.7144         4.2724\n",
              "std   32.6343       0.1166         0.0701\n",
              "min    4.0000       3.5857         4.1857\n",
              "25%   23.0000       3.6429         4.2297\n",
              "50%   35.0000       3.7021         4.2750\n",
              "75%   47.0000       3.7500         4.3021\n",
              "max   91.0000       3.8913         4.3696"
            ]
          },
          "metadata": {},
          "execution_count": 28
        }
      ]
    }
  ]
}