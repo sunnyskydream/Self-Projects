{
  "nbformat": 4,
  "nbformat_minor": 0,
  "metadata": {
    "colab": {
      "name": "[Project] Yelp case.ipynb",
      "provenance": [],
      "collapsed_sections": [],
      "authorship_tag": "ABX9TyM9UxyOIsjAKofDJWBqWLw6",
      "include_colab_link": true
    },
    "kernelspec": {
      "name": "python3",
      "display_name": "Python 3"
    }
  },
  "cells": [
    {
      "cell_type": "markdown",
      "metadata": {
        "id": "view-in-github",
        "colab_type": "text"
      },
      "source": [
        "<a href=\"https://colab.research.google.com/github/sunnyskydream/Self-projects/blob/main/%5BProject%5D_Yelp_case.ipynb\" target=\"_parent\"><img src=\"https://colab.research.google.com/assets/colab-badge.svg\" alt=\"Open In Colab\"/></a>"
      ]
    },
    {
      "cell_type": "markdown",
      "source": [
        "BANA 277 Customer and Social Analytics_coursework\n",
        "\n",
        "Yelp Case\n",
        "https://store.hbr.org/product/yelp/709412\n",
        "\n",
        "Learning:<br/>\n",
        "*   t-test\n",
        "*   exploratory data analysis: Yelp rating by Area and Google_cuisine\n",
        "\n",
        "\n"
      ],
      "metadata": {
        "id": "_hFIomKDHG6x"
      }
    },
    {
      "cell_type": "markdown",
      "source": [
        "**Data preparation and cleaning**"
      ],
      "metadata": {
        "id": "Nas5A5xojOAc"
      }
    },
    {
      "cell_type": "code",
      "metadata": {
        "id": "63xpiJTEJVQH",
        "outputId": "c12023aa-37ff-4edc-871e-549f84d17a85",
        "colab": {
          "base_uri": "https://localhost:8080/",
          "height": 461
        }
      },
      "source": [
        "import pandas as pd \n",
        "pd.set_option('display.float_format', lambda x: '%.4f' % x)\n",
        "\n",
        "data = pd.read_excel('test_G_Y_matching.xlsx', dtype={'cost level_Google':str} )\n",
        "data.rename(columns={\"cost level_Google\": \"cost_level_Google\"},inplace=True)\n",
        "data.sample(5)"
      ],
      "execution_count": 14,
      "outputs": [
        {
          "output_type": "execute_result",
          "data": {
            "text/html": [
              "\n",
              "  <div id=\"df-463767e0-6547-4bdb-9b8d-b2c9483ea7b8\">\n",
              "    <div class=\"colab-df-container\">\n",
              "      <div>\n",
              "<style scoped>\n",
              "    .dataframe tbody tr th:only-of-type {\n",
              "        vertical-align: middle;\n",
              "    }\n",
              "\n",
              "    .dataframe tbody tr th {\n",
              "        vertical-align: top;\n",
              "    }\n",
              "\n",
              "    .dataframe thead th {\n",
              "        text-align: right;\n",
              "    }\n",
              "</style>\n",
              "<table border=\"1\" class=\"dataframe\">\n",
              "  <thead>\n",
              "    <tr style=\"text-align: right;\">\n",
              "      <th></th>\n",
              "      <th>Name</th>\n",
              "      <th>Yelp_review_count</th>\n",
              "      <th>Google_review_count</th>\n",
              "      <th>Yelp_rating</th>\n",
              "      <th>Google_rating</th>\n",
              "      <th>Yelp_cuisine</th>\n",
              "      <th>Google_cuisine</th>\n",
              "      <th>cost_level_Google</th>\n",
              "      <th>Area</th>\n",
              "      <th>Zipcode</th>\n",
              "      <th>Count_of_likes_Google</th>\n",
              "      <th>Count_of_useful_Yelp</th>\n",
              "      <th>Count_of_funny_Yelp</th>\n",
              "      <th>Count_of_cool_Yelp</th>\n",
              "    </tr>\n",
              "  </thead>\n",
              "  <tbody>\n",
              "    <tr>\n",
              "      <th>131</th>\n",
              "      <td>Original Oyster House</td>\n",
              "      <td>132</td>\n",
              "      <td>171</td>\n",
              "      <td>3.0000</td>\n",
              "      <td>3.7000</td>\n",
              "      <td>Seafood, Restaurants</td>\n",
              "      <td>Restaurant</td>\n",
              "      <td>$</td>\n",
              "      <td>Downtown</td>\n",
              "      <td>15222</td>\n",
              "      <td>29</td>\n",
              "      <td>0</td>\n",
              "      <td>0</td>\n",
              "      <td>0</td>\n",
              "    </tr>\n",
              "    <tr>\n",
              "      <th>43</th>\n",
              "      <td>Thai Hana</td>\n",
              "      <td>124</td>\n",
              "      <td>196</td>\n",
              "      <td>3.0000</td>\n",
              "      <td>4.4000</td>\n",
              "      <td>Thai, Restaurants, Sushi Bars, Japanese</td>\n",
              "      <td>Thai</td>\n",
              "      <td>NaN</td>\n",
              "      <td>Oakland</td>\n",
              "      <td>15213</td>\n",
              "      <td>33</td>\n",
              "      <td>103</td>\n",
              "      <td>40</td>\n",
              "      <td>50</td>\n",
              "    </tr>\n",
              "    <tr>\n",
              "      <th>119</th>\n",
              "      <td>Lucca</td>\n",
              "      <td>106</td>\n",
              "      <td>125</td>\n",
              "      <td>3.5000</td>\n",
              "      <td>3.9000</td>\n",
              "      <td>Restaurants, Italian, Seafood</td>\n",
              "      <td>Italian</td>\n",
              "      <td>NaN</td>\n",
              "      <td>Oakland</td>\n",
              "      <td>15213</td>\n",
              "      <td>19</td>\n",
              "      <td>116</td>\n",
              "      <td>26</td>\n",
              "      <td>30</td>\n",
              "    </tr>\n",
              "    <tr>\n",
              "      <th>133</th>\n",
              "      <td>UUBU 6</td>\n",
              "      <td>13</td>\n",
              "      <td>25</td>\n",
              "      <td>3.5000</td>\n",
              "      <td>4.7000</td>\n",
              "      <td>Restaurants, American (New)</td>\n",
              "      <td>American</td>\n",
              "      <td>$</td>\n",
              "      <td>South Side Slopes</td>\n",
              "      <td>15203</td>\n",
              "      <td>0</td>\n",
              "      <td>23</td>\n",
              "      <td>4</td>\n",
              "      <td>2</td>\n",
              "    </tr>\n",
              "    <tr>\n",
              "      <th>82</th>\n",
              "      <td>Umi</td>\n",
              "      <td>128</td>\n",
              "      <td>64</td>\n",
              "      <td>4.0000</td>\n",
              "      <td>4.1000</td>\n",
              "      <td>Restaurants, Sushi Bars, Japanese</td>\n",
              "      <td>Japanese</td>\n",
              "      <td>$$$$</td>\n",
              "      <td>Shadyside</td>\n",
              "      <td>15232</td>\n",
              "      <td>22</td>\n",
              "      <td>244</td>\n",
              "      <td>68</td>\n",
              "      <td>66</td>\n",
              "    </tr>\n",
              "  </tbody>\n",
              "</table>\n",
              "</div>\n",
              "      <button class=\"colab-df-convert\" onclick=\"convertToInteractive('df-463767e0-6547-4bdb-9b8d-b2c9483ea7b8')\"\n",
              "              title=\"Convert this dataframe to an interactive table.\"\n",
              "              style=\"display:none;\">\n",
              "        \n",
              "  <svg xmlns=\"http://www.w3.org/2000/svg\" height=\"24px\"viewBox=\"0 0 24 24\"\n",
              "       width=\"24px\">\n",
              "    <path d=\"M0 0h24v24H0V0z\" fill=\"none\"/>\n",
              "    <path d=\"M18.56 5.44l.94 2.06.94-2.06 2.06-.94-2.06-.94-.94-2.06-.94 2.06-2.06.94zm-11 1L8.5 8.5l.94-2.06 2.06-.94-2.06-.94L8.5 2.5l-.94 2.06-2.06.94zm10 10l.94 2.06.94-2.06 2.06-.94-2.06-.94-.94-2.06-.94 2.06-2.06.94z\"/><path d=\"M17.41 7.96l-1.37-1.37c-.4-.4-.92-.59-1.43-.59-.52 0-1.04.2-1.43.59L10.3 9.45l-7.72 7.72c-.78.78-.78 2.05 0 2.83L4 21.41c.39.39.9.59 1.41.59.51 0 1.02-.2 1.41-.59l7.78-7.78 2.81-2.81c.8-.78.8-2.07 0-2.86zM5.41 20L4 18.59l7.72-7.72 1.47 1.35L5.41 20z\"/>\n",
              "  </svg>\n",
              "      </button>\n",
              "      \n",
              "  <style>\n",
              "    .colab-df-container {\n",
              "      display:flex;\n",
              "      flex-wrap:wrap;\n",
              "      gap: 12px;\n",
              "    }\n",
              "\n",
              "    .colab-df-convert {\n",
              "      background-color: #E8F0FE;\n",
              "      border: none;\n",
              "      border-radius: 50%;\n",
              "      cursor: pointer;\n",
              "      display: none;\n",
              "      fill: #1967D2;\n",
              "      height: 32px;\n",
              "      padding: 0 0 0 0;\n",
              "      width: 32px;\n",
              "    }\n",
              "\n",
              "    .colab-df-convert:hover {\n",
              "      background-color: #E2EBFA;\n",
              "      box-shadow: 0px 1px 2px rgba(60, 64, 67, 0.3), 0px 1px 3px 1px rgba(60, 64, 67, 0.15);\n",
              "      fill: #174EA6;\n",
              "    }\n",
              "\n",
              "    [theme=dark] .colab-df-convert {\n",
              "      background-color: #3B4455;\n",
              "      fill: #D2E3FC;\n",
              "    }\n",
              "\n",
              "    [theme=dark] .colab-df-convert:hover {\n",
              "      background-color: #434B5C;\n",
              "      box-shadow: 0px 1px 3px 1px rgba(0, 0, 0, 0.15);\n",
              "      filter: drop-shadow(0px 1px 2px rgba(0, 0, 0, 0.3));\n",
              "      fill: #FFFFFF;\n",
              "    }\n",
              "  </style>\n",
              "\n",
              "      <script>\n",
              "        const buttonEl =\n",
              "          document.querySelector('#df-463767e0-6547-4bdb-9b8d-b2c9483ea7b8 button.colab-df-convert');\n",
              "        buttonEl.style.display =\n",
              "          google.colab.kernel.accessAllowed ? 'block' : 'none';\n",
              "\n",
              "        async function convertToInteractive(key) {\n",
              "          const element = document.querySelector('#df-463767e0-6547-4bdb-9b8d-b2c9483ea7b8');\n",
              "          const dataTable =\n",
              "            await google.colab.kernel.invokeFunction('convertToInteractive',\n",
              "                                                     [key], {});\n",
              "          if (!dataTable) return;\n",
              "\n",
              "          const docLinkHtml = 'Like what you see? Visit the ' +\n",
              "            '<a target=\"_blank\" href=https://colab.research.google.com/notebooks/data_table.ipynb>data table notebook</a>'\n",
              "            + ' to learn more about interactive tables.';\n",
              "          element.innerHTML = '';\n",
              "          dataTable['output_type'] = 'display_data';\n",
              "          await google.colab.output.renderOutput(dataTable, element);\n",
              "          const docLink = document.createElement('div');\n",
              "          docLink.innerHTML = docLinkHtml;\n",
              "          element.appendChild(docLink);\n",
              "        }\n",
              "      </script>\n",
              "    </div>\n",
              "  </div>\n",
              "  "
            ],
            "text/plain": [
              "                      Name  ...  Count_of_cool_Yelp\n",
              "131  Original Oyster House  ...                   0\n",
              "43               Thai Hana  ...                  50\n",
              "119                  Lucca  ...                  30\n",
              "133                 UUBU 6  ...                   2\n",
              "82                     Umi  ...                  66\n",
              "\n",
              "[5 rows x 14 columns]"
            ]
          },
          "metadata": {},
          "execution_count": 14
        }
      ]
    },
    {
      "cell_type": "code",
      "source": [
        "data.shape"
      ],
      "metadata": {
        "colab": {
          "base_uri": "https://localhost:8080/"
        },
        "id": "bwiwWbBqbktn",
        "outputId": "fff4b2d9-6b8b-4feb-bc63-dd7e498b45d7"
      },
      "execution_count": 15,
      "outputs": [
        {
          "output_type": "execute_result",
          "data": {
            "text/plain": [
              "(200, 14)"
            ]
          },
          "metadata": {},
          "execution_count": 15
        }
      ]
    },
    {
      "cell_type": "code",
      "source": [
        "data.duplicated().sum()"
      ],
      "metadata": {
        "colab": {
          "base_uri": "https://localhost:8080/"
        },
        "id": "IjAFDlwMbvS3",
        "outputId": "227d4dac-0b05-4bcc-cb9d-3c6e813e615e"
      },
      "execution_count": 16,
      "outputs": [
        {
          "output_type": "execute_result",
          "data": {
            "text/plain": [
              "0"
            ]
          },
          "metadata": {},
          "execution_count": 16
        }
      ]
    },
    {
      "cell_type": "code",
      "source": [
        "data.info()"
      ],
      "metadata": {
        "colab": {
          "base_uri": "https://localhost:8080/"
        },
        "id": "T49efyR7b8gM",
        "outputId": "b1e3c8b5-a881-4d00-de22-3bf7ef7bce46"
      },
      "execution_count": 17,
      "outputs": [
        {
          "output_type": "stream",
          "name": "stdout",
          "text": [
            "<class 'pandas.core.frame.DataFrame'>\n",
            "RangeIndex: 200 entries, 0 to 199\n",
            "Data columns (total 14 columns):\n",
            " #   Column                 Non-Null Count  Dtype  \n",
            "---  ------                 --------------  -----  \n",
            " 0   Name                   200 non-null    object \n",
            " 1   Yelp_review_count      200 non-null    int64  \n",
            " 2   Google_review_count    200 non-null    int64  \n",
            " 3   Yelp_rating            200 non-null    float64\n",
            " 4   Google_rating          200 non-null    float64\n",
            " 5   Yelp_cuisine           200 non-null    object \n",
            " 6   Google_cuisine         200 non-null    object \n",
            " 7   cost_level_Google      153 non-null    object \n",
            " 8   Area                   173 non-null    object \n",
            " 9   Zipcode                200 non-null    int64  \n",
            " 10  Count_of_likes_Google  200 non-null    int64  \n",
            " 11  Count_of_useful_Yelp   200 non-null    int64  \n",
            " 12  Count_of_funny_Yelp    200 non-null    int64  \n",
            " 13  Count_of_cool_Yelp     200 non-null    int64  \n",
            "dtypes: float64(2), int64(7), object(5)\n",
            "memory usage: 22.0+ KB\n"
          ]
        }
      ]
    },
    {
      "cell_type": "code",
      "source": [
        "data.isna().sum()"
      ],
      "metadata": {
        "colab": {
          "base_uri": "https://localhost:8080/"
        },
        "id": "dV2mhOUfcJiS",
        "outputId": "20ada470-bc32-441f-b86f-a17adc4fe6f1"
      },
      "execution_count": 18,
      "outputs": [
        {
          "output_type": "execute_result",
          "data": {
            "text/plain": [
              "Name                      0\n",
              "Yelp_review_count         0\n",
              "Google_review_count       0\n",
              "Yelp_rating               0\n",
              "Google_rating             0\n",
              "Yelp_cuisine              0\n",
              "Google_cuisine            0\n",
              "cost_level_Google        47\n",
              "Area                     27\n",
              "Zipcode                   0\n",
              "Count_of_likes_Google     0\n",
              "Count_of_useful_Yelp      0\n",
              "Count_of_funny_Yelp       0\n",
              "Count_of_cool_Yelp        0\n",
              "dtype: int64"
            ]
          },
          "metadata": {},
          "execution_count": 18
        }
      ]
    },
    {
      "cell_type": "code",
      "source": [
        "data_clean = data.fillna('Unknown')\n",
        "data_clean.isna().sum()"
      ],
      "metadata": {
        "colab": {
          "base_uri": "https://localhost:8080/"
        },
        "id": "eMEPIeBEcbwt",
        "outputId": "b21204fc-b012-4495-c09d-91b5fb19fcde"
      },
      "execution_count": 19,
      "outputs": [
        {
          "output_type": "execute_result",
          "data": {
            "text/plain": [
              "Name                     0\n",
              "Yelp_review_count        0\n",
              "Google_review_count      0\n",
              "Yelp_rating              0\n",
              "Google_rating            0\n",
              "Yelp_cuisine             0\n",
              "Google_cuisine           0\n",
              "cost_level_Google        0\n",
              "Area                     0\n",
              "Zipcode                  0\n",
              "Count_of_likes_Google    0\n",
              "Count_of_useful_Yelp     0\n",
              "Count_of_funny_Yelp      0\n",
              "Count_of_cool_Yelp       0\n",
              "dtype: int64"
            ]
          },
          "metadata": {},
          "execution_count": 19
        }
      ]
    },
    {
      "cell_type": "code",
      "source": [
        "data_clean.describe()"
      ],
      "metadata": {
        "colab": {
          "base_uri": "https://localhost:8080/",
          "height": 300
        },
        "id": "ttOfFY3jcoi6",
        "outputId": "0f057708-b118-4b87-8583-6cf3363b62e6"
      },
      "execution_count": 20,
      "outputs": [
        {
          "output_type": "execute_result",
          "data": {
            "text/html": [
              "\n",
              "  <div id=\"df-6784ba10-a6c9-4c44-b6cd-83d97e9d21ed\">\n",
              "    <div class=\"colab-df-container\">\n",
              "      <div>\n",
              "<style scoped>\n",
              "    .dataframe tbody tr th:only-of-type {\n",
              "        vertical-align: middle;\n",
              "    }\n",
              "\n",
              "    .dataframe tbody tr th {\n",
              "        vertical-align: top;\n",
              "    }\n",
              "\n",
              "    .dataframe thead th {\n",
              "        text-align: right;\n",
              "    }\n",
              "</style>\n",
              "<table border=\"1\" class=\"dataframe\">\n",
              "  <thead>\n",
              "    <tr style=\"text-align: right;\">\n",
              "      <th></th>\n",
              "      <th>Yelp_review_count</th>\n",
              "      <th>Google_review_count</th>\n",
              "      <th>Yelp_rating</th>\n",
              "      <th>Google_rating</th>\n",
              "      <th>Zipcode</th>\n",
              "      <th>Count_of_likes_Google</th>\n",
              "      <th>Count_of_useful_Yelp</th>\n",
              "      <th>Count_of_funny_Yelp</th>\n",
              "      <th>Count_of_cool_Yelp</th>\n",
              "    </tr>\n",
              "  </thead>\n",
              "  <tbody>\n",
              "    <tr>\n",
              "      <th>count</th>\n",
              "      <td>200.0000</td>\n",
              "      <td>200.0000</td>\n",
              "      <td>200.0000</td>\n",
              "      <td>200.0000</td>\n",
              "      <td>200.0000</td>\n",
              "      <td>200.0000</td>\n",
              "      <td>200.0000</td>\n",
              "      <td>200.0000</td>\n",
              "      <td>200.0000</td>\n",
              "    </tr>\n",
              "    <tr>\n",
              "      <th>mean</th>\n",
              "      <td>176.2600</td>\n",
              "      <td>275.7700</td>\n",
              "      <td>3.6775</td>\n",
              "      <td>4.2560</td>\n",
              "      <td>15217.5550</td>\n",
              "      <td>22.3350</td>\n",
              "      <td>203.2350</td>\n",
              "      <td>66.1050</td>\n",
              "      <td>103.3800</td>\n",
              "    </tr>\n",
              "    <tr>\n",
              "      <th>std</th>\n",
              "      <td>222.8826</td>\n",
              "      <td>283.2935</td>\n",
              "      <td>0.5950</td>\n",
              "      <td>0.3809</td>\n",
              "      <td>10.6967</td>\n",
              "      <td>27.2742</td>\n",
              "      <td>256.6012</td>\n",
              "      <td>101.2564</td>\n",
              "      <td>157.3152</td>\n",
              "    </tr>\n",
              "    <tr>\n",
              "      <th>min</th>\n",
              "      <td>3.0000</td>\n",
              "      <td>2.0000</td>\n",
              "      <td>2.0000</td>\n",
              "      <td>2.9000</td>\n",
              "      <td>15201.0000</td>\n",
              "      <td>0.0000</td>\n",
              "      <td>0.0000</td>\n",
              "      <td>0.0000</td>\n",
              "      <td>0.0000</td>\n",
              "    </tr>\n",
              "    <tr>\n",
              "      <th>25%</th>\n",
              "      <td>42.7500</td>\n",
              "      <td>104.0000</td>\n",
              "      <td>3.5000</td>\n",
              "      <td>4.1000</td>\n",
              "      <td>15211.0000</td>\n",
              "      <td>8.0000</td>\n",
              "      <td>47.2500</td>\n",
              "      <td>14.7500</td>\n",
              "      <td>21.0000</td>\n",
              "    </tr>\n",
              "    <tr>\n",
              "      <th>50%</th>\n",
              "      <td>113.0000</td>\n",
              "      <td>181.0000</td>\n",
              "      <td>4.0000</td>\n",
              "      <td>4.3000</td>\n",
              "      <td>15219.0000</td>\n",
              "      <td>14.0000</td>\n",
              "      <td>120.5000</td>\n",
              "      <td>32.0000</td>\n",
              "      <td>53.5000</td>\n",
              "    </tr>\n",
              "    <tr>\n",
              "      <th>75%</th>\n",
              "      <td>223.2500</td>\n",
              "      <td>375.0000</td>\n",
              "      <td>4.0000</td>\n",
              "      <td>4.5000</td>\n",
              "      <td>15222.0000</td>\n",
              "      <td>29.0000</td>\n",
              "      <td>250.0000</td>\n",
              "      <td>81.2500</td>\n",
              "      <td>119.0000</td>\n",
              "    </tr>\n",
              "    <tr>\n",
              "      <th>max</th>\n",
              "      <td>1629.0000</td>\n",
              "      <td>1978.0000</td>\n",
              "      <td>4.5000</td>\n",
              "      <td>5.0000</td>\n",
              "      <td>15275.0000</td>\n",
              "      <td>250.0000</td>\n",
              "      <td>1930.0000</td>\n",
              "      <td>793.0000</td>\n",
              "      <td>1229.0000</td>\n",
              "    </tr>\n",
              "  </tbody>\n",
              "</table>\n",
              "</div>\n",
              "      <button class=\"colab-df-convert\" onclick=\"convertToInteractive('df-6784ba10-a6c9-4c44-b6cd-83d97e9d21ed')\"\n",
              "              title=\"Convert this dataframe to an interactive table.\"\n",
              "              style=\"display:none;\">\n",
              "        \n",
              "  <svg xmlns=\"http://www.w3.org/2000/svg\" height=\"24px\"viewBox=\"0 0 24 24\"\n",
              "       width=\"24px\">\n",
              "    <path d=\"M0 0h24v24H0V0z\" fill=\"none\"/>\n",
              "    <path d=\"M18.56 5.44l.94 2.06.94-2.06 2.06-.94-2.06-.94-.94-2.06-.94 2.06-2.06.94zm-11 1L8.5 8.5l.94-2.06 2.06-.94-2.06-.94L8.5 2.5l-.94 2.06-2.06.94zm10 10l.94 2.06.94-2.06 2.06-.94-2.06-.94-.94-2.06-.94 2.06-2.06.94z\"/><path d=\"M17.41 7.96l-1.37-1.37c-.4-.4-.92-.59-1.43-.59-.52 0-1.04.2-1.43.59L10.3 9.45l-7.72 7.72c-.78.78-.78 2.05 0 2.83L4 21.41c.39.39.9.59 1.41.59.51 0 1.02-.2 1.41-.59l7.78-7.78 2.81-2.81c.8-.78.8-2.07 0-2.86zM5.41 20L4 18.59l7.72-7.72 1.47 1.35L5.41 20z\"/>\n",
              "  </svg>\n",
              "      </button>\n",
              "      \n",
              "  <style>\n",
              "    .colab-df-container {\n",
              "      display:flex;\n",
              "      flex-wrap:wrap;\n",
              "      gap: 12px;\n",
              "    }\n",
              "\n",
              "    .colab-df-convert {\n",
              "      background-color: #E8F0FE;\n",
              "      border: none;\n",
              "      border-radius: 50%;\n",
              "      cursor: pointer;\n",
              "      display: none;\n",
              "      fill: #1967D2;\n",
              "      height: 32px;\n",
              "      padding: 0 0 0 0;\n",
              "      width: 32px;\n",
              "    }\n",
              "\n",
              "    .colab-df-convert:hover {\n",
              "      background-color: #E2EBFA;\n",
              "      box-shadow: 0px 1px 2px rgba(60, 64, 67, 0.3), 0px 1px 3px 1px rgba(60, 64, 67, 0.15);\n",
              "      fill: #174EA6;\n",
              "    }\n",
              "\n",
              "    [theme=dark] .colab-df-convert {\n",
              "      background-color: #3B4455;\n",
              "      fill: #D2E3FC;\n",
              "    }\n",
              "\n",
              "    [theme=dark] .colab-df-convert:hover {\n",
              "      background-color: #434B5C;\n",
              "      box-shadow: 0px 1px 3px 1px rgba(0, 0, 0, 0.15);\n",
              "      filter: drop-shadow(0px 1px 2px rgba(0, 0, 0, 0.3));\n",
              "      fill: #FFFFFF;\n",
              "    }\n",
              "  </style>\n",
              "\n",
              "      <script>\n",
              "        const buttonEl =\n",
              "          document.querySelector('#df-6784ba10-a6c9-4c44-b6cd-83d97e9d21ed button.colab-df-convert');\n",
              "        buttonEl.style.display =\n",
              "          google.colab.kernel.accessAllowed ? 'block' : 'none';\n",
              "\n",
              "        async function convertToInteractive(key) {\n",
              "          const element = document.querySelector('#df-6784ba10-a6c9-4c44-b6cd-83d97e9d21ed');\n",
              "          const dataTable =\n",
              "            await google.colab.kernel.invokeFunction('convertToInteractive',\n",
              "                                                     [key], {});\n",
              "          if (!dataTable) return;\n",
              "\n",
              "          const docLinkHtml = 'Like what you see? Visit the ' +\n",
              "            '<a target=\"_blank\" href=https://colab.research.google.com/notebooks/data_table.ipynb>data table notebook</a>'\n",
              "            + ' to learn more about interactive tables.';\n",
              "          element.innerHTML = '';\n",
              "          dataTable['output_type'] = 'display_data';\n",
              "          await google.colab.output.renderOutput(dataTable, element);\n",
              "          const docLink = document.createElement('div');\n",
              "          docLink.innerHTML = docLinkHtml;\n",
              "          element.appendChild(docLink);\n",
              "        }\n",
              "      </script>\n",
              "    </div>\n",
              "  </div>\n",
              "  "
            ],
            "text/plain": [
              "       Yelp_review_count   ...  Count_of_cool_Yelp\n",
              "count            200.0000  ...            200.0000\n",
              "mean             176.2600  ...            103.3800\n",
              "std              222.8826  ...            157.3152\n",
              "min                3.0000  ...              0.0000\n",
              "25%               42.7500  ...             21.0000\n",
              "50%              113.0000  ...             53.5000\n",
              "75%              223.2500  ...            119.0000\n",
              "max             1629.0000  ...           1229.0000\n",
              "\n",
              "[8 rows x 9 columns]"
            ]
          },
          "metadata": {},
          "execution_count": 20
        }
      ]
    },
    {
      "cell_type": "markdown",
      "source": [
        "**Q3.A: How do the two sites compare in terms of the number of reviews (Volume) and star rating (Valence)?**<br/>"
      ],
      "metadata": {
        "id": "blZbXSVLiYKd"
      }
    },
    {
      "cell_type": "code",
      "source": [
        "import matplotlib.pylab as plt\n",
        "import seaborn as sns\n",
        "sns.distplot(data_clean.iloc[:,1], label = \"Yelp\")\n",
        "sns.distplot(data_clean.iloc[:,2], label = \"Google\")\n",
        "plt.xlabel(\"Review count\")\n",
        "plt.legend()\n",
        "plt.show()"
      ],
      "metadata": {
        "colab": {
          "base_uri": "https://localhost:8080/",
          "height": 368
        },
        "id": "MqrCxeBUj2om",
        "outputId": "7a62b123-4be2-4cb6-cdb0-39f842542c67"
      },
      "execution_count": 21,
      "outputs": [
        {
          "output_type": "stream",
          "name": "stderr",
          "text": [
            "/usr/local/lib/python3.7/dist-packages/seaborn/distributions.py:2619: FutureWarning: `distplot` is a deprecated function and will be removed in a future version. Please adapt your code to use either `displot` (a figure-level function with similar flexibility) or `histplot` (an axes-level function for histograms).\n",
            "  warnings.warn(msg, FutureWarning)\n",
            "/usr/local/lib/python3.7/dist-packages/seaborn/distributions.py:2619: FutureWarning: `distplot` is a deprecated function and will be removed in a future version. Please adapt your code to use either `displot` (a figure-level function with similar flexibility) or `histplot` (an axes-level function for histograms).\n",
            "  warnings.warn(msg, FutureWarning)\n"
          ]
        },
        {
          "output_type": "display_data",
          "data": {
            "image/png": "[encoded data removed]",
            "text/plain": [
              "<Figure size 432x288 with 1 Axes>"
            ]
          },
          "metadata": {
            "needs_background": "light"
          }
        }
      ]
    },
    {
      "cell_type": "markdown",
      "source": [
        "In terms of number of reviews (Volume), Google’s review count tend to be more than Yelps. <br/>\n",
        "Average Yelp_review_count is 176.26<br/>\n",
        "Average Google_review_count is 275.77\n"
      ],
      "metadata": {
        "id": "F5rJN0MSrja7"
      }
    },
    {
      "cell_type": "code",
      "source": [
        "sns.distplot(data_clean.Yelp_rating, label = \"Yelp\")\n",
        "sns.distplot(data_clean.Google_rating, label = \"Google\")\n",
        "plt.xlabel(\"Rating\")\n",
        "plt.legend()\n",
        "plt.show()"
      ],
      "metadata": {
        "colab": {
          "base_uri": "https://localhost:8080/",
          "height": 368
        },
        "id": "CRwko32hiXkx",
        "outputId": "e48579cc-063f-4ca6-bf42-f7251a5f505f"
      },
      "execution_count": 22,
      "outputs": [
        {
          "output_type": "stream",
          "name": "stderr",
          "text": [
            "/usr/local/lib/python3.7/dist-packages/seaborn/distributions.py:2619: FutureWarning: `distplot` is a deprecated function and will be removed in a future version. Please adapt your code to use either `displot` (a figure-level function with similar flexibility) or `histplot` (an axes-level function for histograms).\n",
            "  warnings.warn(msg, FutureWarning)\n",
            "/usr/local/lib/python3.7/dist-packages/seaborn/distributions.py:2619: FutureWarning: `distplot` is a deprecated function and will be removed in a future version. Please adapt your code to use either `displot` (a figure-level function with similar flexibility) or `histplot` (an axes-level function for histograms).\n",
            "  warnings.warn(msg, FutureWarning)\n"
          ]
        },
        {
          "output_type": "display_data",
          "data": {
            "image/png": "[encoded data removed]",
            "text/plain": [
              "<Figure size 432x288 with 1 Axes>"
            ]
          },
          "metadata": {
            "needs_background": "light"
          }
        }
      ]
    },
    {
      "cell_type": "markdown",
      "source": [
        "In terms of star rating (Valence), Google’s rating tends to be higher than Yelp’s. <br/>\n",
        "Average Yelp_rating is 3.6775 <br/>\n",
        "Average Google_rating is 4.256\n"
      ],
      "metadata": {
        "id": "5xHS8DuurvTs"
      }
    },
    {
      "cell_type": "markdown",
      "source": [
        "**Q3.B: Is the review rating different across the two sites, and is the difference statistically significant?**<br/>\n",
        "Step 1. Determine a null and alternate hypothesis.\n",
        "\n",
        "In general, the null hypothesis will state that the two populations being tested have no statistically significant difference. The alternate hypothesis will state that there is one present. In this example we can say that:\n",
        "\n",
        "H0 (Null Hypothesis): Rating in Yelp/Google are the same\n",
        "\n",
        "HA (Alternative Hypothesis): Rating in Yelp/Google are different (2 sided test)\n",
        "\n",
        "Step 2. Determine the Alpha (/confidence interval) and degrees of freedom\n",
        "\n",
        "The typical value of α is 0.05. This means that there is 95% confidence that the conclusion of this test will be valid. The degree of freedom is min(N_Yelp-1, N_Google-1)\n",
        "\n",
        "Step 3. Calculate the Confidence Interval &/ t-Statistic for Diffence in Means"
      ],
      "metadata": {
        "id": "gPkYr_dFgvT9"
      }
    },
    {
      "cell_type": "code",
      "source": [
        "#perform t-test\n",
        "from scipy import stats\n",
        "import numpy as np\n",
        "\n",
        "Yelp_rating = data_clean.Yelp_rating\n",
        "Google_rating = data_clean.Google_rating\n"
      ],
      "metadata": {
        "id": "KNE-V5x2eTxy"
      },
      "execution_count": 23,
      "outputs": []
    },
    {
      "cell_type": "code",
      "source": [
        "# Calculate Point Estimate for Xb - Xa\n",
        "Diff_YG = Yelp_rating.mean() - Google_rating.mean()\n",
        "Diff_YG"
      ],
      "metadata": {
        "colab": {
          "base_uri": "https://localhost:8080/"
        },
        "id": "mAnLK_oQdeSY",
        "outputId": "7105f4b9-6f21-42de-f7e3-224d86294171"
      },
      "execution_count": 24,
      "outputs": [
        {
          "output_type": "execute_result",
          "data": {
            "text/plain": [
              "-0.5784999999999991"
            ]
          },
          "metadata": {},
          "execution_count": 24
        }
      ]
    },
    {
      "cell_type": "code",
      "source": [
        "# Calculate the Standard Error for Xb - Xa\n",
        "SE_YG = np.sqrt(Yelp_rating.var()/len(Yelp_rating) + Google_rating.var()/len(Google_rating))\n",
        "SE_YG "
      ],
      "metadata": {
        "colab": {
          "base_uri": "https://localhost:8080/"
        },
        "id": "OF6CiISmfPBC",
        "outputId": "708310bc-e134-4200-b0f8-9c622db84037"
      },
      "execution_count": 25,
      "outputs": [
        {
          "output_type": "execute_result",
          "data": {
            "text/plain": [
              "0.0499551431952536"
            ]
          },
          "metadata": {},
          "execution_count": 25
        }
      ]
    },
    {
      "cell_type": "code",
      "source": [
        "# Calculate the 95% Confidence Interval\n",
        "min_95_CI_rating = Diff_YG - 1.96 * SE_YG\n",
        "max_95_CI_rating = Diff_YG + 1.96 * SE_YG\n",
        "\n",
        "print(min_95_CI_rating, max_95_CI_rating)"
      ],
      "metadata": {
        "colab": {
          "base_uri": "https://localhost:8080/"
        },
        "id": "9njUVGAwfdfj",
        "outputId": "47c6c252-a977-4e08-dfab-32658ccca616"
      },
      "execution_count": 26,
      "outputs": [
        {
          "output_type": "stream",
          "name": "stdout",
          "text": [
            "-0.6764120806626962 -0.48058791933730205\n"
          ]
        }
      ]
    },
    {
      "cell_type": "code",
      "source": [
        "# Calculate Test Statistics\n",
        "T_Score_rating = (Diff_YG - 0) / SE_YG\n",
        "T_Score_rating"
      ],
      "metadata": {
        "colab": {
          "base_uri": "https://localhost:8080/"
        },
        "id": "_464gcZcfsM4",
        "outputId": "f66612f7-d0fe-48bf-909d-84a27b1f1ca6"
      },
      "execution_count": 27,
      "outputs": [
        {
          "output_type": "execute_result",
          "data": {
            "text/plain": [
              "-11.580389185131278"
            ]
          },
          "metadata": {},
          "execution_count": 27
        }
      ]
    },
    {
      "cell_type": "code",
      "source": [
        "# recalulate Test Statistics using 'stats' library\n",
        "Test_rating = stats.ttest_ind(Yelp_rating, \n",
        "                       Google_rating, \n",
        "                       equal_var=False\n",
        "                       )\n",
        "Test_rating.statistic"
      ],
      "metadata": {
        "colab": {
          "base_uri": "https://localhost:8080/"
        },
        "id": "Hl6X_a6YgEFB",
        "outputId": "a2a9fb34-1a12-47ab-f1d0-31011f498b96"
      },
      "execution_count": 28,
      "outputs": [
        {
          "output_type": "execute_result",
          "data": {
            "text/plain": [
              "-11.580389185131295"
            ]
          },
          "metadata": {},
          "execution_count": 28
        }
      ]
    },
    {
      "cell_type": "code",
      "source": [
        "Test_rating.pvalue"
      ],
      "metadata": {
        "colab": {
          "base_uri": "https://localhost:8080/"
        },
        "id": "O8MdyZw6gjQI",
        "outputId": "3c10605b-8db1-4584-d608-8e33f32736bd"
      },
      "execution_count": 29,
      "outputs": [
        {
          "output_type": "execute_result",
          "data": {
            "text/plain": [
              "2.3678739029063522e-26"
            ]
          },
          "metadata": {},
          "execution_count": 29
        }
      ]
    },
    {
      "cell_type": "markdown",
      "source": [
        "Step 4. Make Conclusion\n",
        "\n",
        "The T-score we calculated is correct, just the same as calculated by the 'stats' library.\n",
        "\n",
        "Our conclusion:\n",
        "\n",
        "T-score vs. 95% cutoff: |-11.58| > 1.96\n",
        "\n",
        "p-val vs. 5%: close to 0 < 0.05\n",
        "\n",
        "95% CI: (-0.6764, -0.4806)\n",
        "\n",
        "Conclusion: Reject H0 => There is a siginificant difference in Rating between Yelp/Google group."
      ],
      "metadata": {
        "id": "tWnixtC0gq8G"
      }
    },
    {
      "cell_type": "markdown",
      "source": [
        "**Q3.C: For what types of restaurants (location, price rating, cuisine, etc) are the review ratings most different?  What factors might explain the results?**<br/>"
      ],
      "metadata": {
        "id": "jP9eN-Tyo9Rq"
      }
    },
    {
      "cell_type": "markdown",
      "source": [
        "a. By Top 10 Area<br/>\n",
        "Restaurants in Downtown tend to receive lower rating in Yelp, and the higher rating tend to be in Strip District and Lawrenceville. \n",
        "\n",
        "First, this might be because of the difference of rating count between Downtown and Strip District and Lawrenceville. The number of rating count for Downtown is more than the count for Strip District and Lawrenceville, which the latter could be influenced  by extreme ratings.\n",
        "\n",
        "Second, if we check on the map for the two district, downtown is known for while Strip District and Lawrenceville is “traditionally been a wholesale and retail place for fresh vegetables, fish, and meat. Today it also has many restaurants and nightclubs.” (source: https://en.wikivoyage.org/wiki/Pittsburgh/Strip_District-Lawrenceville)\n"
      ],
      "metadata": {
        "id": "gp2_qejkGpCY"
      }
    },
    {
      "cell_type": "code",
      "source": [
        "area_weight_df = pd.DataFrame(data_clean.groupby('Area').Name.count().sort_values(ascending = False))\n",
        "area_weight_df.columns = ['counts']\n",
        "top_10_area_name = area_weight_df[0:10].index\n",
        "top_10_area_data = data_clean[data_clean.Area.isin(top_10_area_name)]"
      ],
      "metadata": {
        "id": "WpMl7vWTtBGH"
      },
      "execution_count": 30,
      "outputs": []
    },
    {
      "cell_type": "code",
      "source": [
        "f, ax = plt.subplots(figsize=(30, 5))\n",
        "fig = sns.boxplot(x='Area', y='Yelp_rating', data=top_10_area_data, showfliers = False)\n",
        "plt.savefig('Yelp_rating by Area.png') #https://stackoverflow.com/questions/9622163/save-plot-to-image-file-instead-of-displaying-it-using-matplotlib"
      ],
      "metadata": {
        "colab": {
          "base_uri": "https://localhost:8080/",
          "height": 272
        },
        "id": "QOtRSLZ512v0",
        "outputId": "6a0517fe-c40e-46a4-d99e-df32b4cb7776"
      },
      "execution_count": 31,
      "outputs": [
        {
          "output_type": "display_data",
          "data": {
            "image/png": "[encoded data removed]",
            "text/plain": [
              "<Figure size 2160x360 with 1 Axes>"
            ]
          },
          "metadata": {
            "needs_background": "light"
          }
        }
      ]
    },
    {
      "cell_type": "code",
      "source": [
        "area_weight_df"
      ],
      "metadata": {
        "colab": {
          "base_uri": "https://localhost:8080/",
          "height": 1000
        },
        "id": "wGYrI1qg2Y0d",
        "outputId": "c83e495b-b2ef-4df3-cc1f-be98eda8f75d"
      },
      "execution_count": 32,
      "outputs": [
        {
          "output_type": "execute_result",
          "data": {
            "text/html": [
              "\n",
              "  <div id=\"df-fb3a751d-1dc0-4480-9f56-1ca02d9da004\">\n",
              "    <div class=\"colab-df-container\">\n",
              "      <div>\n",
              "<style scoped>\n",
              "    .dataframe tbody tr th:only-of-type {\n",
              "        vertical-align: middle;\n",
              "    }\n",
              "\n",
              "    .dataframe tbody tr th {\n",
              "        vertical-align: top;\n",
              "    }\n",
              "\n",
              "    .dataframe thead th {\n",
              "        text-align: right;\n",
              "    }\n",
              "</style>\n",
              "<table border=\"1\" class=\"dataframe\">\n",
              "  <thead>\n",
              "    <tr style=\"text-align: right;\">\n",
              "      <th></th>\n",
              "      <th>counts</th>\n",
              "    </tr>\n",
              "    <tr>\n",
              "      <th>Area</th>\n",
              "      <th></th>\n",
              "    </tr>\n",
              "  </thead>\n",
              "  <tbody>\n",
              "    <tr>\n",
              "      <th>Downtown</th>\n",
              "      <td>34</td>\n",
              "    </tr>\n",
              "    <tr>\n",
              "      <th>Unknown</th>\n",
              "      <td>27</td>\n",
              "    </tr>\n",
              "    <tr>\n",
              "      <th>South Side</th>\n",
              "      <td>20</td>\n",
              "    </tr>\n",
              "    <tr>\n",
              "      <th>Shadyside</th>\n",
              "      <td>14</td>\n",
              "    </tr>\n",
              "    <tr>\n",
              "      <th>North Side</th>\n",
              "      <td>14</td>\n",
              "    </tr>\n",
              "    <tr>\n",
              "      <th>Oakland</th>\n",
              "      <td>14</td>\n",
              "    </tr>\n",
              "    <tr>\n",
              "      <th>Bloomfield</th>\n",
              "      <td>12</td>\n",
              "    </tr>\n",
              "    <tr>\n",
              "      <th>Lawrenceville</th>\n",
              "      <td>12</td>\n",
              "    </tr>\n",
              "    <tr>\n",
              "      <th>Strip District</th>\n",
              "      <td>10</td>\n",
              "    </tr>\n",
              "    <tr>\n",
              "      <th>Squirrel Hill</th>\n",
              "      <td>9</td>\n",
              "    </tr>\n",
              "    <tr>\n",
              "      <th>Duquesne Heights</th>\n",
              "      <td>5</td>\n",
              "    </tr>\n",
              "    <tr>\n",
              "      <th>Mt. Washington</th>\n",
              "      <td>4</td>\n",
              "    </tr>\n",
              "    <tr>\n",
              "      <th>The Hill District</th>\n",
              "      <td>3</td>\n",
              "    </tr>\n",
              "    <tr>\n",
              "      <th>Greentree</th>\n",
              "      <td>3</td>\n",
              "    </tr>\n",
              "    <tr>\n",
              "      <th>Highland Park</th>\n",
              "      <td>2</td>\n",
              "    </tr>\n",
              "    <tr>\n",
              "      <th>East Liberty</th>\n",
              "      <td>2</td>\n",
              "    </tr>\n",
              "    <tr>\n",
              "      <th>Dormont</th>\n",
              "      <td>2</td>\n",
              "    </tr>\n",
              "    <tr>\n",
              "      <th>West End</th>\n",
              "      <td>1</td>\n",
              "    </tr>\n",
              "    <tr>\n",
              "      <th>Beechview</th>\n",
              "      <td>1</td>\n",
              "    </tr>\n",
              "    <tr>\n",
              "      <th>Aspinwall</th>\n",
              "      <td>1</td>\n",
              "    </tr>\n",
              "    <tr>\n",
              "      <th>Brookline</th>\n",
              "      <td>1</td>\n",
              "    </tr>\n",
              "    <tr>\n",
              "      <th>Mt. Oliver</th>\n",
              "      <td>1</td>\n",
              "    </tr>\n",
              "    <tr>\n",
              "      <th>Friendship</th>\n",
              "      <td>1</td>\n",
              "    </tr>\n",
              "    <tr>\n",
              "      <th>Larimer</th>\n",
              "      <td>1</td>\n",
              "    </tr>\n",
              "    <tr>\n",
              "      <th>Overbrook</th>\n",
              "      <td>1</td>\n",
              "    </tr>\n",
              "    <tr>\n",
              "      <th>Point Breeze</th>\n",
              "      <td>1</td>\n",
              "    </tr>\n",
              "    <tr>\n",
              "      <th>Regent Square</th>\n",
              "      <td>1</td>\n",
              "    </tr>\n",
              "    <tr>\n",
              "      <th>South Side Slopes</th>\n",
              "      <td>1</td>\n",
              "    </tr>\n",
              "    <tr>\n",
              "      <th>Troy Hill</th>\n",
              "      <td>1</td>\n",
              "    </tr>\n",
              "    <tr>\n",
              "      <th>Allentown</th>\n",
              "      <td>1</td>\n",
              "    </tr>\n",
              "  </tbody>\n",
              "</table>\n",
              "</div>\n",
              "      <button class=\"colab-df-convert\" onclick=\"convertToInteractive('df-fb3a751d-1dc0-4480-9f56-1ca02d9da004')\"\n",
              "              title=\"Convert this dataframe to an interactive table.\"\n",
              "              style=\"display:none;\">\n",
              "        \n",
              "  <svg xmlns=\"http://www.w3.org/2000/svg\" height=\"24px\"viewBox=\"0 0 24 24\"\n",
              "       width=\"24px\">\n",
              "    <path d=\"M0 0h24v24H0V0z\" fill=\"none\"/>\n",
              "    <path d=\"M18.56 5.44l.94 2.06.94-2.06 2.06-.94-2.06-.94-.94-2.06-.94 2.06-2.06.94zm-11 1L8.5 8.5l.94-2.06 2.06-.94-2.06-.94L8.5 2.5l-.94 2.06-2.06.94zm10 10l.94 2.06.94-2.06 2.06-.94-2.06-.94-.94-2.06-.94 2.06-2.06.94z\"/><path d=\"M17.41 7.96l-1.37-1.37c-.4-.4-.92-.59-1.43-.59-.52 0-1.04.2-1.43.59L10.3 9.45l-7.72 7.72c-.78.78-.78 2.05 0 2.83L4 21.41c.39.39.9.59 1.41.59.51 0 1.02-.2 1.41-.59l7.78-7.78 2.81-2.81c.8-.78.8-2.07 0-2.86zM5.41 20L4 18.59l7.72-7.72 1.47 1.35L5.41 20z\"/>\n",
              "  </svg>\n",
              "      </button>\n",
              "      \n",
              "  <style>\n",
              "    .colab-df-container {\n",
              "      display:flex;\n",
              "      flex-wrap:wrap;\n",
              "      gap: 12px;\n",
              "    }\n",
              "\n",
              "    .colab-df-convert {\n",
              "      background-color: #E8F0FE;\n",
              "      border: none;\n",
              "      border-radius: 50%;\n",
              "      cursor: pointer;\n",
              "      display: none;\n",
              "      fill: #1967D2;\n",
              "      height: 32px;\n",
              "      padding: 0 0 0 0;\n",
              "      width: 32px;\n",
              "    }\n",
              "\n",
              "    .colab-df-convert:hover {\n",
              "      background-color: #E2EBFA;\n",
              "      box-shadow: 0px 1px 2px rgba(60, 64, 67, 0.3), 0px 1px 3px 1px rgba(60, 64, 67, 0.15);\n",
              "      fill: #174EA6;\n",
              "    }\n",
              "\n",
              "    [theme=dark] .colab-df-convert {\n",
              "      background-color: #3B4455;\n",
              "      fill: #D2E3FC;\n",
              "    }\n",
              "\n",
              "    [theme=dark] .colab-df-convert:hover {\n",
              "      background-color: #434B5C;\n",
              "      box-shadow: 0px 1px 3px 1px rgba(0, 0, 0, 0.15);\n",
              "      filter: drop-shadow(0px 1px 2px rgba(0, 0, 0, 0.3));\n",
              "      fill: #FFFFFF;\n",
              "    }\n",
              "  </style>\n",
              "\n",
              "      <script>\n",
              "        const buttonEl =\n",
              "          document.querySelector('#df-fb3a751d-1dc0-4480-9f56-1ca02d9da004 button.colab-df-convert');\n",
              "        buttonEl.style.display =\n",
              "          google.colab.kernel.accessAllowed ? 'block' : 'none';\n",
              "\n",
              "        async function convertToInteractive(key) {\n",
              "          const element = document.querySelector('#df-fb3a751d-1dc0-4480-9f56-1ca02d9da004');\n",
              "          const dataTable =\n",
              "            await google.colab.kernel.invokeFunction('convertToInteractive',\n",
              "                                                     [key], {});\n",
              "          if (!dataTable) return;\n",
              "\n",
              "          const docLinkHtml = 'Like what you see? Visit the ' +\n",
              "            '<a target=\"_blank\" href=https://colab.research.google.com/notebooks/data_table.ipynb>data table notebook</a>'\n",
              "            + ' to learn more about interactive tables.';\n",
              "          element.innerHTML = '';\n",
              "          dataTable['output_type'] = 'display_data';\n",
              "          await google.colab.output.renderOutput(dataTable, element);\n",
              "          const docLink = document.createElement('div');\n",
              "          docLink.innerHTML = docLinkHtml;\n",
              "          element.appendChild(docLink);\n",
              "        }\n",
              "      </script>\n",
              "    </div>\n",
              "  </div>\n",
              "  "
            ],
            "text/plain": [
              "                   counts\n",
              "Area                     \n",
              "Downtown               34\n",
              "Unknown                27\n",
              "South Side             20\n",
              "Shadyside              14\n",
              "North Side             14\n",
              "Oakland                14\n",
              "Bloomfield             12\n",
              "Lawrenceville          12\n",
              "Strip District         10\n",
              "Squirrel Hill           9\n",
              "Duquesne Heights        5\n",
              "Mt. Washington          4\n",
              "The Hill District       3\n",
              "Greentree               3\n",
              "Highland Park           2\n",
              "East Liberty            2\n",
              "Dormont                 2\n",
              "West End                1\n",
              "Beechview               1\n",
              "Aspinwall               1\n",
              "Brookline               1\n",
              "Mt. Oliver              1\n",
              "Friendship              1\n",
              "Larimer                 1\n",
              "Overbrook               1\n",
              "Point Breeze            1\n",
              "Regent Square           1\n",
              "South Side Slopes       1\n",
              "Troy Hill               1\n",
              "Allentown               1"
            ]
          },
          "metadata": {},
          "execution_count": 32
        }
      ]
    },
    {
      "cell_type": "markdown",
      "source": [
        "b.\tBy Top 15 Google_cuisine<br/>\n",
        " \n",
        "Cuisine such as New American, Bistro and Grill tend to receive higher rating, while Sandwich and Mexican tend to receive lower rating. We skip \"Restaurant\" as this category doesn't provide more information on cuisine. However, if we check on the rating count of above mentioned popular and unpolular cuisine, each sample sizes are not even over 10, which indicates due to less sample size, the conclusion might not be representative and solid enough.\n"
      ],
      "metadata": {
        "id": "Wm23NZ4TG2Mx"
      }
    },
    {
      "cell_type": "code",
      "source": [
        "cuisine_weight_df = pd.DataFrame(data_clean.groupby('Google_cuisine').Name.count().sort_values(ascending = False))\n",
        "cuisine_weight_df.columns = ['counts']\n",
        "top_15_cuisine_name = cuisine_weight_df[0:15].index\n",
        "top_15_cuisine_data = data_clean[data_clean.Google_cuisine.isin(top_15_cuisine_name)]"
      ],
      "metadata": {
        "id": "drGH8Ea79S5D"
      },
      "execution_count": 33,
      "outputs": []
    },
    {
      "cell_type": "code",
      "source": [
        "f, ax = plt.subplots(figsize=(30, 5))\n",
        "fig = sns.boxplot(x='Google_cuisine', y='Yelp_rating', data=top_15_cuisine_data, showfliers = False)\n",
        "plt.savefig('Yelp_rating by Google_cuisine.png') "
      ],
      "metadata": {
        "colab": {
          "base_uri": "https://localhost:8080/",
          "height": 274
        },
        "id": "S51HXXNd9xPC",
        "outputId": "528cf062-3e19-4f68-b3eb-fb03b79751b2"
      },
      "execution_count": 34,
      "outputs": [
        {
          "output_type": "display_data",
          "data": {
            "image/png": "[encoded data removed]",
            "text/plain": [
              "<Figure size 2160x360 with 1 Axes>"
            ]
          },
          "metadata": {
            "needs_background": "light"
          }
        }
      ]
    },
    {
      "cell_type": "code",
      "source": [
        "cuisine_weight_df"
      ],
      "metadata": {
        "colab": {
          "base_uri": "https://localhost:8080/",
          "height": 1000
        },
        "id": "4EqdRx6T-YQj",
        "outputId": "0e9d6e22-09a6-4724-b472-65a4e5baa012"
      },
      "execution_count": 35,
      "outputs": [
        {
          "output_type": "execute_result",
          "data": {
            "text/html": [
              "\n",
              "  <div id=\"df-5ac7e5b4-fc96-4335-b7dc-7e44b78f2ed0\">\n",
              "    <div class=\"colab-df-container\">\n",
              "      <div>\n",
              "<style scoped>\n",
              "    .dataframe tbody tr th:only-of-type {\n",
              "        vertical-align: middle;\n",
              "    }\n",
              "\n",
              "    .dataframe tbody tr th {\n",
              "        vertical-align: top;\n",
              "    }\n",
              "\n",
              "    .dataframe thead th {\n",
              "        text-align: right;\n",
              "    }\n",
              "</style>\n",
              "<table border=\"1\" class=\"dataframe\">\n",
              "  <thead>\n",
              "    <tr style=\"text-align: right;\">\n",
              "      <th></th>\n",
              "      <th>counts</th>\n",
              "    </tr>\n",
              "    <tr>\n",
              "      <th>Google_cuisine</th>\n",
              "      <th></th>\n",
              "    </tr>\n",
              "  </thead>\n",
              "  <tbody>\n",
              "    <tr>\n",
              "      <th>Restaurant</th>\n",
              "      <td>23</td>\n",
              "    </tr>\n",
              "    <tr>\n",
              "      <th>Italian</th>\n",
              "      <td>19</td>\n",
              "    </tr>\n",
              "    <tr>\n",
              "      <th>American</th>\n",
              "      <td>18</td>\n",
              "    </tr>\n",
              "    <tr>\n",
              "      <th>Pizza</th>\n",
              "      <td>10</td>\n",
              "    </tr>\n",
              "    <tr>\n",
              "      <th>Thai</th>\n",
              "      <td>8</td>\n",
              "    </tr>\n",
              "    <tr>\n",
              "      <th>Mexican</th>\n",
              "      <td>8</td>\n",
              "    </tr>\n",
              "    <tr>\n",
              "      <th>Sandwich</th>\n",
              "      <td>7</td>\n",
              "    </tr>\n",
              "    <tr>\n",
              "      <th>Grill</th>\n",
              "      <td>6</td>\n",
              "    </tr>\n",
              "    <tr>\n",
              "      <th>Japanese</th>\n",
              "      <td>6</td>\n",
              "    </tr>\n",
              "    <tr>\n",
              "      <th>New American</th>\n",
              "      <td>6</td>\n",
              "    </tr>\n",
              "    <tr>\n",
              "      <th>Chinese</th>\n",
              "      <td>6</td>\n",
              "    </tr>\n",
              "    <tr>\n",
              "      <th>Bistro</th>\n",
              "      <td>5</td>\n",
              "    </tr>\n",
              "    <tr>\n",
              "      <th>Gastropub</th>\n",
              "      <td>5</td>\n",
              "    </tr>\n",
              "    <tr>\n",
              "      <th>Hamburger</th>\n",
              "      <td>5</td>\n",
              "    </tr>\n",
              "    <tr>\n",
              "      <th>Indian</th>\n",
              "      <td>5</td>\n",
              "    </tr>\n",
              "    <tr>\n",
              "      <th>Mediterranean</th>\n",
              "      <td>5</td>\n",
              "    </tr>\n",
              "    <tr>\n",
              "      <th>Steak</th>\n",
              "      <td>5</td>\n",
              "    </tr>\n",
              "    <tr>\n",
              "      <th>Barbecue</th>\n",
              "      <td>4</td>\n",
              "    </tr>\n",
              "    <tr>\n",
              "      <th>Fast Food</th>\n",
              "      <td>4</td>\n",
              "    </tr>\n",
              "    <tr>\n",
              "      <th>Fine Dining</th>\n",
              "      <td>4</td>\n",
              "    </tr>\n",
              "    <tr>\n",
              "      <th>Tacos</th>\n",
              "      <td>3</td>\n",
              "    </tr>\n",
              "    <tr>\n",
              "      <th>Middle Eastern</th>\n",
              "      <td>2</td>\n",
              "    </tr>\n",
              "    <tr>\n",
              "      <th>Breakfast</th>\n",
              "      <td>2</td>\n",
              "    </tr>\n",
              "    <tr>\n",
              "      <th>Korean</th>\n",
              "      <td>2</td>\n",
              "    </tr>\n",
              "    <tr>\n",
              "      <th>Diner</th>\n",
              "      <td>2</td>\n",
              "    </tr>\n",
              "    <tr>\n",
              "      <th>Brewery</th>\n",
              "      <td>2</td>\n",
              "    </tr>\n",
              "    <tr>\n",
              "      <th>Family-friendly</th>\n",
              "      <td>2</td>\n",
              "    </tr>\n",
              "    <tr>\n",
              "      <th>Seafood</th>\n",
              "      <td>2</td>\n",
              "    </tr>\n",
              "    <tr>\n",
              "      <th>Brewpub</th>\n",
              "      <td>1</td>\n",
              "    </tr>\n",
              "    <tr>\n",
              "      <th>Bar</th>\n",
              "      <td>1</td>\n",
              "    </tr>\n",
              "    <tr>\n",
              "      <th>Cambodian</th>\n",
              "      <td>1</td>\n",
              "    </tr>\n",
              "    <tr>\n",
              "      <th>Eastern European</th>\n",
              "      <td>1</td>\n",
              "    </tr>\n",
              "    <tr>\n",
              "      <th>Brunch</th>\n",
              "      <td>1</td>\n",
              "    </tr>\n",
              "    <tr>\n",
              "      <th>European</th>\n",
              "      <td>1</td>\n",
              "    </tr>\n",
              "    <tr>\n",
              "      <th>Asian Fusion</th>\n",
              "      <td>1</td>\n",
              "    </tr>\n",
              "    <tr>\n",
              "      <th>Turkish</th>\n",
              "      <td>1</td>\n",
              "    </tr>\n",
              "    <tr>\n",
              "      <th>Food Products Supplier</th>\n",
              "      <td>1</td>\n",
              "    </tr>\n",
              "    <tr>\n",
              "      <th>French</th>\n",
              "      <td>1</td>\n",
              "    </tr>\n",
              "    <tr>\n",
              "      <th>Halal</th>\n",
              "      <td>1</td>\n",
              "    </tr>\n",
              "    <tr>\n",
              "      <th>Hungarian</th>\n",
              "      <td>1</td>\n",
              "    </tr>\n",
              "    <tr>\n",
              "      <th>Jamaican</th>\n",
              "      <td>1</td>\n",
              "    </tr>\n",
              "    <tr>\n",
              "      <th>Noodle Shop</th>\n",
              "      <td>1</td>\n",
              "    </tr>\n",
              "    <tr>\n",
              "      <th>Pizza Delivery</th>\n",
              "      <td>1</td>\n",
              "    </tr>\n",
              "    <tr>\n",
              "      <th>Pub</th>\n",
              "      <td>1</td>\n",
              "    </tr>\n",
              "    <tr>\n",
              "      <th>Small Plates</th>\n",
              "      <td>1</td>\n",
              "    </tr>\n",
              "    <tr>\n",
              "      <th>Soul</th>\n",
              "      <td>1</td>\n",
              "    </tr>\n",
              "    <tr>\n",
              "      <th>South American</th>\n",
              "      <td>1</td>\n",
              "    </tr>\n",
              "    <tr>\n",
              "      <th>Spanish</th>\n",
              "      <td>1</td>\n",
              "    </tr>\n",
              "    <tr>\n",
              "      <th>Sushi</th>\n",
              "      <td>1</td>\n",
              "    </tr>\n",
              "    <tr>\n",
              "      <th>Teppanyaki</th>\n",
              "      <td>1</td>\n",
              "    </tr>\n",
              "    <tr>\n",
              "      <th>Tex Mex</th>\n",
              "      <td>1</td>\n",
              "    </tr>\n",
              "    <tr>\n",
              "      <th>Irish</th>\n",
              "      <td>1</td>\n",
              "    </tr>\n",
              "  </tbody>\n",
              "</table>\n",
              "</div>\n",
              "      <button class=\"colab-df-convert\" onclick=\"convertToInteractive('df-5ac7e5b4-fc96-4335-b7dc-7e44b78f2ed0')\"\n",
              "              title=\"Convert this dataframe to an interactive table.\"\n",
              "              style=\"display:none;\">\n",
              "        \n",
              "  <svg xmlns=\"http://www.w3.org/2000/svg\" height=\"24px\"viewBox=\"0 0 24 24\"\n",
              "       width=\"24px\">\n",
              "    <path d=\"M0 0h24v24H0V0z\" fill=\"none\"/>\n",
              "    <path d=\"M18.56 5.44l.94 2.06.94-2.06 2.06-.94-2.06-.94-.94-2.06-.94 2.06-2.06.94zm-11 1L8.5 8.5l.94-2.06 2.06-.94-2.06-.94L8.5 2.5l-.94 2.06-2.06.94zm10 10l.94 2.06.94-2.06 2.06-.94-2.06-.94-.94-2.06-.94 2.06-2.06.94z\"/><path d=\"M17.41 7.96l-1.37-1.37c-.4-.4-.92-.59-1.43-.59-.52 0-1.04.2-1.43.59L10.3 9.45l-7.72 7.72c-.78.78-.78 2.05 0 2.83L4 21.41c.39.39.9.59 1.41.59.51 0 1.02-.2 1.41-.59l7.78-7.78 2.81-2.81c.8-.78.8-2.07 0-2.86zM5.41 20L4 18.59l7.72-7.72 1.47 1.35L5.41 20z\"/>\n",
              "  </svg>\n",
              "      </button>\n",
              "      \n",
              "  <style>\n",
              "    .colab-df-container {\n",
              "      display:flex;\n",
              "      flex-wrap:wrap;\n",
              "      gap: 12px;\n",
              "    }\n",
              "\n",
              "    .colab-df-convert {\n",
              "      background-color: #E8F0FE;\n",
              "      border: none;\n",
              "      border-radius: 50%;\n",
              "      cursor: pointer;\n",
              "      display: none;\n",
              "      fill: #1967D2;\n",
              "      height: 32px;\n",
              "      padding: 0 0 0 0;\n",
              "      width: 32px;\n",
              "    }\n",
              "\n",
              "    .colab-df-convert:hover {\n",
              "      background-color: #E2EBFA;\n",
              "      box-shadow: 0px 1px 2px rgba(60, 64, 67, 0.3), 0px 1px 3px 1px rgba(60, 64, 67, 0.15);\n",
              "      fill: #174EA6;\n",
              "    }\n",
              "\n",
              "    [theme=dark] .colab-df-convert {\n",
              "      background-color: #3B4455;\n",
              "      fill: #D2E3FC;\n",
              "    }\n",
              "\n",
              "    [theme=dark] .colab-df-convert:hover {\n",
              "      background-color: #434B5C;\n",
              "      box-shadow: 0px 1px 3px 1px rgba(0, 0, 0, 0.15);\n",
              "      filter: drop-shadow(0px 1px 2px rgba(0, 0, 0, 0.3));\n",
              "      fill: #FFFFFF;\n",
              "    }\n",
              "  </style>\n",
              "\n",
              "      <script>\n",
              "        const buttonEl =\n",
              "          document.querySelector('#df-5ac7e5b4-fc96-4335-b7dc-7e44b78f2ed0 button.colab-df-convert');\n",
              "        buttonEl.style.display =\n",
              "          google.colab.kernel.accessAllowed ? 'block' : 'none';\n",
              "\n",
              "        async function convertToInteractive(key) {\n",
              "          const element = document.querySelector('#df-5ac7e5b4-fc96-4335-b7dc-7e44b78f2ed0');\n",
              "          const dataTable =\n",
              "            await google.colab.kernel.invokeFunction('convertToInteractive',\n",
              "                                                     [key], {});\n",
              "          if (!dataTable) return;\n",
              "\n",
              "          const docLinkHtml = 'Like what you see? Visit the ' +\n",
              "            '<a target=\"_blank\" href=https://colab.research.google.com/notebooks/data_table.ipynb>data table notebook</a>'\n",
              "            + ' to learn more about interactive tables.';\n",
              "          element.innerHTML = '';\n",
              "          dataTable['output_type'] = 'display_data';\n",
              "          await google.colab.output.renderOutput(dataTable, element);\n",
              "          const docLink = document.createElement('div');\n",
              "          docLink.innerHTML = docLinkHtml;\n",
              "          element.appendChild(docLink);\n",
              "        }\n",
              "      </script>\n",
              "    </div>\n",
              "  </div>\n",
              "  "
            ],
            "text/plain": [
              "                        counts\n",
              "Google_cuisine                \n",
              "Restaurant                  23\n",
              "Italian                     19\n",
              "American                    18\n",
              "Pizza                       10\n",
              "Thai                         8\n",
              "Mexican                      8\n",
              "Sandwich                     7\n",
              "Grill                        6\n",
              "Japanese                     6\n",
              "New American                 6\n",
              "Chinese                      6\n",
              "Bistro                       5\n",
              "Gastropub                    5\n",
              "Hamburger                    5\n",
              "Indian                       5\n",
              "Mediterranean                5\n",
              "Steak                        5\n",
              "Barbecue                     4\n",
              "Fast Food                    4\n",
              "Fine Dining                  4\n",
              "Tacos                        3\n",
              "Middle Eastern               2\n",
              "Breakfast                    2\n",
              "Korean                       2\n",
              "Diner                        2\n",
              "Brewery                      2\n",
              "Family-friendly              2\n",
              "Seafood                      2\n",
              "Brewpub                      1\n",
              "Bar                          1\n",
              "Cambodian                    1\n",
              "Eastern European             1\n",
              "Brunch                       1\n",
              "European                     1\n",
              "Asian Fusion                 1\n",
              "Turkish                      1\n",
              "Food Products Supplier       1\n",
              "French                       1\n",
              "Halal                        1\n",
              "Hungarian                    1\n",
              "Jamaican                     1\n",
              "Noodle Shop                  1\n",
              "Pizza Delivery               1\n",
              "Pub                          1\n",
              "Small Plates                 1\n",
              "Soul                         1\n",
              "South American               1\n",
              "Spanish                      1\n",
              "Sushi                        1\n",
              "Teppanyaki                   1\n",
              "Tex Mex                      1\n",
              "Irish                        1"
            ]
          },
          "metadata": {},
          "execution_count": 35
        }
      ]
    },
    {
      "cell_type": "code",
      "source": [
        "%%shell\n",
        "jupyter nbconvert --to html /content/Yelp_case.ipynb"
      ],
      "metadata": {
        "colab": {
          "base_uri": "https://localhost:8080/"
        },
        "id": "KN9wAhJoJPFA",
        "outputId": "878a3c17-eb28-437e-ee00-252727f9c52a"
      },
      "execution_count": 38,
      "outputs": [
        {
          "output_type": "stream",
          "name": "stdout",
          "text": [
            "[NbConvertApp] Converting notebook /content/Yelp_case.ipynb to html\n",
            "[NbConvertApp] Writing 409254 bytes to /content/Yelp_case.html\n"
          ]
        },
        {
          "output_type": "execute_result",
          "data": {
            "text/plain": [
              ""
            ]
          },
          "metadata": {},
          "execution_count": 38
        }
      ]
    }
  ]
}