{
  "nbformat": 4,
  "nbformat_minor": 0,
  "metadata": {
    "colab": {
      "name": "[Self-Practice] \"Build predictive Business Intelligence with Google Colab, Google Data Studio and Google Sheets\"",
      "provenance": [],
      "collapsed_sections": [],
      "authorship_tag": "ABX9TyPqMFcEfWuutB19cGxZEsHc",
      "include_colab_link": true
    },
    "kernelspec": {
      "name": "python3",
      "display_name": "Python 3"
    }
  },
  "cells": [
    {
      "cell_type": "markdown",
      "metadata": {
        "id": "view-in-github",
        "colab_type": "text"
      },
      "source": [
        "<a href=\"https://colab.research.google.com/github/sunnyskydream/Self-projects/blob/main/%5BSelf_Practice%5D_%22Build_predictive_Business_Intelligence_with_Google_Colab%2C_Google_Data_Studio_and_Google_Sheets%22.ipynb\" target=\"_parent\"><img src=\"https://colab.research.google.com/assets/colab-badge.svg\" alt=\"Open In Colab\"/></a>"
      ]
    },
    {
      "cell_type": "markdown",
      "source": [
        "#BI with Colab and Data Studio<br/>\n",
        "Inspired by \"Build predictive Business Intelligence with Google Colab, Google Data Studio and Google Sheets <br/>\n",
        "https://towardsdatascience.com/build-predictive-business-intelligence-with-google-colab-google-data-studio-and-google-sheets-9a5c1559124f\"\n",
        "\n",
        "**Learning:**\n",
        "1. colab linked to drive\n",
        "2. kaggle api to download dataset to drive\n",
        "3. build LSTM Neural Network\n",
        "4. send data via Google Sheets api\n",
        "5. display result in Google Data Studio"
      ],
      "metadata": {
        "id": "2W1Bm-dqbLEo"
      }
    },
    {
      "cell_type": "markdown",
      "source": [
        "**Dataset description (https://www.kaggle.com/c/online-sales/data):**\n",
        "\n",
        "*We have the data in the comma separated values (CSV) format.  Each row in this data set represents a different consumer product.*\n",
        "\n",
        "*The first 12 columns (Outcome_M1 through Outcome_M12) contains the monthly online sales for the first 12 months after the product launches. *\n",
        "\n",
        "*Date_1 is the day number the major advertising campaign began and the product launched.  *\n",
        "\n",
        "*Date_2 is the day number the product was announced and a pre-release advertising campaign began.*\n",
        "\n",
        "*Other columns in the data set are features of the product and the advertising campaign.  Quan_x are quantitative variables and Cat_x are categorical variables. Binary categorical variables are measured as (1) if the product had the feature and (0) if it did not.*"
      ],
      "metadata": {
        "id": "X0Dmz7wza4VA"
      }
    },
    {
      "cell_type": "markdown",
      "source": [
        "#Load Data"
      ],
      "metadata": {
        "id": "aTDpm7t_azRI"
      }
    },
    {
      "cell_type": "markdown",
      "source": [
        "update kaggle api and link to google drive:<br/>\n",
        "https://stackoverflow.com/questions/58643979/google-colaboratory-use-kaggle-server-version-1-5-6-client-version-1-5-4-fai"
      ],
      "metadata": {
        "id": "OVp2mdjoaqsr"
      }
    },
    {
      "cell_type": "code",
      "execution_count": null,
      "metadata": {
        "id": "7qo9Zb8UT0te"
      },
      "outputs": [],
      "source": [
        "#!pip install kaggle\n",
        "!pip install --upgrade --force-reinstall --no-deps kaggle"
      ]
    },
    {
      "cell_type": "code",
      "source": [
        "from google.colab import drive\n",
        "drive.mount('/content/drive/')"
      ],
      "metadata": {
        "id": "Y_QeXQBZUNFf"
      },
      "execution_count": null,
      "outputs": []
    },
    {
      "cell_type": "code",
      "source": [
        "import os\n",
        "os.chdir(\"/content/drive/My Drive/Colab Notebooks\")"
      ],
      "metadata": {
        "id": "aAU-3aRiUUvr"
      },
      "execution_count": 15,
      "outputs": []
    },
    {
      "cell_type": "markdown",
      "source": [
        "Copy credentials for Kaggle API and download dataset<br/>\n",
        "https://www.kaggle.com/general/74235"
      ],
      "metadata": {
        "id": "a4LWD4tvUaQJ"
      }
    },
    {
      "cell_type": "code",
      "source": [
        "! pip install -q kaggle"
      ],
      "metadata": {
        "id": "xdyhgoUhZUBb"
      },
      "execution_count": 27,
      "outputs": []
    },
    {
      "cell_type": "code",
      "source": [
        "files.upload()"
      ],
      "metadata": {
        "id": "A2uQpLZaZZLR"
      },
      "execution_count": null,
      "outputs": []
    },
    {
      "cell_type": "code",
      "source": [
        "! mkdir ~/.kaggle\n",
        "! cp kaggle.json ~/.kaggle/"
      ],
      "metadata": {
        "colab": {
          "base_uri": "https://localhost:8080/"
        },
        "id": "xd3Vg0wqZfTg",
        "outputId": "1ee704e6-6706-4f19-bb5b-7a9dbce0f4ea"
      },
      "execution_count": 29,
      "outputs": [
        {
          "output_type": "stream",
          "name": "stdout",
          "text": [
            "mkdir: cannot create directory ‘/root/.kaggle’: File exists\n"
          ]
        }
      ]
    },
    {
      "cell_type": "code",
      "source": [
        "! chmod 600 ~/.kaggle/kaggle.json"
      ],
      "metadata": {
        "id": "jK39M63TZwf7"
      },
      "execution_count": 31,
      "outputs": []
    },
    {
      "cell_type": "code",
      "source": [
        "! kaggle datasets list"
      ],
      "metadata": {
        "colab": {
          "base_uri": "https://localhost:8080/"
        },
        "id": "tzYw4CXIZ2Q7",
        "outputId": "85edc686-d2d1-448f-c78c-a0693fec2565"
      },
      "execution_count": 36,
      "outputs": [
        {
          "output_type": "stream",
          "name": "stdout",
          "text": [
            "ref                                                         title                                              size  lastUpdated          downloadCount  voteCount  usabilityRating  \n",
            "----------------------------------------------------------  ------------------------------------------------  -----  -------------------  -------------  ---------  ---------------  \n",
            "gpreda/reddit-vaccine-myths                                 Reddit Vaccine Myths                              237KB  2021-12-12 11:59:54          18012       1402  1.0              \n",
            "crowww/a-large-scale-fish-dataset                           A Large Scale Fish Dataset                          3GB  2021-04-28 17:03:01          10750        759  0.9375           \n",
            "imsparsh/musicnet-dataset                                   MusicNet Dataset                                   22GB  2021-02-18 14:12:19           5366        351  1.0              \n",
            "dhruvildave/wikibooks-dataset                               Wikibooks Dataset                                   2GB  2021-10-22 10:48:21           3849        302  1.0              \n",
            "nickuzmenkov/nih-chest-xrays-tfrecords                      NIH Chest X-rays TFRecords                         11GB  2021-03-09 04:49:23           1864        110  0.9411765        \n",
            "promptcloud/careerbuilder-job-listing-2020                  Careerbuilder Job Listing 2020                     42MB  2021-03-05 06:59:52           3020        108  1.0              \n",
            "fatiimaezzahra/famous-iconic-women                          Famous Iconic Women                               838MB  2021-02-28 14:56:00           2143        150  0.75             \n",
            "mathurinache/twitter-edge-nodes                             Twitter Edge Nodes                                342MB  2021-03-08 06:43:04           1433        124  1.0              \n",
            "coloradokb/dandelionimages                                  DandelionImages                                     4GB  2021-02-19 20:03:47           1102         55  0.75             \n",
            "simiotic/github-code-snippets                               GitHub Code Snippets                                7GB  2021-03-03 11:34:39            558         90  1.0              \n",
            "mathurinache/the-lj-speech-dataset                          The LJ Speech Dataset                               3GB  2021-02-15 09:19:54            564         71  1.0              \n",
            "alsgroup/end-als                                            End ALS Kaggle Challenge                           12GB  2021-04-08 12:16:37           1169        167  0.9375           \n",
            "nickuzmenkov/ranzcr-clip-kfold-tfrecords                    RANZCR CLiP KFold TFRecords                         2GB  2021-02-21 13:29:51            171         32  0.875            \n",
            "landrykezebou/lvzhdr-tone-mapping-benchmark-dataset-tmonet  LVZ-HDR Tone Mapping Benchmark Dataset (TMO-Net)   24GB  2021-03-01 05:03:40            273         39  0.75             \n",
            "imsparsh/accentdb-core-extended                             AccentDB - Core & Extended                          6GB  2021-02-17 14:22:54            203         43  0.875            \n",
            "stuartjames/lights                                          LightS: Light Specularity Dataset                  18GB  2021-02-18 14:32:26            254         45  0.6875           \n",
            "datasnaek/youtube-new                                       Trending YouTube Video Statistics                 201MB  2019-06-03 00:56:47         161933       4349  0.7941176        \n",
            "zynicide/wine-reviews                                       Wine Reviews                                       51MB  2017-11-27 17:08:04         151361       3235  0.7941176        \n",
            "residentmario/ramen-ratings                                 Ramen Ratings                                      40KB  2018-01-11 16:04:39          31316        730  0.7058824        \n",
            "datasnaek/chess                                             Chess Game Dataset (Lichess)                        3MB  2017-09-04 03:09:09          26456        910  0.8235294        \n"
          ]
        }
      ]
    },
    {
      "cell_type": "code",
      "source": [
        "! kaggle competitions download -c online-sales\n",
        "#need to accept the rules\n",
        "#https://stackoverflow.com/questions/55761202/is-there-any-alternative-way-to-download-kaggle-competition-data-in-colab"
      ],
      "metadata": {
        "colab": {
          "base_uri": "https://localhost:8080/"
        },
        "id": "vs_1k7FrVOX2",
        "outputId": "13fcfc11-b661-4247-cd25-a645cfb283ad"
      },
      "execution_count": 42,
      "outputs": [
        {
          "output_type": "stream",
          "name": "stdout",
          "text": [
            "Downloading online-sales.zip to /content/drive/My Drive/Colab Notebooks\n",
            "\r  0% 0.00/4.31M [00:00<?, ?B/s]\n",
            "\r100% 4.31M/4.31M [00:00<00:00, 52.9MB/s]\n"
          ]
        }
      ]
    },
    {
      "cell_type": "markdown",
      "source": [
        "check dataset"
      ],
      "metadata": {
        "id": "EanJovFHe7H2"
      }
    },
    {
      "cell_type": "code",
      "source": [
        "import pandas as pd\n",
        "import numpy as np\n",
        "from matplotlib import pyplot as plt"
      ],
      "metadata": {
        "id": "fU3rhWNde6fo"
      },
      "execution_count": 44,
      "outputs": []
    },
    {
      "cell_type": "code",
      "source": [
        "#! mkdir train\n",
        "! unzip online-sales.zip -d train"
      ],
      "metadata": {
        "colab": {
          "base_uri": "https://localhost:8080/"
        },
        "id": "My47TOCMfds5",
        "outputId": "740dbbaf-2464-4dd1-ff14-c9cc4e045f9a"
      },
      "execution_count": 49,
      "outputs": [
        {
          "output_type": "stream",
          "name": "stdout",
          "text": [
            "Archive:  online-sales.zip\n",
            "  inflating: train/Kaggle - Online Sales Training File 4.17.csv  \n",
            "  inflating: train/Kaggle Anonymized Data 3.27.12 v4.xlsx  \n",
            "  inflating: train/TestDataset.csv   \n",
            "  inflating: train/TrainingDataset.csv  \n",
            "  inflating: train/sample_code.R     \n",
            "  inflating: train/sample_submission_using_training_column_means.csv  \n"
          ]
        }
      ]
    },
    {
      "cell_type": "code",
      "source": [
        "df = pd.read_csv(\"/content/drive/MyDrive/Colab Notebooks/train/TrainingDataset.csv\")"
      ],
      "metadata": {
        "id": "025w_MC8gbBi"
      },
      "execution_count": 61,
      "outputs": []
    },
    {
      "cell_type": "code",
      "source": [
        "df.shape"
      ],
      "metadata": {
        "colab": {
          "base_uri": "https://localhost:8080/"
        },
        "id": "VpHwQlHBgj2H",
        "outputId": "784ad333-ff39-48f9-a714-97750d192e07"
      },
      "execution_count": 63,
      "outputs": [
        {
          "output_type": "execute_result",
          "data": {
            "text/plain": [
              "(751, 558)"
            ]
          },
          "metadata": {},
          "execution_count": 63
        }
      ]
    },
    {
      "cell_type": "code",
      "source": [
        "df.sample(5)"
      ],
      "metadata": {
        "colab": {
          "base_uri": "https://localhost:8080/",
          "height": 300
        },
        "id": "ZfQGbyKIhfk7",
        "outputId": "8105222a-031d-4566-fa47-6f9b7e126192"
      },
      "execution_count": 67,
      "outputs": [
        {
          "output_type": "execute_result",
          "data": {
            "text/html": [
              "\n",
              "  <div id=\"df-6e88c00b-6c24-4277-bfc4-52a4922a3760\">\n",
              "    <div class=\"colab-df-container\">\n",
              "      <div>\n",
              "<style scoped>\n",
              "    .dataframe tbody tr th:only-of-type {\n",
              "        vertical-align: middle;\n",
              "    }\n",
              "\n",
              "    .dataframe tbody tr th {\n",
              "        vertical-align: top;\n",
              "    }\n",
              "\n",
              "    .dataframe thead th {\n",
              "        text-align: right;\n",
              "    }\n",
              "</style>\n",
              "<table border=\"1\" class=\"dataframe\">\n",
              "  <thead>\n",
              "    <tr style=\"text-align: right;\">\n",
              "      <th></th>\n",
              "      <th>Outcome_M1</th>\n",
              "      <th>Outcome_M2</th>\n",
              "      <th>Outcome_M3</th>\n",
              "      <th>Outcome_M4</th>\n",
              "      <th>Outcome_M5</th>\n",
              "      <th>Outcome_M6</th>\n",
              "      <th>Outcome_M7</th>\n",
              "      <th>Outcome_M8</th>\n",
              "      <th>Outcome_M9</th>\n",
              "      <th>Outcome_M10</th>\n",
              "      <th>Outcome_M11</th>\n",
              "      <th>Outcome_M12</th>\n",
              "      <th>Cat_1</th>\n",
              "      <th>Date_1</th>\n",
              "      <th>Quan_1</th>\n",
              "      <th>Quan_2</th>\n",
              "      <th>Quan_3</th>\n",
              "      <th>Quan_4</th>\n",
              "      <th>Date_2</th>\n",
              "      <th>Quan_5</th>\n",
              "      <th>Quan_6</th>\n",
              "      <th>Quan_7</th>\n",
              "      <th>Quan_8</th>\n",
              "      <th>Quan_9</th>\n",
              "      <th>Quan_10</th>\n",
              "      <th>Quan_11</th>\n",
              "      <th>Quan_12</th>\n",
              "      <th>Quan_13</th>\n",
              "      <th>Quan_14</th>\n",
              "      <th>Cat_2</th>\n",
              "      <th>Cat_3</th>\n",
              "      <th>Cat_4</th>\n",
              "      <th>Cat_5</th>\n",
              "      <th>Cat_6</th>\n",
              "      <th>Cat_7</th>\n",
              "      <th>Cat_8</th>\n",
              "      <th>Cat_9</th>\n",
              "      <th>Cat_10</th>\n",
              "      <th>Cat_11</th>\n",
              "      <th>Cat_12</th>\n",
              "      <th>...</th>\n",
              "      <th>Cat_480</th>\n",
              "      <th>Cat_481</th>\n",
              "      <th>Cat_482</th>\n",
              "      <th>Cat_483</th>\n",
              "      <th>Cat_484</th>\n",
              "      <th>Cat_485</th>\n",
              "      <th>Cat_486</th>\n",
              "      <th>Cat_487</th>\n",
              "      <th>Cat_488</th>\n",
              "      <th>Cat_489</th>\n",
              "      <th>Cat_490</th>\n",
              "      <th>Cat_491</th>\n",
              "      <th>Cat_492</th>\n",
              "      <th>Cat_493</th>\n",
              "      <th>Cat_494</th>\n",
              "      <th>Cat_495</th>\n",
              "      <th>Cat_496</th>\n",
              "      <th>Cat_497</th>\n",
              "      <th>Cat_498</th>\n",
              "      <th>Cat_499</th>\n",
              "      <th>Cat_500</th>\n",
              "      <th>Quan_26</th>\n",
              "      <th>Cat_501</th>\n",
              "      <th>Cat_502</th>\n",
              "      <th>Cat_503</th>\n",
              "      <th>Cat_504</th>\n",
              "      <th>Quan_27</th>\n",
              "      <th>Quan_28</th>\n",
              "      <th>Quan_29</th>\n",
              "      <th>Quan_30</th>\n",
              "      <th>Cat_505</th>\n",
              "      <th>Cat_506</th>\n",
              "      <th>Cat_507</th>\n",
              "      <th>Cat_508</th>\n",
              "      <th>Cat_509</th>\n",
              "      <th>Cat_510</th>\n",
              "      <th>Cat_511</th>\n",
              "      <th>Cat_512</th>\n",
              "      <th>Cat_513</th>\n",
              "      <th>Cat_514</th>\n",
              "    </tr>\n",
              "  </thead>\n",
              "  <tbody>\n",
              "    <tr>\n",
              "      <th>27</th>\n",
              "      <td>2000</td>\n",
              "      <td>500.0</td>\n",
              "      <td>500.0</td>\n",
              "      <td>2000.0</td>\n",
              "      <td>2000.0</td>\n",
              "      <td>2000.0</td>\n",
              "      <td>500.0</td>\n",
              "      <td>2000.0</td>\n",
              "      <td>2000.0</td>\n",
              "      <td>500.0</td>\n",
              "      <td>500.0</td>\n",
              "      <td>500.0</td>\n",
              "      <td>2</td>\n",
              "      <td>1918</td>\n",
              "      <td>206100</td>\n",
              "      <td>6400.0</td>\n",
              "      <td>29.0</td>\n",
              "      <td>NaN</td>\n",
              "      <td>1228.0</td>\n",
              "      <td>NaN</td>\n",
              "      <td>NaN</td>\n",
              "      <td>NaN</td>\n",
              "      <td>NaN</td>\n",
              "      <td>NaN</td>\n",
              "      <td>NaN</td>\n",
              "      <td>NaN</td>\n",
              "      <td>NaN</td>\n",
              "      <td>NaN</td>\n",
              "      <td>NaN</td>\n",
              "      <td>28</td>\n",
              "      <td>97</td>\n",
              "      <td>182</td>\n",
              "      <td>1</td>\n",
              "      <td>41</td>\n",
              "      <td>0</td>\n",
              "      <td>0</td>\n",
              "      <td>0</td>\n",
              "      <td>0</td>\n",
              "      <td>2</td>\n",
              "      <td>0</td>\n",
              "      <td>...</td>\n",
              "      <td>0</td>\n",
              "      <td>0</td>\n",
              "      <td>0</td>\n",
              "      <td>0</td>\n",
              "      <td>0</td>\n",
              "      <td>0</td>\n",
              "      <td>0</td>\n",
              "      <td>0</td>\n",
              "      <td>0</td>\n",
              "      <td>0</td>\n",
              "      <td>0</td>\n",
              "      <td>0</td>\n",
              "      <td>0</td>\n",
              "      <td>0</td>\n",
              "      <td>0</td>\n",
              "      <td>0</td>\n",
              "      <td>0</td>\n",
              "      <td>0</td>\n",
              "      <td>0</td>\n",
              "      <td>0</td>\n",
              "      <td>0</td>\n",
              "      <td>0</td>\n",
              "      <td>0</td>\n",
              "      <td>0</td>\n",
              "      <td>0</td>\n",
              "      <td>0</td>\n",
              "      <td>0</td>\n",
              "      <td>0</td>\n",
              "      <td>0</td>\n",
              "      <td>0</td>\n",
              "      <td>0</td>\n",
              "      <td>0</td>\n",
              "      <td>0</td>\n",
              "      <td>1</td>\n",
              "      <td>0</td>\n",
              "      <td>0</td>\n",
              "      <td>0</td>\n",
              "      <td>0</td>\n",
              "      <td>0</td>\n",
              "      <td>1</td>\n",
              "    </tr>\n",
              "    <tr>\n",
              "      <th>256</th>\n",
              "      <td>2000</td>\n",
              "      <td>2000.0</td>\n",
              "      <td>500.0</td>\n",
              "      <td>500.0</td>\n",
              "      <td>500.0</td>\n",
              "      <td>500.0</td>\n",
              "      <td>500.0</td>\n",
              "      <td>500.0</td>\n",
              "      <td>500.0</td>\n",
              "      <td>500.0</td>\n",
              "      <td>500.0</td>\n",
              "      <td>500.0</td>\n",
              "      <td>2</td>\n",
              "      <td>2499</td>\n",
              "      <td>981000</td>\n",
              "      <td>5000.0</td>\n",
              "      <td>43.0</td>\n",
              "      <td>224371.0</td>\n",
              "      <td>2012.0</td>\n",
              "      <td>NaN</td>\n",
              "      <td>NaN</td>\n",
              "      <td>NaN</td>\n",
              "      <td>NaN</td>\n",
              "      <td>NaN</td>\n",
              "      <td>NaN</td>\n",
              "      <td>NaN</td>\n",
              "      <td>NaN</td>\n",
              "      <td>NaN</td>\n",
              "      <td>NaN</td>\n",
              "      <td>74</td>\n",
              "      <td>216</td>\n",
              "      <td>412</td>\n",
              "      <td>2</td>\n",
              "      <td>2</td>\n",
              "      <td>0</td>\n",
              "      <td>0</td>\n",
              "      <td>0</td>\n",
              "      <td>0</td>\n",
              "      <td>2</td>\n",
              "      <td>0</td>\n",
              "      <td>...</td>\n",
              "      <td>0</td>\n",
              "      <td>0</td>\n",
              "      <td>0</td>\n",
              "      <td>0</td>\n",
              "      <td>0</td>\n",
              "      <td>0</td>\n",
              "      <td>0</td>\n",
              "      <td>0</td>\n",
              "      <td>0</td>\n",
              "      <td>0</td>\n",
              "      <td>0</td>\n",
              "      <td>0</td>\n",
              "      <td>0</td>\n",
              "      <td>0</td>\n",
              "      <td>0</td>\n",
              "      <td>0</td>\n",
              "      <td>0</td>\n",
              "      <td>0</td>\n",
              "      <td>0</td>\n",
              "      <td>0</td>\n",
              "      <td>0</td>\n",
              "      <td>0</td>\n",
              "      <td>0</td>\n",
              "      <td>0</td>\n",
              "      <td>0</td>\n",
              "      <td>0</td>\n",
              "      <td>0</td>\n",
              "      <td>0</td>\n",
              "      <td>0</td>\n",
              "      <td>0</td>\n",
              "      <td>0</td>\n",
              "      <td>0</td>\n",
              "      <td>0</td>\n",
              "      <td>1</td>\n",
              "      <td>0</td>\n",
              "      <td>0</td>\n",
              "      <td>0</td>\n",
              "      <td>0</td>\n",
              "      <td>0</td>\n",
              "      <td>1</td>\n",
              "    </tr>\n",
              "    <tr>\n",
              "      <th>203</th>\n",
              "      <td>2000</td>\n",
              "      <td>500.0</td>\n",
              "      <td>500.0</td>\n",
              "      <td>500.0</td>\n",
              "      <td>500.0</td>\n",
              "      <td>2000.0</td>\n",
              "      <td>3000.0</td>\n",
              "      <td>2000.0</td>\n",
              "      <td>500.0</td>\n",
              "      <td>500.0</td>\n",
              "      <td>500.0</td>\n",
              "      <td>500.0</td>\n",
              "      <td>1</td>\n",
              "      <td>3073</td>\n",
              "      <td>3311300</td>\n",
              "      <td>5600.0</td>\n",
              "      <td>46.0</td>\n",
              "      <td>32724.0</td>\n",
              "      <td>2058.0</td>\n",
              "      <td>6.0</td>\n",
              "      <td>2.0</td>\n",
              "      <td>2.0</td>\n",
              "      <td>6.0</td>\n",
              "      <td>6.0</td>\n",
              "      <td>2.0</td>\n",
              "      <td>2.0</td>\n",
              "      <td>0.0</td>\n",
              "      <td>2.0</td>\n",
              "      <td>2.0</td>\n",
              "      <td>109</td>\n",
              "      <td>368</td>\n",
              "      <td>625</td>\n",
              "      <td>3</td>\n",
              "      <td>22</td>\n",
              "      <td>0</td>\n",
              "      <td>0</td>\n",
              "      <td>0</td>\n",
              "      <td>1</td>\n",
              "      <td>2</td>\n",
              "      <td>0</td>\n",
              "      <td>...</td>\n",
              "      <td>0</td>\n",
              "      <td>1</td>\n",
              "      <td>0</td>\n",
              "      <td>0</td>\n",
              "      <td>0</td>\n",
              "      <td>0</td>\n",
              "      <td>0</td>\n",
              "      <td>0</td>\n",
              "      <td>0</td>\n",
              "      <td>0</td>\n",
              "      <td>0</td>\n",
              "      <td>1</td>\n",
              "      <td>0</td>\n",
              "      <td>0</td>\n",
              "      <td>0</td>\n",
              "      <td>0</td>\n",
              "      <td>0</td>\n",
              "      <td>0</td>\n",
              "      <td>0</td>\n",
              "      <td>0</td>\n",
              "      <td>0</td>\n",
              "      <td>0</td>\n",
              "      <td>0</td>\n",
              "      <td>0</td>\n",
              "      <td>0</td>\n",
              "      <td>0</td>\n",
              "      <td>0</td>\n",
              "      <td>0</td>\n",
              "      <td>0</td>\n",
              "      <td>0</td>\n",
              "      <td>0</td>\n",
              "      <td>0</td>\n",
              "      <td>0</td>\n",
              "      <td>1</td>\n",
              "      <td>0</td>\n",
              "      <td>1</td>\n",
              "      <td>0</td>\n",
              "      <td>0</td>\n",
              "      <td>0</td>\n",
              "      <td>1</td>\n",
              "    </tr>\n",
              "    <tr>\n",
              "      <th>534</th>\n",
              "      <td>2000</td>\n",
              "      <td>2000.0</td>\n",
              "      <td>500.0</td>\n",
              "      <td>500.0</td>\n",
              "      <td>2000.0</td>\n",
              "      <td>2000.0</td>\n",
              "      <td>500.0</td>\n",
              "      <td>500.0</td>\n",
              "      <td>NaN</td>\n",
              "      <td>NaN</td>\n",
              "      <td>NaN</td>\n",
              "      <td>NaN</td>\n",
              "      <td>2</td>\n",
              "      <td>3479</td>\n",
              "      <td>2801100</td>\n",
              "      <td>4600.0</td>\n",
              "      <td>38.0</td>\n",
              "      <td>6661.0</td>\n",
              "      <td>3026.0</td>\n",
              "      <td>9.0</td>\n",
              "      <td>3.0</td>\n",
              "      <td>0.0</td>\n",
              "      <td>9.0</td>\n",
              "      <td>9.0</td>\n",
              "      <td>6.0</td>\n",
              "      <td>2.0</td>\n",
              "      <td>0.0</td>\n",
              "      <td>6.0</td>\n",
              "      <td>6.0</td>\n",
              "      <td>16</td>\n",
              "      <td>243</td>\n",
              "      <td>244</td>\n",
              "      <td>2</td>\n",
              "      <td>2</td>\n",
              "      <td>0</td>\n",
              "      <td>0</td>\n",
              "      <td>0</td>\n",
              "      <td>0</td>\n",
              "      <td>1</td>\n",
              "      <td>2</td>\n",
              "      <td>...</td>\n",
              "      <td>0</td>\n",
              "      <td>0</td>\n",
              "      <td>0</td>\n",
              "      <td>0</td>\n",
              "      <td>0</td>\n",
              "      <td>0</td>\n",
              "      <td>0</td>\n",
              "      <td>0</td>\n",
              "      <td>0</td>\n",
              "      <td>0</td>\n",
              "      <td>0</td>\n",
              "      <td>0</td>\n",
              "      <td>0</td>\n",
              "      <td>0</td>\n",
              "      <td>0</td>\n",
              "      <td>0</td>\n",
              "      <td>0</td>\n",
              "      <td>0</td>\n",
              "      <td>0</td>\n",
              "      <td>0</td>\n",
              "      <td>0</td>\n",
              "      <td>0</td>\n",
              "      <td>0</td>\n",
              "      <td>0</td>\n",
              "      <td>0</td>\n",
              "      <td>0</td>\n",
              "      <td>0</td>\n",
              "      <td>0</td>\n",
              "      <td>0</td>\n",
              "      <td>0</td>\n",
              "      <td>0</td>\n",
              "      <td>0</td>\n",
              "      <td>0</td>\n",
              "      <td>1</td>\n",
              "      <td>0</td>\n",
              "      <td>0</td>\n",
              "      <td>0</td>\n",
              "      <td>0</td>\n",
              "      <td>0</td>\n",
              "      <td>1</td>\n",
              "    </tr>\n",
              "    <tr>\n",
              "      <th>65</th>\n",
              "      <td>10000</td>\n",
              "      <td>6000.0</td>\n",
              "      <td>2000.0</td>\n",
              "      <td>2000.0</td>\n",
              "      <td>2000.0</td>\n",
              "      <td>2000.0</td>\n",
              "      <td>2000.0</td>\n",
              "      <td>3000.0</td>\n",
              "      <td>3000.0</td>\n",
              "      <td>2000.0</td>\n",
              "      <td>NaN</td>\n",
              "      <td>NaN</td>\n",
              "      <td>2</td>\n",
              "      <td>3416</td>\n",
              "      <td>2732900</td>\n",
              "      <td>7300.0</td>\n",
              "      <td>63.0</td>\n",
              "      <td>97852.0</td>\n",
              "      <td>3090.0</td>\n",
              "      <td>39.0</td>\n",
              "      <td>12.0</td>\n",
              "      <td>12.0</td>\n",
              "      <td>39.0</td>\n",
              "      <td>39.0</td>\n",
              "      <td>30.0</td>\n",
              "      <td>11.0</td>\n",
              "      <td>7.0</td>\n",
              "      <td>30.0</td>\n",
              "      <td>30.0</td>\n",
              "      <td>12</td>\n",
              "      <td>542</td>\n",
              "      <td>1397</td>\n",
              "      <td>4</td>\n",
              "      <td>11</td>\n",
              "      <td>7</td>\n",
              "      <td>7</td>\n",
              "      <td>0</td>\n",
              "      <td>0</td>\n",
              "      <td>1</td>\n",
              "      <td>2</td>\n",
              "      <td>...</td>\n",
              "      <td>0</td>\n",
              "      <td>0</td>\n",
              "      <td>0</td>\n",
              "      <td>0</td>\n",
              "      <td>0</td>\n",
              "      <td>0</td>\n",
              "      <td>0</td>\n",
              "      <td>0</td>\n",
              "      <td>0</td>\n",
              "      <td>0</td>\n",
              "      <td>0</td>\n",
              "      <td>0</td>\n",
              "      <td>0</td>\n",
              "      <td>0</td>\n",
              "      <td>0</td>\n",
              "      <td>0</td>\n",
              "      <td>0</td>\n",
              "      <td>0</td>\n",
              "      <td>0</td>\n",
              "      <td>0</td>\n",
              "      <td>0</td>\n",
              "      <td>0</td>\n",
              "      <td>0</td>\n",
              "      <td>0</td>\n",
              "      <td>0</td>\n",
              "      <td>0</td>\n",
              "      <td>0</td>\n",
              "      <td>0</td>\n",
              "      <td>0</td>\n",
              "      <td>0</td>\n",
              "      <td>0</td>\n",
              "      <td>0</td>\n",
              "      <td>0</td>\n",
              "      <td>1</td>\n",
              "      <td>0</td>\n",
              "      <td>0</td>\n",
              "      <td>0</td>\n",
              "      <td>0</td>\n",
              "      <td>0</td>\n",
              "      <td>1</td>\n",
              "    </tr>\n",
              "  </tbody>\n",
              "</table>\n",
              "<p>5 rows × 558 columns</p>\n",
              "</div>\n",
              "      <button class=\"colab-df-convert\" onclick=\"convertToInteractive('df-6e88c00b-6c24-4277-bfc4-52a4922a3760')\"\n",
              "              title=\"Convert this dataframe to an interactive table.\"\n",
              "              style=\"display:none;\">\n",
              "        \n",
              "  <svg xmlns=\"http://www.w3.org/2000/svg\" height=\"24px\"viewBox=\"0 0 24 24\"\n",
              "       width=\"24px\">\n",
              "    <path d=\"M0 0h24v24H0V0z\" fill=\"none\"/>\n",
              "    <path d=\"M18.56 5.44l.94 2.06.94-2.06 2.06-.94-2.06-.94-.94-2.06-.94 2.06-2.06.94zm-11 1L8.5 8.5l.94-2.06 2.06-.94-2.06-.94L8.5 2.5l-.94 2.06-2.06.94zm10 10l.94 2.06.94-2.06 2.06-.94-2.06-.94-.94-2.06-.94 2.06-2.06.94z\"/><path d=\"M17.41 7.96l-1.37-1.37c-.4-.4-.92-.59-1.43-.59-.52 0-1.04.2-1.43.59L10.3 9.45l-7.72 7.72c-.78.78-.78 2.05 0 2.83L4 21.41c.39.39.9.59 1.41.59.51 0 1.02-.2 1.41-.59l7.78-7.78 2.81-2.81c.8-.78.8-2.07 0-2.86zM5.41 20L4 18.59l7.72-7.72 1.47 1.35L5.41 20z\"/>\n",
              "  </svg>\n",
              "      </button>\n",
              "      \n",
              "  <style>\n",
              "    .colab-df-container {\n",
              "      display:flex;\n",
              "      flex-wrap:wrap;\n",
              "      gap: 12px;\n",
              "    }\n",
              "\n",
              "    .colab-df-convert {\n",
              "      background-color: #E8F0FE;\n",
              "      border: none;\n",
              "      border-radius: 50%;\n",
              "      cursor: pointer;\n",
              "      display: none;\n",
              "      fill: #1967D2;\n",
              "      height: 32px;\n",
              "      padding: 0 0 0 0;\n",
              "      width: 32px;\n",
              "    }\n",
              "\n",
              "    .colab-df-convert:hover {\n",
              "      background-color: #E2EBFA;\n",
              "      box-shadow: 0px 1px 2px rgba(60, 64, 67, 0.3), 0px 1px 3px 1px rgba(60, 64, 67, 0.15);\n",
              "      fill: #174EA6;\n",
              "    }\n",
              "\n",
              "    [theme=dark] .colab-df-convert {\n",
              "      background-color: #3B4455;\n",
              "      fill: #D2E3FC;\n",
              "    }\n",
              "\n",
              "    [theme=dark] .colab-df-convert:hover {\n",
              "      background-color: #434B5C;\n",
              "      box-shadow: 0px 1px 3px 1px rgba(0, 0, 0, 0.15);\n",
              "      filter: drop-shadow(0px 1px 2px rgba(0, 0, 0, 0.3));\n",
              "      fill: #FFFFFF;\n",
              "    }\n",
              "  </style>\n",
              "\n",
              "      <script>\n",
              "        const buttonEl =\n",
              "          document.querySelector('#df-6e88c00b-6c24-4277-bfc4-52a4922a3760 button.colab-df-convert');\n",
              "        buttonEl.style.display =\n",
              "          google.colab.kernel.accessAllowed ? 'block' : 'none';\n",
              "\n",
              "        async function convertToInteractive(key) {\n",
              "          const element = document.querySelector('#df-6e88c00b-6c24-4277-bfc4-52a4922a3760');\n",
              "          const dataTable =\n",
              "            await google.colab.kernel.invokeFunction('convertToInteractive',\n",
              "                                                     [key], {});\n",
              "          if (!dataTable) return;\n",
              "\n",
              "          const docLinkHtml = 'Like what you see? Visit the ' +\n",
              "            '<a target=\"_blank\" href=https://colab.research.google.com/notebooks/data_table.ipynb>data table notebook</a>'\n",
              "            + ' to learn more about interactive tables.';\n",
              "          element.innerHTML = '';\n",
              "          dataTable['output_type'] = 'display_data';\n",
              "          await google.colab.output.renderOutput(dataTable, element);\n",
              "          const docLink = document.createElement('div');\n",
              "          docLink.innerHTML = docLinkHtml;\n",
              "          element.appendChild(docLink);\n",
              "        }\n",
              "      </script>\n",
              "    </div>\n",
              "  </div>\n",
              "  "
            ],
            "text/plain": [
              "     Outcome_M1  Outcome_M2  Outcome_M3  ...  Cat_512  Cat_513  Cat_514\n",
              "27         2000       500.0       500.0  ...        0        0        1\n",
              "256        2000      2000.0       500.0  ...        0        0        1\n",
              "203        2000       500.0       500.0  ...        0        0        1\n",
              "534        2000      2000.0       500.0  ...        0        0        1\n",
              "65        10000      6000.0      2000.0  ...        0        0        1\n",
              "\n",
              "[5 rows x 558 columns]"
            ]
          },
          "metadata": {},
          "execution_count": 67
        }
      ]
    },
    {
      "cell_type": "code",
      "source": [
        "df.isnull().values.any()"
      ],
      "metadata": {
        "colab": {
          "base_uri": "https://localhost:8080/"
        },
        "id": "PNdAFO_ihMcY",
        "outputId": "3b97815c-2b06-401c-d0ea-a780038a968e"
      },
      "execution_count": 66,
      "outputs": [
        {
          "output_type": "execute_result",
          "data": {
            "text/plain": [
              "True"
            ]
          },
          "metadata": {},
          "execution_count": 66
        }
      ]
    },
    {
      "cell_type": "code",
      "source": [
        "df = df.replace(np.nan, 0, regex=True)\n",
        "df.isnull().values.any()"
      ],
      "metadata": {
        "colab": {
          "base_uri": "https://localhost:8080/"
        },
        "id": "grCEsBkihXPG",
        "outputId": "3d0ec59f-726c-4be4-893a-27a6addf91af"
      },
      "execution_count": 68,
      "outputs": [
        {
          "output_type": "execute_result",
          "data": {
            "text/plain": [
              "False"
            ]
          },
          "metadata": {},
          "execution_count": 68
        }
      ]
    },
    {
      "cell_type": "code",
      "source": [
        "df.iloc[:, 0:15].sample(10)"
      ],
      "metadata": {
        "colab": {
          "base_uri": "https://localhost:8080/",
          "height": 363
        },
        "id": "IT0sxwmThbZj",
        "outputId": "06319309-1c0e-4eb9-bc67-d3805f44c7e5"
      },
      "execution_count": 69,
      "outputs": [
        {
          "output_type": "execute_result",
          "data": {
            "text/html": [
              "\n",
              "  <div id=\"df-ba9ec1cf-8c66-4c27-ac9d-2ae5e5929abe\">\n",
              "    <div class=\"colab-df-container\">\n",
              "      <div>\n",
              "<style scoped>\n",
              "    .dataframe tbody tr th:only-of-type {\n",
              "        vertical-align: middle;\n",
              "    }\n",
              "\n",
              "    .dataframe tbody tr th {\n",
              "        vertical-align: top;\n",
              "    }\n",
              "\n",
              "    .dataframe thead th {\n",
              "        text-align: right;\n",
              "    }\n",
              "</style>\n",
              "<table border=\"1\" class=\"dataframe\">\n",
              "  <thead>\n",
              "    <tr style=\"text-align: right;\">\n",
              "      <th></th>\n",
              "      <th>Outcome_M1</th>\n",
              "      <th>Outcome_M2</th>\n",
              "      <th>Outcome_M3</th>\n",
              "      <th>Outcome_M4</th>\n",
              "      <th>Outcome_M5</th>\n",
              "      <th>Outcome_M6</th>\n",
              "      <th>Outcome_M7</th>\n",
              "      <th>Outcome_M8</th>\n",
              "      <th>Outcome_M9</th>\n",
              "      <th>Outcome_M10</th>\n",
              "      <th>Outcome_M11</th>\n",
              "      <th>Outcome_M12</th>\n",
              "      <th>Cat_1</th>\n",
              "      <th>Date_1</th>\n",
              "      <th>Quan_1</th>\n",
              "    </tr>\n",
              "  </thead>\n",
              "  <tbody>\n",
              "    <tr>\n",
              "      <th>709</th>\n",
              "      <td>21000</td>\n",
              "      <td>15000.0</td>\n",
              "      <td>16000.0</td>\n",
              "      <td>21000.0</td>\n",
              "      <td>6000.0</td>\n",
              "      <td>5000.0</td>\n",
              "      <td>5000.0</td>\n",
              "      <td>3000.0</td>\n",
              "      <td>2000.0</td>\n",
              "      <td>3000.0</td>\n",
              "      <td>3000.0</td>\n",
              "      <td>2000.0</td>\n",
              "      <td>2</td>\n",
              "      <td>3192</td>\n",
              "      <td>2175300</td>\n",
              "    </tr>\n",
              "    <tr>\n",
              "      <th>736</th>\n",
              "      <td>3000</td>\n",
              "      <td>5000.0</td>\n",
              "      <td>2000.0</td>\n",
              "      <td>2000.0</td>\n",
              "      <td>2000.0</td>\n",
              "      <td>2000.0</td>\n",
              "      <td>5000.0</td>\n",
              "      <td>2000.0</td>\n",
              "      <td>2000.0</td>\n",
              "      <td>0.0</td>\n",
              "      <td>0.0</td>\n",
              "      <td>0.0</td>\n",
              "      <td>1</td>\n",
              "      <td>3458</td>\n",
              "      <td>4480600</td>\n",
              "    </tr>\n",
              "    <tr>\n",
              "      <th>151</th>\n",
              "      <td>35000</td>\n",
              "      <td>11000.0</td>\n",
              "      <td>2000.0</td>\n",
              "      <td>2000.0</td>\n",
              "      <td>2000.0</td>\n",
              "      <td>2000.0</td>\n",
              "      <td>2000.0</td>\n",
              "      <td>2000.0</td>\n",
              "      <td>500.0</td>\n",
              "      <td>2000.0</td>\n",
              "      <td>2000.0</td>\n",
              "      <td>2000.0</td>\n",
              "      <td>1</td>\n",
              "      <td>2961</td>\n",
              "      <td>3122700</td>\n",
              "    </tr>\n",
              "    <tr>\n",
              "      <th>164</th>\n",
              "      <td>39000</td>\n",
              "      <td>6000.0</td>\n",
              "      <td>3000.0</td>\n",
              "      <td>2000.0</td>\n",
              "      <td>3000.0</td>\n",
              "      <td>10000.0</td>\n",
              "      <td>2000.0</td>\n",
              "      <td>2000.0</td>\n",
              "      <td>2000.0</td>\n",
              "      <td>500.0</td>\n",
              "      <td>500.0</td>\n",
              "      <td>500.0</td>\n",
              "      <td>2</td>\n",
              "      <td>2387</td>\n",
              "      <td>820700</td>\n",
              "    </tr>\n",
              "    <tr>\n",
              "      <th>333</th>\n",
              "      <td>6000</td>\n",
              "      <td>6000.0</td>\n",
              "      <td>2000.0</td>\n",
              "      <td>3000.0</td>\n",
              "      <td>500.0</td>\n",
              "      <td>500.0</td>\n",
              "      <td>500.0</td>\n",
              "      <td>500.0</td>\n",
              "      <td>500.0</td>\n",
              "      <td>500.0</td>\n",
              "      <td>500.0</td>\n",
              "      <td>500.0</td>\n",
              "      <td>2</td>\n",
              "      <td>2828</td>\n",
              "      <td>1411600</td>\n",
              "    </tr>\n",
              "    <tr>\n",
              "      <th>43</th>\n",
              "      <td>16000</td>\n",
              "      <td>18000.0</td>\n",
              "      <td>34000.0</td>\n",
              "      <td>8000.0</td>\n",
              "      <td>8000.0</td>\n",
              "      <td>5000.0</td>\n",
              "      <td>3000.0</td>\n",
              "      <td>2000.0</td>\n",
              "      <td>3000.0</td>\n",
              "      <td>3000.0</td>\n",
              "      <td>3000.0</td>\n",
              "      <td>3000.0</td>\n",
              "      <td>2</td>\n",
              "      <td>2490</td>\n",
              "      <td>918600</td>\n",
              "    </tr>\n",
              "    <tr>\n",
              "      <th>335</th>\n",
              "      <td>6000</td>\n",
              "      <td>10000.0</td>\n",
              "      <td>3000.0</td>\n",
              "      <td>2000.0</td>\n",
              "      <td>2000.0</td>\n",
              "      <td>500.0</td>\n",
              "      <td>500.0</td>\n",
              "      <td>500.0</td>\n",
              "      <td>500.0</td>\n",
              "      <td>500.0</td>\n",
              "      <td>500.0</td>\n",
              "      <td>500.0</td>\n",
              "      <td>1</td>\n",
              "      <td>2515</td>\n",
              "      <td>1999100</td>\n",
              "    </tr>\n",
              "    <tr>\n",
              "      <th>431</th>\n",
              "      <td>10000</td>\n",
              "      <td>3000.0</td>\n",
              "      <td>2000.0</td>\n",
              "      <td>500.0</td>\n",
              "      <td>2000.0</td>\n",
              "      <td>2000.0</td>\n",
              "      <td>2000.0</td>\n",
              "      <td>3000.0</td>\n",
              "      <td>500.0</td>\n",
              "      <td>2000.0</td>\n",
              "      <td>500.0</td>\n",
              "      <td>500.0</td>\n",
              "      <td>1</td>\n",
              "      <td>2313</td>\n",
              "      <td>1648500</td>\n",
              "    </tr>\n",
              "    <tr>\n",
              "      <th>723</th>\n",
              "      <td>10000</td>\n",
              "      <td>21000.0</td>\n",
              "      <td>5000.0</td>\n",
              "      <td>5000.0</td>\n",
              "      <td>3000.0</td>\n",
              "      <td>2000.0</td>\n",
              "      <td>2000.0</td>\n",
              "      <td>2000.0</td>\n",
              "      <td>500.0</td>\n",
              "      <td>500.0</td>\n",
              "      <td>500.0</td>\n",
              "      <td>500.0</td>\n",
              "      <td>1</td>\n",
              "      <td>3229</td>\n",
              "      <td>3792300</td>\n",
              "    </tr>\n",
              "    <tr>\n",
              "      <th>462</th>\n",
              "      <td>5000</td>\n",
              "      <td>3000.0</td>\n",
              "      <td>2000.0</td>\n",
              "      <td>500.0</td>\n",
              "      <td>500.0</td>\n",
              "      <td>500.0</td>\n",
              "      <td>500.0</td>\n",
              "      <td>500.0</td>\n",
              "      <td>500.0</td>\n",
              "      <td>0.0</td>\n",
              "      <td>0.0</td>\n",
              "      <td>0.0</td>\n",
              "      <td>2</td>\n",
              "      <td>3458</td>\n",
              "      <td>2777700</td>\n",
              "    </tr>\n",
              "  </tbody>\n",
              "</table>\n",
              "</div>\n",
              "      <button class=\"colab-df-convert\" onclick=\"convertToInteractive('df-ba9ec1cf-8c66-4c27-ac9d-2ae5e5929abe')\"\n",
              "              title=\"Convert this dataframe to an interactive table.\"\n",
              "              style=\"display:none;\">\n",
              "        \n",
              "  <svg xmlns=\"http://www.w3.org/2000/svg\" height=\"24px\"viewBox=\"0 0 24 24\"\n",
              "       width=\"24px\">\n",
              "    <path d=\"M0 0h24v24H0V0z\" fill=\"none\"/>\n",
              "    <path d=\"M18.56 5.44l.94 2.06.94-2.06 2.06-.94-2.06-.94-.94-2.06-.94 2.06-2.06.94zm-11 1L8.5 8.5l.94-2.06 2.06-.94-2.06-.94L8.5 2.5l-.94 2.06-2.06.94zm10 10l.94 2.06.94-2.06 2.06-.94-2.06-.94-.94-2.06-.94 2.06-2.06.94z\"/><path d=\"M17.41 7.96l-1.37-1.37c-.4-.4-.92-.59-1.43-.59-.52 0-1.04.2-1.43.59L10.3 9.45l-7.72 7.72c-.78.78-.78 2.05 0 2.83L4 21.41c.39.39.9.59 1.41.59.51 0 1.02-.2 1.41-.59l7.78-7.78 2.81-2.81c.8-.78.8-2.07 0-2.86zM5.41 20L4 18.59l7.72-7.72 1.47 1.35L5.41 20z\"/>\n",
              "  </svg>\n",
              "      </button>\n",
              "      \n",
              "  <style>\n",
              "    .colab-df-container {\n",
              "      display:flex;\n",
              "      flex-wrap:wrap;\n",
              "      gap: 12px;\n",
              "    }\n",
              "\n",
              "    .colab-df-convert {\n",
              "      background-color: #E8F0FE;\n",
              "      border: none;\n",
              "      border-radius: 50%;\n",
              "      cursor: pointer;\n",
              "      display: none;\n",
              "      fill: #1967D2;\n",
              "      height: 32px;\n",
              "      padding: 0 0 0 0;\n",
              "      width: 32px;\n",
              "    }\n",
              "\n",
              "    .colab-df-convert:hover {\n",
              "      background-color: #E2EBFA;\n",
              "      box-shadow: 0px 1px 2px rgba(60, 64, 67, 0.3), 0px 1px 3px 1px rgba(60, 64, 67, 0.15);\n",
              "      fill: #174EA6;\n",
              "    }\n",
              "\n",
              "    [theme=dark] .colab-df-convert {\n",
              "      background-color: #3B4455;\n",
              "      fill: #D2E3FC;\n",
              "    }\n",
              "\n",
              "    [theme=dark] .colab-df-convert:hover {\n",
              "      background-color: #434B5C;\n",
              "      box-shadow: 0px 1px 3px 1px rgba(0, 0, 0, 0.15);\n",
              "      filter: drop-shadow(0px 1px 2px rgba(0, 0, 0, 0.3));\n",
              "      fill: #FFFFFF;\n",
              "    }\n",
              "  </style>\n",
              "\n",
              "      <script>\n",
              "        const buttonEl =\n",
              "          document.querySelector('#df-ba9ec1cf-8c66-4c27-ac9d-2ae5e5929abe button.colab-df-convert');\n",
              "        buttonEl.style.display =\n",
              "          google.colab.kernel.accessAllowed ? 'block' : 'none';\n",
              "\n",
              "        async function convertToInteractive(key) {\n",
              "          const element = document.querySelector('#df-ba9ec1cf-8c66-4c27-ac9d-2ae5e5929abe');\n",
              "          const dataTable =\n",
              "            await google.colab.kernel.invokeFunction('convertToInteractive',\n",
              "                                                     [key], {});\n",
              "          if (!dataTable) return;\n",
              "\n",
              "          const docLinkHtml = 'Like what you see? Visit the ' +\n",
              "            '<a target=\"_blank\" href=https://colab.research.google.com/notebooks/data_table.ipynb>data table notebook</a>'\n",
              "            + ' to learn more about interactive tables.';\n",
              "          element.innerHTML = '';\n",
              "          dataTable['output_type'] = 'display_data';\n",
              "          await google.colab.output.renderOutput(dataTable, element);\n",
              "          const docLink = document.createElement('div');\n",
              "          docLink.innerHTML = docLinkHtml;\n",
              "          element.appendChild(docLink);\n",
              "        }\n",
              "      </script>\n",
              "    </div>\n",
              "  </div>\n",
              "  "
            ],
            "text/plain": [
              "     Outcome_M1  Outcome_M2  Outcome_M3  ...  Cat_1  Date_1   Quan_1\n",
              "709       21000     15000.0     16000.0  ...      2    3192  2175300\n",
              "736        3000      5000.0      2000.0  ...      1    3458  4480600\n",
              "151       35000     11000.0      2000.0  ...      1    2961  3122700\n",
              "164       39000      6000.0      3000.0  ...      2    2387   820700\n",
              "333        6000      6000.0      2000.0  ...      2    2828  1411600\n",
              "43        16000     18000.0     34000.0  ...      2    2490   918600\n",
              "335        6000     10000.0      3000.0  ...      1    2515  1999100\n",
              "431       10000      3000.0      2000.0  ...      1    2313  1648500\n",
              "723       10000     21000.0      5000.0  ...      1    3229  3792300\n",
              "462        5000      3000.0      2000.0  ...      2    3458  2777700\n",
              "\n",
              "[10 rows x 15 columns]"
            ]
          },
          "metadata": {},
          "execution_count": 69
        }
      ]
    },
    {
      "cell_type": "code",
      "source": [
        "from sklearn.model_selection import train_test_split\n",
        "\n",
        "df_train, df_test = train_test_split(df, test_size=0.2)\n",
        "print(df_train.shape)\n",
        "print(df_test.shape)"
      ],
      "metadata": {
        "colab": {
          "base_uri": "https://localhost:8080/"
        },
        "id": "oITSW9pTh42e",
        "outputId": "cfb20229-7fa8-4d91-a0c2-4d587bb9622d"
      },
      "execution_count": 70,
      "outputs": [
        {
          "output_type": "stream",
          "name": "stdout",
          "text": [
            "(600, 558)\n",
            "(151, 558)\n"
          ]
        }
      ]
    },
    {
      "cell_type": "markdown",
      "source": [
        "#Exploratory Data Analysis"
      ],
      "metadata": {
        "id": "-h5EDQO2ibYI"
      }
    },
    {
      "cell_type": "code",
      "source": [
        "import random\n",
        "\n",
        "indexes = random.sample(range(len(df)), 10)\n",
        "indexes"
      ],
      "metadata": {
        "colab": {
          "base_uri": "https://localhost:8080/"
        },
        "id": "i4KeogzPidsu",
        "outputId": "c9c608d2-19b9-4868-df05-948c18412102"
      },
      "execution_count": 74,
      "outputs": [
        {
          "output_type": "execute_result",
          "data": {
            "text/plain": [
              "[337, 728, 168, 74, 449, 624, 467, 732, 614, 482]"
            ]
          },
          "metadata": {},
          "execution_count": 74
        }
      ]
    },
    {
      "cell_type": "code",
      "source": [
        "df_plot = pd.DataFrame()\n",
        "\n",
        "for i in indexes:\n",
        "  df_plot[\"product_\"+str(i)] = df.iloc[i, 0:12]\n",
        "\n",
        "df_plot.plot();"
      ],
      "metadata": {
        "colab": {
          "base_uri": "https://localhost:8080/",
          "height": 265
        },
        "id": "vpaisMUojo8o",
        "outputId": "79070215-6c15-4548-b2c1-071964635efc"
      },
      "execution_count": 76,
      "outputs": [
        {
          "output_type": "display_data",
          "data": {
            "image/png": "[encoded data removed]",
            "text/plain": [
              "<Figure size 432x288 with 1 Axes>"
            ]
          },
          "metadata": {
            "needs_background": "light"
          }
        }
      ]
    },
    {
      "cell_type": "markdown",
      "source": [
        "#Prepare Data"
      ],
      "metadata": {
        "id": "bfzyzJZxj9mE"
      }
    },
    {
      "cell_type": "code",
      "source": [
        "# firstly, we will separate product features and information about outcome per month\n",
        "\n",
        "y_train_real = df_train.iloc[:, 0:12].values\n",
        "print(y_train_real.shape)\n",
        "\n",
        "y_test_real = df_test.iloc[:, 0:12].values\n",
        "print(y_test_real.shape)"
      ],
      "metadata": {
        "colab": {
          "base_uri": "https://localhost:8080/"
        },
        "id": "hkCT2sJ5kAs2",
        "outputId": "ed123bbf-534d-4374-83b8-564694007bdb"
      },
      "execution_count": 77,
      "outputs": [
        {
          "output_type": "stream",
          "name": "stdout",
          "text": [
            "(600, 12)\n",
            "(151, 12)\n"
          ]
        }
      ]
    },
    {
      "cell_type": "code",
      "source": [
        "x_train_real = df_train.iloc[:, 12:].values\n",
        "x_test_real = df_test.iloc[:, 12:].values\n",
        "print(x_train_real.shape)\n",
        "print(x_test_real.shape)"
      ],
      "metadata": {
        "colab": {
          "base_uri": "https://localhost:8080/"
        },
        "id": "iZRlkHzgkW5f",
        "outputId": "b9a4bb5a-f603-4f22-d0fc-0430f8ee79a1"
      },
      "execution_count": 78,
      "outputs": [
        {
          "output_type": "stream",
          "name": "stdout",
          "text": [
            "(600, 546)\n",
            "(151, 546)\n"
          ]
        }
      ]
    },
    {
      "cell_type": "code",
      "source": [
        "# scale values in one range for better predictions\n",
        "\n",
        "from sklearn.preprocessing import MinMaxScaler\n",
        "\n",
        "#scale datasets\n",
        "x_scaler = MinMaxScaler()\n",
        "x_scaler = x_scaler.fit(x_train_real)\n",
        "x_train = x_scaler.transform(x_train_real)\n",
        "x_test = x_scaler.transform(x_test_real)\n",
        "\n",
        "y_scaler = MinMaxScaler()\n",
        "y_scaler = y_scaler.fit(y_train_real)\n",
        "y_train = y_scaler.transform(y_train_real)\n",
        "y_test = y_scaler.transform(y_test_real)"
      ],
      "metadata": {
        "id": "VSCL4W2gkgSp"
      },
      "execution_count": 79,
      "outputs": []
    },
    {
      "cell_type": "markdown",
      "source": [
        "\"Now let us move to the most important step of this process: convert price history to multidimensional time series. For each product we will create TimeSeries with 1-12 timesteps with information about product features and previous timestep outcome. We do not know previous outcome for first timestep, so we will just take zero.\""
      ],
      "metadata": {
        "id": "tj5iu_XikmHX"
      }
    },
    {
      "cell_type": "code",
      "source": [
        "# Here we create lists for training and test data, each list will contain 12 3-dimensional numpy arrays. \n",
        "# Second dimension for each array will represent timesteps and gradually increases by 1. \n",
        "\n",
        "x_train_series = []\n",
        "x_test_series = []\n",
        "\n",
        "for k in range(len(y_train[0])):\n",
        "  x_train_series.append(np.zeros((x_train.shape[0], k+1, x_train.shape[1]+1)))\n",
        "\n",
        "for k in range(len(y_test[0])):\n",
        "  x_test_series.append(np.zeros((x_test.shape[0], k+1, x_test.shape[1]+1)))"
      ],
      "metadata": {
        "id": "hlFFx7AxkyCn"
      },
      "execution_count": 80,
      "outputs": []
    },
    {
      "cell_type": "code",
      "source": [
        "# Add to each timestep information about product features and previous timestep outcome.\n",
        "# Now we are using the same product features for each timestep, \n",
        "# but the model allows to track features changes on each timestep \n",
        "# to make more accurate predictions.\n",
        "\n",
        "for k in range(len(y_train[0])):\n",
        "  for i in range(len(x_train)):\n",
        "    for j in range(k + 1):\n",
        "      shifted_index = j - 1\n",
        "      if shifted_index < 0:\n",
        "        x_train_series[k][i, j] = np.append(x_train[i], 0)\n",
        "      else:\n",
        "        x_train_series[k][i, j] = np.append(x_train[i], y_train[i, shifted_index])"
      ],
      "metadata": {
        "id": "uLMd0jljk7a2"
      },
      "execution_count": 81,
      "outputs": []
    },
    {
      "cell_type": "code",
      "source": [
        "# The same timesteps conversion for test data.\n",
        "\n",
        "for k in range(len(y_test[0])):\n",
        "  for i in range(len(x_test)):\n",
        "    for j in range(k + 1):\n",
        "      shifted_index = j - 1\n",
        "      if shifted_index < 0:\n",
        "        x_test_series[k][i, j] = np.append(x_test[i], 0)\n",
        "      else:\n",
        "        x_test_series[k][i, j] = np.append(x_test[i], y_test[i, shifted_index])"
      ],
      "metadata": {
        "id": "Sb4vlCqXlCuM"
      },
      "execution_count": 82,
      "outputs": []
    },
    {
      "cell_type": "code",
      "source": [
        "# Make 12 lists with information about outcome per TimeSerie, per product.\n",
        "\n",
        "y_train_series = []\n",
        "y_test_series = []\n",
        "\n",
        "for k in range(len(y_train[0])):\n",
        "  y_train_series.append(np.zeros((len(y_train), 1)))\n",
        "  y_test_series.append(np.zeros((len(y_test), 1)))\n",
        " \n",
        "  \n",
        "for k in range(len(y_train[0])):\n",
        "  y_train_series[k] = y_train[:, k].reshape(-1, 1)\n",
        "  y_test_series[k] = y_test[:, k].reshape(-1, 1)"
      ],
      "metadata": {
        "id": "Gb2QiYeZlFTu"
      },
      "execution_count": 83,
      "outputs": []
    },
    {
      "cell_type": "markdown",
      "source": [
        "Review our lists with TimeSeries"
      ],
      "metadata": {
        "id": "2icVJIN9lIko"
      }
    },
    {
      "cell_type": "code",
      "source": [
        "print(x_train_series[0].shape)\n",
        "print(x_test_series[0].shape)\n",
        "print(x_train_series[11].shape)\n",
        "print(x_test_series[11].shape)"
      ],
      "metadata": {
        "colab": {
          "base_uri": "https://localhost:8080/"
        },
        "id": "SkMUwR-ylJ29",
        "outputId": "728409a3-3d74-435b-ccf2-f1c662d3d488"
      },
      "execution_count": 86,
      "outputs": [
        {
          "output_type": "stream",
          "name": "stdout",
          "text": [
            "(600, 1, 547)\n",
            "(151, 1, 547)\n",
            "(600, 12, 547)\n",
            "(151, 12, 547)\n"
          ]
        }
      ]
    },
    {
      "cell_type": "code",
      "source": [
        "print(y_train_series[0].shape)\n",
        "print(y_test_series[0].shape)\n",
        "print(y_train_series[11].shape)\n",
        "print(y_test_series[11].shape)"
      ],
      "metadata": {
        "colab": {
          "base_uri": "https://localhost:8080/"
        },
        "id": "J8Cir-FqlTch",
        "outputId": "e93aecea-2c0e-414f-f959-e90f69ac57c0"
      },
      "execution_count": 87,
      "outputs": [
        {
          "output_type": "stream",
          "name": "stdout",
          "text": [
            "(600, 1)\n",
            "(151, 1)\n",
            "(600, 1)\n",
            "(151, 1)\n"
          ]
        }
      ]
    },
    {
      "cell_type": "markdown",
      "source": [
        "#Building LSTM Neural Network"
      ],
      "metadata": {
        "id": "9Q4qHt2LlZr3"
      }
    },
    {
      "cell_type": "code",
      "source": [
        "from keras.models import Sequential\n",
        "from keras.layers import Dense\n",
        "from keras.layers import LSTM\n",
        "from keras.layers import Dropout"
      ],
      "metadata": {
        "id": "VWGQ9_UslY_J"
      },
      "execution_count": 88,
      "outputs": []
    },
    {
      "cell_type": "code",
      "source": [
        "model = Sequential()\n",
        "model.add(LSTM(256, input_shape=(None, x_train.shape[1]+1)))\n",
        "model.add(Dropout(0.5))\n",
        "model.add(Dense(128, activation = \"relu\"))\n",
        "model.add(Dense(1))\n",
        "model.summary()"
      ],
      "metadata": {
        "colab": {
          "base_uri": "https://localhost:8080/"
        },
        "id": "aIep78U9le8p",
        "outputId": "a8a76150-b9fc-4cd4-f2ac-a0207400803c"
      },
      "execution_count": 89,
      "outputs": [
        {
          "output_type": "stream",
          "name": "stdout",
          "text": [
            "Model: \"sequential\"\n",
            "_________________________________________________________________\n",
            " Layer (type)                Output Shape              Param #   \n",
            "=================================================================\n",
            " lstm (LSTM)                 (None, 256)               823296    \n",
            "                                                                 \n",
            " dropout (Dropout)           (None, 256)               0         \n",
            "                                                                 \n",
            " dense (Dense)               (None, 128)               32896     \n",
            "                                                                 \n",
            " dense_1 (Dense)             (None, 1)                 129       \n",
            "                                                                 \n",
            "=================================================================\n",
            "Total params: 856,321\n",
            "Trainable params: 856,321\n",
            "Non-trainable params: 0\n",
            "_________________________________________________________________\n"
          ]
        }
      ]
    },
    {
      "cell_type": "code",
      "source": [
        "model.compile(loss='mse', optimizer='rmsprop')"
      ],
      "metadata": {
        "id": "ZYuH_5GrllYX"
      },
      "execution_count": 90,
      "outputs": []
    },
    {
      "cell_type": "code",
      "source": [
        "# use %timeit to measure learning time on standard Google Colab instance\n",
        "\n",
        "%%timeit -r 1 -n 1\n",
        "for i in range(len(x_train_series)):\n",
        "  print(i)\n",
        "  model.fit(x_train_series[i], y_train_series[i], epochs=10, validation_split=0.2)"
      ],
      "metadata": {
        "colab": {
          "base_uri": "https://localhost:8080/"
        },
        "id": "pp_32CShlmui",
        "outputId": "c22c8737-b258-4efd-9a76-9b5130bfe164"
      },
      "execution_count": 91,
      "outputs": [
        {
          "output_type": "stream",
          "name": "stdout",
          "text": [
            "0\n",
            "Epoch 1/10\n",
            "15/15 [==============================] - 3s 63ms/step - loss: 0.0156 - val_loss: 0.0144\n",
            "Epoch 2/10\n",
            "15/15 [==============================] - 0s 17ms/step - loss: 0.0048 - val_loss: 0.0123\n",
            "Epoch 3/10\n",
            "15/15 [==============================] - 0s 18ms/step - loss: 0.0042 - val_loss: 0.0129\n",
            "Epoch 4/10\n",
            "15/15 [==============================] - 0s 16ms/step - loss: 0.0031 - val_loss: 0.0141\n",
            "Epoch 5/10\n",
            "15/15 [==============================] - 0s 17ms/step - loss: 0.0026 - val_loss: 0.0121\n",
            "Epoch 6/10\n",
            "15/15 [==============================] - 0s 17ms/step - loss: 0.0024 - val_loss: 0.0124\n",
            "Epoch 7/10\n",
            "15/15 [==============================] - 0s 18ms/step - loss: 0.0021 - val_loss: 0.0137\n",
            "Epoch 8/10\n",
            "15/15 [==============================] - 0s 16ms/step - loss: 0.0021 - val_loss: 0.0127\n",
            "Epoch 9/10\n",
            "15/15 [==============================] - 0s 17ms/step - loss: 0.0012 - val_loss: 0.0124\n",
            "Epoch 10/10\n",
            "15/15 [==============================] - 0s 22ms/step - loss: 0.0012 - val_loss: 0.0116\n",
            "1\n",
            "Epoch 1/10\n",
            "15/15 [==============================] - 2s 74ms/step - loss: 0.0042 - val_loss: 0.0104\n",
            "Epoch 2/10\n",
            "15/15 [==============================] - 0s 31ms/step - loss: 0.0036 - val_loss: 0.0075\n",
            "Epoch 3/10\n",
            "15/15 [==============================] - 0s 24ms/step - loss: 0.0035 - val_loss: 0.0100\n",
            "Epoch 4/10\n",
            "15/15 [==============================] - 0s 24ms/step - loss: 0.0027 - val_loss: 0.0076\n",
            "Epoch 5/10\n",
            "15/15 [==============================] - 0s 27ms/step - loss: 0.0019 - val_loss: 0.0070\n",
            "Epoch 6/10\n",
            "15/15 [==============================] - 0s 34ms/step - loss: 0.0024 - val_loss: 0.0080\n",
            "Epoch 7/10\n",
            "15/15 [==============================] - 0s 31ms/step - loss: 0.0020 - val_loss: 0.0069\n",
            "Epoch 8/10\n",
            "15/15 [==============================] - 0s 32ms/step - loss: 0.0011 - val_loss: 0.0070\n",
            "Epoch 9/10\n",
            "15/15 [==============================] - 0s 33ms/step - loss: 0.0019 - val_loss: 0.0074\n",
            "Epoch 10/10\n",
            "15/15 [==============================] - 0s 26ms/step - loss: 0.0015 - val_loss: 0.0094\n",
            "2\n",
            "Epoch 1/10\n",
            "15/15 [==============================] - 2s 66ms/step - loss: 0.0066 - val_loss: 0.0088\n",
            "Epoch 2/10\n",
            "15/15 [==============================] - 0s 31ms/step - loss: 0.0064 - val_loss: 0.0102\n",
            "Epoch 3/10\n",
            "15/15 [==============================] - 1s 41ms/step - loss: 0.0044 - val_loss: 0.0095\n",
            "Epoch 4/10\n",
            "15/15 [==============================] - 1s 37ms/step - loss: 0.0028 - val_loss: 0.0107\n",
            "Epoch 5/10\n",
            "15/15 [==============================] - 0s 31ms/step - loss: 0.0032 - val_loss: 0.0072\n",
            "Epoch 6/10\n",
            "15/15 [==============================] - 0s 32ms/step - loss: 0.0025 - val_loss: 0.0078\n",
            "Epoch 7/10\n",
            "15/15 [==============================] - 0s 31ms/step - loss: 0.0020 - val_loss: 0.0094\n",
            "Epoch 8/10\n",
            "15/15 [==============================] - 0s 30ms/step - loss: 0.0022 - val_loss: 0.0089\n",
            "Epoch 9/10\n",
            "15/15 [==============================] - 0s 31ms/step - loss: 0.0023 - val_loss: 0.0103\n",
            "Epoch 10/10\n",
            "15/15 [==============================] - 0s 30ms/step - loss: 0.0020 - val_loss: 0.0080\n",
            "3\n",
            "Epoch 1/10\n",
            "15/15 [==============================] - 1s 48ms/step - loss: 0.0042 - val_loss: 0.0132\n",
            "Epoch 2/10\n",
            "15/15 [==============================] - 1s 48ms/step - loss: 0.0037 - val_loss: 0.0125\n",
            "Epoch 3/10\n",
            "15/15 [==============================] - 1s 38ms/step - loss: 0.0022 - val_loss: 0.0119\n",
            "Epoch 4/10\n",
            "15/15 [==============================] - 1s 37ms/step - loss: 0.0029 - val_loss: 0.0115\n",
            "Epoch 5/10\n",
            "15/15 [==============================] - 1s 48ms/step - loss: 0.0015 - val_loss: 0.0123\n",
            "Epoch 6/10\n",
            "15/15 [==============================] - 1s 39ms/step - loss: 0.0015 - val_loss: 0.0102\n",
            "Epoch 7/10\n",
            "15/15 [==============================] - 1s 37ms/step - loss: 0.0019 - val_loss: 0.0110\n",
            "Epoch 8/10\n",
            "15/15 [==============================] - 1s 46ms/step - loss: 0.0012 - val_loss: 0.0103\n",
            "Epoch 9/10\n",
            "15/15 [==============================] - 1s 45ms/step - loss: 0.0013 - val_loss: 0.0105\n",
            "Epoch 10/10\n",
            "15/15 [==============================] - 1s 47ms/step - loss: 0.0015 - val_loss: 0.0111\n",
            "4\n",
            "Epoch 1/10\n",
            "15/15 [==============================] - 1s 48ms/step - loss: 0.0026 - val_loss: 0.0049\n",
            "Epoch 2/10\n",
            "15/15 [==============================] - 1s 54ms/step - loss: 0.0022 - val_loss: 0.0032\n",
            "Epoch 3/10\n",
            "15/15 [==============================] - 1s 55ms/step - loss: 9.8228e-04 - val_loss: 0.0041\n",
            "Epoch 4/10\n",
            "15/15 [==============================] - 1s 46ms/step - loss: 0.0012 - val_loss: 0.0039\n",
            "Epoch 5/10\n",
            "15/15 [==============================] - 1s 43ms/step - loss: 9.4691e-04 - val_loss: 0.0035\n",
            "Epoch 6/10\n",
            "15/15 [==============================] - 1s 42ms/step - loss: 8.1104e-04 - val_loss: 0.0046\n",
            "Epoch 7/10\n",
            "15/15 [==============================] - 1s 52ms/step - loss: 7.8112e-04 - val_loss: 0.0048\n",
            "Epoch 8/10\n",
            "15/15 [==============================] - 1s 57ms/step - loss: 0.0022 - val_loss: 0.0036\n",
            "Epoch 9/10\n",
            "15/15 [==============================] - 1s 55ms/step - loss: 4.9890e-04 - val_loss: 0.0035\n",
            "Epoch 10/10\n",
            "15/15 [==============================] - 1s 43ms/step - loss: 0.0011 - val_loss: 0.0045\n",
            "5\n",
            "Epoch 1/10\n",
            "15/15 [==============================] - 1s 57ms/step - loss: 0.0053 - val_loss: 0.0075\n",
            "Epoch 2/10\n",
            "15/15 [==============================] - 1s 50ms/step - loss: 0.0052 - val_loss: 0.0067\n",
            "Epoch 3/10\n",
            "15/15 [==============================] - 1s 48ms/step - loss: 0.0043 - val_loss: 0.0083\n",
            "Epoch 4/10\n",
            "15/15 [==============================] - 1s 49ms/step - loss: 0.0044 - val_loss: 0.0068\n",
            "Epoch 5/10\n",
            "15/15 [==============================] - 1s 49ms/step - loss: 0.0045 - val_loss: 0.0078\n",
            "Epoch 6/10\n",
            "15/15 [==============================] - 1s 52ms/step - loss: 0.0029 - val_loss: 0.0091\n",
            "Epoch 7/10\n",
            "15/15 [==============================] - 1s 66ms/step - loss: 0.0029 - val_loss: 0.0089\n",
            "Epoch 8/10\n",
            "15/15 [==============================] - 1s 65ms/step - loss: 0.0024 - val_loss: 0.0074\n",
            "Epoch 9/10\n",
            "15/15 [==============================] - 1s 67ms/step - loss: 0.0029 - val_loss: 0.0059\n",
            "Epoch 10/10\n",
            "15/15 [==============================] - 1s 49ms/step - loss: 0.0020 - val_loss: 0.0079\n",
            "6\n",
            "Epoch 1/10\n",
            "15/15 [==============================] - 1s 62ms/step - loss: 0.0083 - val_loss: 0.0137\n",
            "Epoch 2/10\n",
            "15/15 [==============================] - 1s 60ms/step - loss: 0.0067 - val_loss: 0.0147\n",
            "Epoch 3/10\n",
            "15/15 [==============================] - 1s 72ms/step - loss: 0.0060 - val_loss: 0.0107\n",
            "Epoch 4/10\n",
            "15/15 [==============================] - 1s 65ms/step - loss: 0.0063 - val_loss: 0.0117\n",
            "Epoch 5/10\n",
            "15/15 [==============================] - 1s 57ms/step - loss: 0.0047 - val_loss: 0.0136\n",
            "Epoch 6/10\n",
            "15/15 [==============================] - 1s 57ms/step - loss: 0.0054 - val_loss: 0.0120\n",
            "Epoch 7/10\n",
            "15/15 [==============================] - 1s 55ms/step - loss: 0.0041 - val_loss: 0.0115\n",
            "Epoch 8/10\n",
            "15/15 [==============================] - 1s 72ms/step - loss: 0.0037 - val_loss: 0.0130\n",
            "Epoch 9/10\n",
            "15/15 [==============================] - 1s 72ms/step - loss: 0.0031 - val_loss: 0.0114\n",
            "Epoch 10/10\n",
            "15/15 [==============================] - 1s 70ms/step - loss: 0.0040 - val_loss: 0.0107\n",
            "7\n",
            "Epoch 1/10\n",
            "15/15 [==============================] - 1s 66ms/step - loss: 0.0043 - val_loss: 0.0065\n",
            "Epoch 2/10\n",
            "15/15 [==============================] - 1s 63ms/step - loss: 0.0031 - val_loss: 0.0058\n",
            "Epoch 3/10\n",
            "15/15 [==============================] - 1s 78ms/step - loss: 0.0027 - val_loss: 0.0054\n",
            "Epoch 4/10\n",
            "15/15 [==============================] - 2s 104ms/step - loss: 0.0029 - val_loss: 0.0050\n",
            "Epoch 5/10\n",
            "15/15 [==============================] - 1s 80ms/step - loss: 0.0022 - val_loss: 0.0055\n",
            "Epoch 6/10\n",
            "15/15 [==============================] - 1s 71ms/step - loss: 0.0018 - val_loss: 0.0055\n",
            "Epoch 7/10\n",
            "15/15 [==============================] - 1s 69ms/step - loss: 0.0016 - val_loss: 0.0050\n",
            "Epoch 8/10\n",
            "15/15 [==============================] - 1s 78ms/step - loss: 0.0018 - val_loss: 0.0050\n",
            "Epoch 9/10\n",
            "15/15 [==============================] - 1s 66ms/step - loss: 0.0018 - val_loss: 0.0053\n",
            "Epoch 10/10\n",
            "15/15 [==============================] - 1s 65ms/step - loss: 0.0018 - val_loss: 0.0051\n",
            "8\n",
            "Epoch 1/10\n",
            "15/15 [==============================] - 1s 84ms/step - loss: 0.0042 - val_loss: 0.0032\n",
            "Epoch 2/10\n",
            "15/15 [==============================] - 1s 71ms/step - loss: 0.0024 - val_loss: 0.0024\n",
            "Epoch 3/10\n",
            "15/15 [==============================] - 1s 82ms/step - loss: 0.0021 - val_loss: 0.0027\n",
            "Epoch 4/10\n",
            "15/15 [==============================] - 1s 73ms/step - loss: 0.0021 - val_loss: 0.0024\n",
            "Epoch 5/10\n",
            "15/15 [==============================] - 1s 87ms/step - loss: 0.0018 - val_loss: 0.0032\n",
            "Epoch 6/10\n",
            "15/15 [==============================] - 1s 76ms/step - loss: 0.0011 - val_loss: 0.0032\n",
            "Epoch 7/10\n",
            "15/15 [==============================] - 1s 69ms/step - loss: 0.0016 - val_loss: 0.0024\n",
            "Epoch 8/10\n",
            "15/15 [==============================] - 1s 68ms/step - loss: 9.2567e-04 - val_loss: 0.0027\n",
            "Epoch 9/10\n",
            "15/15 [==============================] - 1s 83ms/step - loss: 8.7386e-04 - val_loss: 0.0027\n",
            "Epoch 10/10\n",
            "15/15 [==============================] - 1s 72ms/step - loss: 9.4915e-04 - val_loss: 0.0029\n",
            "9\n",
            "Epoch 1/10\n",
            "15/15 [==============================] - 1s 81ms/step - loss: 0.0041 - val_loss: 0.0023\n",
            "Epoch 2/10\n",
            "15/15 [==============================] - 1s 78ms/step - loss: 0.0025 - val_loss: 0.0021\n",
            "Epoch 3/10\n",
            "15/15 [==============================] - 1s 88ms/step - loss: 0.0028 - val_loss: 0.0023\n",
            "Epoch 4/10\n",
            "15/15 [==============================] - 1s 89ms/step - loss: 0.0025 - val_loss: 0.0020\n",
            "Epoch 5/10\n",
            "15/15 [==============================] - 1s 82ms/step - loss: 0.0023 - val_loss: 0.0024\n",
            "Epoch 6/10\n",
            "15/15 [==============================] - 1s 93ms/step - loss: 0.0019 - val_loss: 0.0019\n",
            "Epoch 7/10\n",
            "15/15 [==============================] - 1s 83ms/step - loss: 0.0018 - val_loss: 0.0021\n",
            "Epoch 8/10\n",
            "15/15 [==============================] - 1s 98ms/step - loss: 0.0018 - val_loss: 0.0021\n",
            "Epoch 9/10\n",
            "15/15 [==============================] - 1s 81ms/step - loss: 0.0019 - val_loss: 0.0022\n",
            "Epoch 10/10\n",
            "15/15 [==============================] - 2s 101ms/step - loss: 0.0019 - val_loss: 0.0023\n",
            "10\n",
            "Epoch 1/10\n",
            "15/15 [==============================] - 2s 105ms/step - loss: 0.0074 - val_loss: 0.0111\n",
            "Epoch 2/10\n",
            "15/15 [==============================] - 1s 82ms/step - loss: 0.0058 - val_loss: 0.0126\n",
            "Epoch 3/10\n",
            "15/15 [==============================] - 1s 93ms/step - loss: 0.0046 - val_loss: 0.0129\n",
            "Epoch 4/10\n",
            "15/15 [==============================] - 1s 86ms/step - loss: 0.0037 - val_loss: 0.0129\n",
            "Epoch 5/10\n",
            "15/15 [==============================] - 1s 83ms/step - loss: 0.0034 - val_loss: 0.0129\n",
            "Epoch 6/10\n",
            "15/15 [==============================] - 1s 84ms/step - loss: 0.0029 - val_loss: 0.0129\n",
            "Epoch 7/10\n",
            "15/15 [==============================] - 1s 83ms/step - loss: 0.0026 - val_loss: 0.0130\n",
            "Epoch 8/10\n",
            "15/15 [==============================] - 1s 83ms/step - loss: 0.0022 - val_loss: 0.0134\n",
            "Epoch 9/10\n",
            "15/15 [==============================] - 2s 102ms/step - loss: 0.0018 - val_loss: 0.0158\n",
            "Epoch 10/10\n",
            "15/15 [==============================] - 1s 92ms/step - loss: 0.0019 - val_loss: 0.0135\n",
            "11\n",
            "Epoch 1/10\n",
            "15/15 [==============================] - 1s 91ms/step - loss: 0.0063 - val_loss: 0.0047\n",
            "Epoch 2/10\n",
            "15/15 [==============================] - 2s 107ms/step - loss: 0.0047 - val_loss: 0.0051\n",
            "Epoch 3/10\n",
            "15/15 [==============================] - 2s 110ms/step - loss: 0.0038 - val_loss: 0.0060\n",
            "Epoch 4/10\n",
            "15/15 [==============================] - 2s 112ms/step - loss: 0.0028 - val_loss: 0.0049\n",
            "Epoch 5/10\n",
            "15/15 [==============================] - 1s 91ms/step - loss: 0.0027 - val_loss: 0.0058\n",
            "Epoch 6/10\n",
            "15/15 [==============================] - 1s 94ms/step - loss: 0.0019 - val_loss: 0.0047\n",
            "Epoch 7/10\n",
            "15/15 [==============================] - 1s 97ms/step - loss: 0.0022 - val_loss: 0.0057\n",
            "Epoch 8/10\n",
            "15/15 [==============================] - 2s 110ms/step - loss: 0.0017 - val_loss: 0.0050\n",
            "Epoch 9/10\n",
            "15/15 [==============================] - 1s 90ms/step - loss: 0.0016 - val_loss: 0.0046\n",
            "Epoch 10/10\n",
            "15/15 [==============================] - 2s 103ms/step - loss: 0.0012 - val_loss: 0.0058\n",
            "1 loop, best of 1: 2min 39s per loop\n"
          ]
        }
      ]
    },
    {
      "cell_type": "code",
      "source": [
        "## Evaluate model for prediction of outcome after several months\n",
        "\n",
        "for i in range(len(x_test_series)):\n",
        "  accr = model.evaluate(x_test_series[i], y_test_series[i])\n",
        "  print(\"Predicting outcome after {} months. MSE:\".format(i), accr)"
      ],
      "metadata": {
        "colab": {
          "base_uri": "https://localhost:8080/"
        },
        "id": "kjluanjYmZBn",
        "outputId": "8b74c95b-d212-4a4d-d07d-be34869b6e24"
      },
      "execution_count": 92,
      "outputs": [
        {
          "output_type": "stream",
          "name": "stdout",
          "text": [
            "5/5 [==============================] - 0s 10ms/step - loss: 0.0287\n",
            "Predicting outcome after 0 months. MSE: 0.02872634120285511\n",
            "5/5 [==============================] - 0s 15ms/step - loss: 0.0242\n",
            "Predicting outcome after 1 months. MSE: 0.024169595912098885\n",
            "5/5 [==============================] - 0s 21ms/step - loss: 0.0119\n",
            "Predicting outcome after 2 months. MSE: 0.011887386441230774\n",
            "5/5 [==============================] - 0s 18ms/step - loss: 0.0179\n",
            "Predicting outcome after 3 months. MSE: 0.017899123951792717\n",
            "5/5 [==============================] - 0s 22ms/step - loss: 0.0133\n",
            "Predicting outcome after 4 months. MSE: 0.013292050920426846\n",
            "5/5 [==============================] - 0s 34ms/step - loss: 0.0196\n",
            "Predicting outcome after 5 months. MSE: 0.019582780078053474\n",
            "5/5 [==============================] - 0s 23ms/step - loss: 0.0284\n",
            "Predicting outcome after 6 months. MSE: 0.02840999886393547\n",
            "5/5 [==============================] - 0s 26ms/step - loss: 0.0104\n",
            "Predicting outcome after 7 months. MSE: 0.010426458902657032\n",
            "5/5 [==============================] - 0s 25ms/step - loss: 0.0108\n",
            "Predicting outcome after 8 months. MSE: 0.010841797105967999\n",
            "5/5 [==============================] - 0s 30ms/step - loss: 0.0106\n",
            "Predicting outcome after 9 months. MSE: 0.010554567910730839\n",
            "5/5 [==============================] - 0s 21ms/step - loss: 0.0130\n",
            "Predicting outcome after 10 months. MSE: 0.012999964877963066\n",
            "5/5 [==============================] - 0s 26ms/step - loss: 0.0103\n",
            "Predicting outcome after 11 months. MSE: 0.010309930890798569\n"
          ]
        }
      ]
    },
    {
      "cell_type": "code",
      "source": [
        "prediction = model.predict(x_test_series[11])\n",
        "prediction.shape"
      ],
      "metadata": {
        "colab": {
          "base_uri": "https://localhost:8080/"
        },
        "id": "AzvcmM0dmead",
        "outputId": "352eff81-f355-4679-e5b9-63e2b72789f3"
      },
      "execution_count": 93,
      "outputs": [
        {
          "output_type": "execute_result",
          "data": {
            "text/plain": [
              "(151, 1)"
            ]
          },
          "metadata": {},
          "execution_count": 93
        }
      ]
    },
    {
      "cell_type": "markdown",
      "source": [
        "#Outcome prediction function\n",
        "We will use our model to create a function that will take information about product features and outcome history during several months. As a result this function will predict future outcome for as many months as you wish."
      ],
      "metadata": {
        "id": "AENFiUMVmge9"
      }
    },
    {
      "cell_type": "code",
      "source": [
        "# our function will take information about outcome during first m months and predict outcome for future months\n",
        "\n",
        "def predictor(features, history, future):\n",
        "  '''\n",
        "  features: list of product features\n",
        "  history: list with outcome per month\n",
        "  future: int, number of months to predict outcome\n",
        "  '''\n",
        "  if future == 0:\n",
        "    return history  \n",
        "  \n",
        "  p_serie = np.zeros((1, len(history), len(features)+1))  \n",
        "  \n",
        "  for j in range(len(history)):\n",
        "    shifted_index = j - 1\n",
        "    if shifted_index < 0:\n",
        "      p_serie[0, j] = np.append(features, 0)\n",
        "    else:\n",
        "      p_serie[0, j] = np.append(features, history[shifted_index])\n",
        "      \n",
        "  prediction = model.predict(p_serie)    \n",
        "  \n",
        "  history.append(prediction[0][0])\n",
        "  future -= 1  \n",
        "  \n",
        "  return predictor(features, history, future)"
      ],
      "metadata": {
        "id": "zt2ijKM2mhb1"
      },
      "execution_count": 94,
      "outputs": []
    },
    {
      "cell_type": "code",
      "source": [
        "# we will test our function on a random product n\n",
        "# we will create two lists. First with outcome history for first m months, second with product features\n",
        "\n",
        "import random\n",
        "\n",
        "n = random.choice(range(len(x_test)-1))\n",
        "m = 6\n",
        "future = 6\n",
        "\n",
        "features = x_test[n].tolist()\n",
        "history = y_test[n, 0:m].tolist()\n",
        "\n",
        "print(\"Features: \", features[0:5])\n",
        "print(\"Scaled outcome history: \", history)"
      ],
      "metadata": {
        "colab": {
          "base_uri": "https://localhost:8080/"
        },
        "id": "xGq6mA7Am2Bp",
        "outputId": "33e867ca-b0db-40bc-e09f-e45197ea76c5"
      },
      "execution_count": 95,
      "outputs": [
        {
          "output_type": "stream",
          "name": "stdout",
          "text": [
            "Features:  [0.0, 0.6984126984126985, 0.5965877289483335, 0.8969072164948454, 0.8296703296703297]\n",
            "Scaled outcome history:  [0.16541353383458646, 0.030303030303030304, 0.018518518518518517, 0.027027027027027025, 0.024691358024691357, 0.1111111111111111]\n"
          ]
        }
      ]
    },
    {
      "cell_type": "code",
      "source": [
        "prediction = predictor(features, history, future)\n",
        "print(prediction)\n",
        "print(y_test[n, :m+future])"
      ],
      "metadata": {
        "colab": {
          "base_uri": "https://localhost:8080/"
        },
        "id": "FgIqttcMm5MY",
        "outputId": "c5a982bd-9baf-4d61-f215-d9c3494e4d03"
      },
      "execution_count": 96,
      "outputs": [
        {
          "output_type": "stream",
          "name": "stdout",
          "text": [
            "[0.16541353383458646, 0.030303030303030304, 0.018518518518518517, 0.027027027027027025, 0.024691358024691357, 0.1111111111111111, 0.1705983, 0.17288882, 0.17496036, 0.17673708, 0.17823851, 0.17950952]\n",
            "[0.16541353 0.03030303 0.01851852 0.02702703 0.02469136 0.11111111\n",
            " 0.2        0.0952381  0.08695652 0.08695652 0.6        0.2       ]\n"
          ]
        }
      ]
    },
    {
      "cell_type": "code",
      "source": [
        "y_scaler.inverse_transform([prediction])"
      ],
      "metadata": {
        "colab": {
          "base_uri": "https://localhost:8080/"
        },
        "id": "25-fkJD3m-M4",
        "outputId": "1904720a-f302-4c41-d80f-c39a2b2aa7dd"
      },
      "execution_count": 97,
      "outputs": [
        {
          "output_type": "execute_result",
          "data": {
            "text/plain": [
              "array([[90000.        ,  8000.        ,  2000.        ,  2000.        ,\n",
              "         2000.        ,  3000.        ,  2558.97447467,  3630.66512346,\n",
              "         4024.08827841,  4064.95295465,  1782.38511086,  1795.09520531]])"
            ]
          },
          "metadata": {},
          "execution_count": 97
        }
      ]
    },
    {
      "cell_type": "code",
      "source": [
        "# plot results of prediction comparing real data\n",
        "plt.plot(y_scaler.inverse_transform([prediction])[0])\n",
        "plt.plot(y_scaler.inverse_transform([y_test[n, :m+future]])[0])\n",
        "plt.title('Predicted and real outcome')\n",
        "plt.legend(['predicted', 'real'], loc='upper left')\n",
        "axes = plt.gca()\n",
        "\n",
        "plt.show()"
      ],
      "metadata": {
        "colab": {
          "base_uri": "https://localhost:8080/",
          "height": 281
        },
        "id": "h7Je-JawnAib",
        "outputId": "35e3515c-0539-4cc1-8c8e-943c623c2cca"
      },
      "execution_count": 98,
      "outputs": [
        {
          "output_type": "display_data",
          "data": {
            "image/png": "[encoded data removed]",
            "text/plain": [
              "<Figure size 432x288 with 1 Axes>"
            ]
          },
          "metadata": {
            "needs_background": "light"
          }
        }
      ]
    },
    {
      "cell_type": "code",
      "source": [
        "for i in range(3):\n",
        "  n = random.choice(range(len(x_test)-1))\n",
        "  m = 6\n",
        "  future = 6\n",
        "  features = x_test[n].tolist()\n",
        "  history = y_test[n, 0:m].tolist()\n",
        "\n",
        "  prediction = predictor(features, history, future)\n",
        "\n",
        "  # plot results of prediction comparing real data\n",
        "  plt.plot(y_scaler.inverse_transform([prediction])[0])\n",
        "  plt.plot(y_scaler.inverse_transform([y_test[n, :m+future]])[0])\n",
        "  plt.title('Predicted and real outcome')\n",
        "  plt.legend(['predicted', 'real'], loc='upper left')\n",
        "  axes = plt.gca()  \n",
        "  plt.show()"
      ],
      "metadata": {
        "colab": {
          "base_uri": "https://localhost:8080/",
          "height": 808
        },
        "id": "RoD4khKJnSbG",
        "outputId": "a27fa275-4dfd-421c-82b4-c328bce0bd94"
      },
      "execution_count": 99,
      "outputs": [
        {
          "output_type": "display_data",
          "data": {
            "image/png": "[encoded data removed]",
            "text/plain": [
              "<Figure size 432x288 with 1 Axes>"
            ]
          },
          "metadata": {
            "needs_background": "light"
          }
        },
        {
          "output_type": "display_data",
          "data": {
            "image/png": "[encoded data removed]",
            "text/plain": [
              "<Figure size 432x288 with 1 Axes>"
            ]
          },
          "metadata": {
            "needs_background": "light"
          }
        },
        {
          "output_type": "display_data",
          "data": {
            "image/png": "[encoded data removed]",
            "text/plain": [
              "<Figure size 432x288 with 1 Axes>"
            ]
          },
          "metadata": {
            "needs_background": "light"
          }
        }
      ]
    },
    {
      "cell_type": "markdown",
      "source": [
        "#Sync prediction to Google Sheet"
      ],
      "metadata": {
        "id": "vpMpATawnZl4"
      }
    },
    {
      "cell_type": "code",
      "source": [
        "!pip install --upgrade oauth2client gspread"
      ],
      "metadata": {
        "id": "QfFkaVQ-nalW"
      },
      "execution_count": null,
      "outputs": []
    },
    {
      "cell_type": "code",
      "source": [
        "from google.colab import auth\n",
        "auth.authenticate_user()\n",
        "\n",
        "import gspread\n",
        "from oauth2client.client import GoogleCredentials\n",
        "\n",
        "gc = gspread.authorize(GoogleCredentials.get_application_default())\n",
        "\n",
        "sh = gc.create('TrainingDataset2')\n",
        "\n",
        "# Go to https://sheets.google.com to see your new spreadsheet.\n",
        "#https://colab.research.google.com/notebooks/snippets/sheets.ipynb#scrollTo=6d0xJz3VzLOo"
      ],
      "metadata": {
        "colab": {
          "base_uri": "https://localhost:8080/",
          "height": 52
        },
        "id": "2J6QOvJmov6-",
        "outputId": "b6989410-3913-4b69-ec05-f70084667bf5"
      },
      "execution_count": 128,
      "outputs": [
        {
          "output_type": "execute_result",
          "data": {
            "application/vnd.google.colaboratory.intrinsic+json": {
              "type": "string"
            },
            "text/plain": [
              "\"\\n# Open our new sheet and add some data.\\nworksheet = gc.open('A new spreadsheet').sheet1\\n\\ncell_list = worksheet.range('A1:C2')\\n\\nimport random\\nfor cell in cell_list:\\n  cell.value = random.randint(1, 10)\\n\\nworksheet.update_cells(cell_list)\""
            ]
          },
          "metadata": {},
          "execution_count": 128
        }
      ]
    },
    {
      "cell_type": "code",
      "source": [
        "# Open Google Sheet for saving real and predicted data. \n",
        "# We have two worksheets in it: \"real\" for real data, \"predicted\" for predicted data. (I manually named these two worksheets)\n",
        "\n",
        "ws = gc.open('TrainingDataset2')\n",
        "\n",
        "ws_predicted = ws.worksheet('predicted')\n",
        "ws_real = ws.worksheet('real')"
      ],
      "metadata": {
        "id": "6GQzjPmvpWzZ"
      },
      "execution_count": 135,
      "outputs": []
    },
    {
      "cell_type": "code",
      "source": [
        "real_data = []\n",
        "predicted_data = []\n",
        "\n",
        "for i in range(3):\n",
        "  n = random.choice(range(len(x_test)-1))\n",
        "  m = 6\n",
        "  future = 6\n",
        "  features = x_test[n].tolist()\n",
        "  history = y_test[n, 0:m].tolist()\n",
        "\n",
        "  prediction = predictor(features, history, future)\n",
        "\n",
        "  predicted_data.append(y_scaler.inverse_transform([prediction])[0])\n",
        "  real_data.append(y_scaler.inverse_transform([y_test[n, :m+future]])[0])  "
      ],
      "metadata": {
        "id": "25sCMrXlpU0v"
      },
      "execution_count": 143,
      "outputs": []
    },
    {
      "cell_type": "code",
      "source": [
        "# Write our real and predicted data to Google Sheets.\n",
        "# We will write starting from  the second row, reserving first row for column names(Product1, Product2, Product3)\n",
        "\n",
        "for j in range(len(real_data)):\n",
        "  for i in range(len(real_data[0])):\n",
        "    ws_predicted.update_cell(i+2, j+1, float(predicted_data[j][i]))\n",
        "    ws_real.update_cell(i+2, j+1, float(real_data[j][i]))\n",
        "    \n",
        "    \n",
        "for i in range(len(real_data[0])):    \n",
        "    # add index column\n",
        "    ws_predicted.update_cell(i+2, len(real_data)+1, i)\n",
        "    ws_real.update_cell(i+2, len(real_data)+1, i)"
      ],
      "metadata": {
        "id": "6EZCbOyyrW6f"
      },
      "execution_count": 144,
      "outputs": []
    },
    {
      "cell_type": "code",
      "source": [
        "predicted_data[0]"
      ],
      "metadata": {
        "colab": {
          "base_uri": "https://localhost:8080/"
        },
        "id": "8SbfWogfxd0f",
        "outputId": "cdefe5c8-969f-43ba-e656-2b7420eec0e6"
      },
      "execution_count": 139,
      "outputs": [
        {
          "output_type": "execute_result",
          "data": {
            "text/plain": [
              "array([24000.        , 18000.        ,  2000.        ,  2000.        ,\n",
              "        3000.        ,   500.        ,   871.63187563,  1026.76170319,\n",
              "         939.57241625,   789.24888372,   295.03569007,   262.2333914 ])"
            ]
          },
          "metadata": {},
          "execution_count": 139
        }
      ]
    },
    {
      "cell_type": "code",
      "source": [
        "# Review our data at Google Sheets (I manually named product 1~3 ans series for column name)\n",
        "\n",
        "ws_real.get_all_records()[6:11]"
      ],
      "metadata": {
        "colab": {
          "base_uri": "https://localhost:8080/"
        },
        "id": "R-ZMMyQpyJzE",
        "outputId": "8012c6bb-3381-4ec5-977f-6e4493886940"
      },
      "execution_count": 146,
      "outputs": [
        {
          "output_type": "execute_result",
          "data": {
            "text/plain": [
              "[{'Product 1': 52000, 'Product 2': 2000, 'Product 3': 16000, 'series': 0},\n",
              " {'Product 1': 48000, 'Product 2': 3000, 'Product 3': 10000, 'series': 1},\n",
              " {'Product 1': 10000, 'Product 2': 2000, 'Product 3': 3000, 'series': 2},\n",
              " {'Product 1': 5000, 'Product 2': 2000, 'Product 3': 2000, 'series': 3},\n",
              " {'Product 1': 5000, 'Product 2': 2000, 'Product 3': 2000, 'series': 4},\n",
              " {'Product 1': 2000, 'Product 2': 500, 'Product 3': 2000, 'series': 5},\n",
              " {'Product 1': 2000, 'Product 2': 500, 'Product 3': 2000, 'series': 6},\n",
              " {'Product 1': 3000, 'Product 2': 500, 'Product 3': 5000, 'series': 7},\n",
              " {'Product 1': 2000, 'Product 2': 500, 'Product 3': 3000, 'series': 8},\n",
              " {'Product 1': 2000, 'Product 2': 500, 'Product 3': 3000, 'series': 9},\n",
              " {'Product 1': 3000, 'Product 2': 500, 'Product 3': 0, 'series': 10},\n",
              " {'Product 1': 500, 'Product 2': 500, 'Product 3': 0, 'series': 11}]"
            ]
          },
          "metadata": {},
          "execution_count": 146
        }
      ]
    },
    {
      "cell_type": "code",
      "source": [
        "ws_predicted.get_all_records()[6:11]"
      ],
      "metadata": {
        "colab": {
          "base_uri": "https://localhost:8080/"
        },
        "id": "1tn3PFJPyO0Y",
        "outputId": "04aad8c6-7765-4ed7-8514-61884cc89524"
      },
      "execution_count": 147,
      "outputs": [
        {
          "output_type": "execute_result",
          "data": {
            "text/plain": [
              "[{'Product 1': 2565.324381,\n",
              "  'Product 2': 717.818588,\n",
              "  'Product 3': 406.1444476,\n",
              "  'series': 6},\n",
              " {'Product 1': 3681.367323,\n",
              "  'Product 2': 994.8621914,\n",
              "  'Product 3': 444.6738437,\n",
              "  'series': 7},\n",
              " {'Product 1': 4128.431082,\n",
              "  'Product 2': 1097.420856,\n",
              "  'Product 3': 396.1718529,\n",
              "  'series': 8},\n",
              " {'Product 1': 4215.579286,\n",
              "  'Product 2': 1108.99388,\n",
              "  'Product 3': 338.6957273,\n",
              "  'series': 9},\n",
              " {'Product 1': 1866.296828,\n",
              "  'Product 2': 487.2814566,\n",
              "  'Product 3': 130.5509359,\n",
              "  'series': 10}]"
            ]
          },
          "metadata": {},
          "execution_count": 147
        }
      ]
    },
    {
      "cell_type": "markdown",
      "source": [
        "#Display in Google Data Studio\n",
        "https://datastudio.google.com/reporting/57558fcf-4060-4f45-bc44-206a619a0a4e\n",
        "![BI in Data Studio.PNG](data:image/png;base64,iVBORw0KGgoAAAANSUhEUgAABM8AAAF6CAYAAAAOKH+vAAAAAXNSR0IArs4c6QAAAARnQU1BAACxjwv8YQUAAAAJcEhZcwAADsMAAA7DAcdvqGQAAGfZSURBVHhe7d0HmFTl1cDxTWK6JNEkJjEmpKlJDDFGDZYQNRrkC0bUSDGosaPYomLBBqIoICg2QESkF0F67723pbP0tix9d3rd893zzp1ldpjZAlvu7P5/z3Me2Dt3Zu/M3Zl75rwtSwAAAAAAAACkRPEMAAAAAAAASIPiGQAAAAAAAJAGxTMAAAAAAAAgDYpnAAAAAAAAQBoUzwAAAAAAAIA0KJ4BAAAAAAAAaVA8AwAAAAAAANKgeAYAAAAAAACkQfEMAAAAAAAASIPiGQAAAAAAAJAGxTMAAAAAAAAgDYpnAAAAAAAAQBoUzwAAAAAAAIA0KJ4BAAAAAAAAaVA8AwAAAAAAANKgeAYAAAAAAACkQfEMAAAAAAAASIPiGQAAAAAAAJAGxTMAAAAAAAAgDYpnAAAAAAAAQBq1oni2YMECufHGG+XIkSP2FgAAAAAAAKB01Vo806JWVlZWsahfv758+umnEggE7L1OH8UzAACQSVLlSHXr1pU2bdrIgQMH7L0qzqBBg6RVq1bi8/nMz2vXrpXJkydLJBIxP1eVDh06mAAAAHCSai+e1atXT5YtW2YKWxozZ840BbTu3btLYWGhvefpqYri2ebNm6Vhw4bmXwAAgNORKkfaunWrPPTQQ3LrrbfKoUOH7D0rRnLx7IMPPpDmzZtLQUGB+bk0yfc/VVVRPKuoYwUAALVHtRfPLr744pMKTprUNG7cWI4dO2ZvOT0UzwAAQCZJlyPt379frr32Wpk7d669pWKcbkGJ4hkAAKjJHFk8Gzt2bLHimcvlks6dO5vhChovvfSSHD161NymtPVVt+ltderUkXvvvVf27Nlj31p68UyHiOpQUW3h1fs3bdpUVq9ebd+aujCW+Jia5CUOq4gnfdpzTnvSXX/99WZ7gwYNzM/xHnX67+LFi+Wmm24yt2uPu6FDh0o4HDa362Pr7+jbt6/cfffd5tj0MfQ+GvHHbdSokaxcudLcJy4nJ6foPsmPCwAAnC1djqQ5zw033CDTpk0zP2vO8fTTT8vLL78sl156adH+JeUB8fxEc4p43qSPk1hQSi4w6b/vvfeeXHjhhUX30VwrnqvEcyANPXaVmF+dffbZ8uCDDxbLz/R49Ljit7/44ovy8MMPl1g8S8wJUz1mqsKYPp5GScea7vnFlTVX7NevX1Fepz0Et2zZIqNHjzbnQO93xx13yK5du+x7nZwLam6XmCsCAABncFTxTBMFTfa0cNalSxczz4YmK88884y0a9dO8vLyTIvrCy+8YLbpbR6PR+655x5zuyZFWlTT/+s2vU0lFrqS6e/Q36W/c+PGjSYp7d27t1xxxRXmZxVPiBIT2OTHTLXPnDlz5KqrrjJzhuh+WhTU5xtP1OLPX7fr7QsXLjS/d/Dgwea10G36O+LHps9fn9s555wjLVu2NL8rvi1xaMXOnTvNscQfNzs72xTYxowZY24HAADOlpwjKS3waI5yzTXXmGu90qKQFpG08DN//nxTXCotD9CftQikj6V5z9KlS83+6YpnWuTq1KmTKfwk5h6Jw0eTi1aax+gUHFrc0mKR7qc/a74SbxydOnWqnH/++UXHqfmSPud0xTN97Mcee6zoMePH0aRJE/N/VVLxLC55n9KeX1lzRT32+LFp6P81Z3vuueeKbdOfg8Ggud/y5ctNT0LNAfU1mD17tskddTsAAHAOxy0YoAngO++8U5TQrFixwhSQtGgWt2nTJrNN5/6IRqMmCYsnISq5sJX8cyJNZK677jqTOMZpEqWJzeuvv26SP02Iyls88/v90rp1a+nRo0dR66H+++6775pterxPPfWUdOvWreh2NWnSJJPgHj582Dy2/o7EoRnx5CxxmybB+hz09VD6+rVt27bYJL/9+/c3x6PHBQAAnC1VjqQR74Eep0Wh5Gt+aXnAm2++KU888YRphIxLLigl/qz5heYZq1atMrcpzVEeeOCBom3J99f8SnMYzVHitOik2/T443lSch6UXOhKpDmhFg537NhhbxHJz883DYr6+1XycajSimelPb+y5oraI1Bz1Dg9h1qkTNymPQbjoyviuWCvXr3sW2O5ohbu9BwBAADncNSCAZpM6ZCDxORk2LBhKZPHxNZY7VavyYd24Y/fnljYKql4prdpshNvOY1LTKySC2Mq+TGT99Htenu6OUnS3Z74OPF99HfF6XZ97snb4veJJ6OJr1U8kpNJAADgTHqdT8yRNFJdw5MLQ6XlAdpDX/9NLNio5IJS4s/pcqVEyffXnE6HKaY6Dn28eI4TH34al/x8Eunv0IKW1+u1t8Qk3if5OFTyYybvU9rzS3d74uMk5mJxer/EfFXptnj+qAU0LaSleo3SvQYAAKB6OGrYpraQvvLKK0VDMpUmJjqvxO7du4uSx3jCoa1++q/ervNfxIctJiYmqX5OpLfVpOKZHq8et7bk6v0TQ1tnE1t3AQCAM+l1PrnwkkpyYai0PEALT3q79kRLlFxQSvw5Xa6UKPn+eh8dfrh+/fqTjkN7XOm/qfKg5OeTSH9HTSqexV+DESNGFP0cD7fbbd8DAAA4geMWDNAkSydVjc/1EO+NlriPFoB0uKZKlaxoIhZPTFRiopLsdLriJz5m8nHEW36TW3YnTJhgojzDNvV3xenjl1Q8U9rVPzlx1NeLwhkAAJkhVY6USnJhSJWWB+iwzlMZtpk4BFOLOz179jRz1ark++t9rr766pOKY/GhpOnyoFTPJ66swzaTC2zJj5nqWEt6fqczxUdJxbN4rqjnK3GILTkbAADO47jimSYjutpS4oIAmljEJ3HVZGPcuHFmFST9f25urils6fwQOsGrJjaavGhrpyY7KjFRSabJSvIksAMHDjSTt8YngdXE7Pbbby/6HXocejyJj6m/S5NEnfQ23loYXzBAJ3/V/XQiXP1Zj0fFn398olw9di2cJS8YEN9f6e8urXimx62T2L799tvmeDU0aXz//feLJWcAAMCZ4jlC/NqeTqpiU2l5wKkuGHDXXXfJ9u3bzePpY2tuFO+NpbmMFpi0oVELY/H76OPq42tOs2jRImnWrFlR8asiFgzQ49CJ/fX/SgtsF110UYmPme5Y0z2/suSKybmYSnUOdVti/qi5ou6jj6ePq8/r0UcflVGjRpnbAQCAMziueKa015luj/c+0/k5OnbsaOY00/kzdOn1eEun0qXCNXHSOSL0Xy0+actkvAUxOVFJpkW6kpYfV9oDTifp1d+hy4j36dNHWrRoUfSYmlhpLzNd8CA+yasWwHS5cd0/fr/E5cf1X33c+PLkyUvJ62OfSvFMrV27tmiJen3ddFirrsAFAACcL12OlCxV8UyVlAdo/qGrO2peo7drg6TmMOmKZ0r/1RU9L7zwQpPraAFL55yN05zl/vvvN4+nuY3S+2jvLc2vNM/RfEdvi+dB2sPqiy++MLfrY2rjabrnE6fPQZ+LPqdUx6E5lD6X+O0PP/ywKYQlPma6Yy3p+ZWWK6bKxVKdw+ScVF8LLaDFc0F9fP09ib0CAQBA9avW4hkAAAAAAADgZBTPAAAAAAAAgDQongEAAAAAAABpUDwDAAAAAAAA0qB4BgAAAAAAAKRB8QwAAAAAAABIg+IZAAAAAAAAkAbFMwAAAAAAACANimcAAAAAAABAGhTPAAAAAAAAgDQongEAAAAAAABpUDwDAAAAAAAA0qB4BgAAAAAAAKRB8QwAAAAAAABIg+IZAAAAAAAAkAbFMwAAAAAAACANimcAAAAAAABAGhTPAAAAAAAAgDQongEAAAAAAABpUDwDAAAAAAAA0qB4BgAAAAAAAKRB8QwAAAAAAABIg+IZAAAAAAAAkAbFMwAAAAAAACANimcAAAAAAABAGhTPAAAAAAAAgDQongEAAAAAAABpUDwDAAAAAAAA0qB4BgAAAAAAAKRB8QwAAAAAAABIg+IZAAAAAAAAkAbFMwAAAAAAACANimcAAAAAAABAGhTPAAAAAAAAgDQongEAAAAAAABpUDwDAAAAAAAA0qB4BgAAAAAAAKRB8QwAAAAAAABIg+IZAAAAAAAAkAbFMwAAAAAAACANimcAAAAAAABAGhTPAAAAAAAAgDQongEAAAAAAABpUDwDAAAAAAAA0qB4BgAAAAAAAKRB8QwAAAAAAABIg+IZAAAAAAAAkAbFMwAAAAAAACANimcAAAAAAABAGhTPAAAAAAAAgDQongEAAAAAAABpUDwDAAAAAAAA0qB4BgAAAAAAAKRB8QwAAAAAAABIg+IZAAAAAAAAkAbFMwAAAAAAACANimcAAAAAAABAGhTPAAAAAAAAgDQongEAAAAAAABpUDwDAAAAAAAA0qB4BgAAAAAAAKRB8QwAAAAAAABIg+IZAAAAAAAAkAbFMwAAAAAAACANimc4ic/nk1atWsmCBQvsLcgER44ckRYtWsjmzZvtLcgEnDcAyBzkSJmJa21m4rwBcBKKZxlILyAXX3yxZGVlFcX1118v48aNk2g0au916ioqMdTj1AueXvhSyc/Pl9mzZ8vjjz8unTp1srfWXJV93ioqwSjtvK1evVpuvfVWc/z169eX0aNHS2FhoX1rzTNo0KBi5+zss8+We++9V3Jycuw9Tk9FnTd9v+r7Vt+/yfT8zJw5Uxo0aGCeg54/PY8AUNNU9rW2qnKkYDAo69atk86dO8udd96Zdr+aorLPGzlS5ciUHKk8501zJc2ZavJ5A3BqKJ5lIL0ANGzYsOhCoh/ummA1atRI5s6da7adjqpIDHWbJoOaFL700kvSoUMH+5aaq7LPW1UkGDt37pQmTZrIkiVLTDKbnZ0t1157bY0uxGhimFiUCofDMnToULn99tvl4MGDZtvpqKjzVlLxTM+PnretW7ea8zZ16lRp3ry5HDt2zN4DAGqGyr7WVlXxTBsVtXGxV69ectttt6Xdr6ao7PNGjlQ5MiVHKum87d692xTO4udtzZo10rhxY9mxY4e9BwDEUDzLQHoBSEww4rQApRcx3X7LLbfIq6++Kpdffrn5OX4xq1evnmkVevjhh+XAgQP2PUVWrlxpWvj0tieeeEJuuummosQw/rhxyV/SFy9ebO6rrTV68dm0adNJLVElJZm6b20snsWVdN70Ne7evbvUrVvXRLt27cTlcpn7aWI5ZcoUc071trZt25qLffx+ycl94uusfw+akF944YXmnL/yyivmcUs7bytWrJCXX35Z/H6/+bmivkQ4mb4miX/vKjGZ0+fetGlT877RJF9vO9XzppGY3CW/vunOm57X+DnTlnt9nET6Hp0wYYL9U8UlowDgNPq5VtK1Nv652rFjR3Ot1W1OzpGSrws1VWnnTbeTIzmPviaJf+8qMcfIhPOmveSGDBlienuq2nDeAJwaimfldNRbKOPWh6okxm8I2b+1OL2AJLfObdmyxXxxnzFjhtl+6aWXSu/eveXw4cPmYjJmzBiTtGnrSiAQkD59+pjkUC8Q2jKkLURjx46VSCRiWsq0q3n8olFSYqgXHG1lW7Zsmbnv9OnT5Y477hDt0aLHUZaEL/HCV1mW5Xtk3MHjVRIb3bGkKVl5z1soFDLJxSOPPGJeT4/HYxKMN99807zW8cfTlrL4a3/11Veb7aUlGPol4aGHHpJDhw6ZffVLRLdu3cwx6f3Lmqjv27fP9CDU1tbKEBq3s8pCQqmHhejrlpgYxt9Pmszl5uaa11gTPH3/6HnSc3Gq5y35tU8+jyWdt8T3ZUnix//UU0+Vui8AlEeBv+pyJI1U4p+x+q9KvtbGP1cffPBB2bVrl/nZyTlSWfc7HZq3pMpnKiOWHPfYv7W40s6bbidHKi48fW/KfKYyIrrXbf/W4krLkTLtvGnPs0WLFpmhp/o4AJCI4lk5afEs6+n8KomSimfJ80JoIqcXDb1o6e3NmjUr+tDXFrDWrVvLtGnTzM9KL1h6QdckUFtF77777qJWn+SLU0mJ4bBhw8xFTy9MSpPO5cuXm8cq64Uq8cJXWZbleyRr0vIqiZKKZ+U5b3qO9Gc9R3HahVy37d+/37z22iKnyYXS11lfb32ckhKM+N9D4jAITWh0WEE8cSnLedOE59FHH5XBgwcXnf+KFhqSIwVZPaokSiqeJZ6zOnXqmJ5m8WEY+ho/8MAD4vV6zc+nc96SX/vE81jaeUt8X6aj51+fwzXXXGO+lABARdLiWap8pjLii7WnliPFP1fjn6VOz5HKut/p0LwlVT5TGVFS8YwcqXy0eJYqn6mMKKl4lnjOknOkTDpv8edy0UUXyfz58+2tAHACxbNy0uLZue1dVRJl7XmWLPkCkepik7gtMdFLvk2VlBjqnGV6eypluVCp+IWvMi3L98i5s9ZUSZS151my5NcrMWGIS9yW/Lol3pbqnMf318RFW8ITb0uUfBypaFL44osvSpcuXUxSW1m0eOY+t3+VRFl7niVLfv+cznlLfu0Tz2Np5y35ONLRVlVtydVhR9oqDAAVRYtnqfKZyoiSimclXWuTr4/JP6vEbcmfrcn76+e5fq7HJe5fETlSWfc7HZq3pMpnKiPK2vMsWfLrkHjtjEvcVhtyJC2epcpnKiPK2vMsWSadN6WFTi3s6d/i+vXr7a0AEEPxLAPpBaA8CUa6VlWdMFznZ6jIVlX9Yq6raMZbCctyoUq+UNZU5T1veo5Stc7p0BIdalKRrXM6z4OeNz2PpZ03bTnX7vU6mXFlJoVOoa9bSYlh4vtBnc55S37tE89jaect+TgSJc95pom9DklI/PsAgJpAP0fLUzxzeo5U1v0yXWnnLfl1IEdyhtJypEw4b8lznun7VOeuS3xfA4CieJaB9AJQngRDJc7noRfz/v37y3333We+RJc2n4dePHRuEN23oKDAtKbFL5Tx+Tz0Pnqx0aWddT4P7Z6tx6GThO7du9c8TjrxC19NV97zphf7xHkh9PXW+Rt0AlQ9T/HHSzUvhN739ddfN6HnW3sY3XPPPUWvsw6D0CRDHzee6GkLafxx0503fSxNCGtLUqhKSwwTvyip0zlvOsRA30/6PtL3k867ocNY4u/Fks6b7tOyZUuTKCbT+WK0p9n27dvN8envjn8eAEBNEv+M1X9T0c/k5C/gTs6RdL90X/prktLOW/LrQI7kDKXlSJlw3rSHmf5OnZtQf4euTK7v2/jQUwCIo3iWgeIXFv03Fd2enGjpRUYvKulWktILhH651rkKdGl0vT2eGB4/flyefPJJc1uDBg3MRS7xQqmtsrqSVHyeA00Wld7epk0bOeecc8w+6VA8i0l13vQ11CQj3YpEmojr6kV6TjVh1/MWf3xNELR1T+dv0C8Fzz//fNHrrH8P8RWJ9HHbt29vEn9V0nnTx06ek0SjpMQp05W3eKZO57xp74f4+/Tpp58276n4e7Gk86ZfxnSOHp2YVxO/RPql7YsvvjBf+OJ/DySFAGoi/Swt6Vqrn8/6mZ1YPHNyjqTPg+IZOZJTlbd4ppx23vR3Lly4sGhVXH0f6zHodgBIRPEMAAAAAAAASIPiGQAAAAAAAJAGxTMAAAAAAAAgDYpnAAAAAAAAQBoUzwAAAAAAAIA0KJ4BAAAAAAAAaVA8AwAAAAAAANKgeAYAAAAAAACkQfEMAAAAAAAASIPiGQAAAAAAAJAGxTMAAAAAAAAgDYpnAAAAAAAAQBoUzwAAAAAAAIA0KJ4BAAAAAAAAaVA8AwAAAAAAANKgeAYAAAAAAACkkTHFs8LCQlm5cqXccccdcvnll8vmzZvtW0RycnLk1ltvlaysLKlfv76MHj3a7K8GDRokrVq1Ep/PZ37W7YMHD5aHHnpIjh49arYBAABkKnIkAACAypUxxbM5c+ZIkyZNZNmyZRIOh+2tIh6PR+677z4ZOHCgRKNRWbdunTRs2FDWr19vbk9MDDUpnDlzpjRv3lzy8vLM7QAAAJmMHAkAAKByZUTxTJO/Rx99VLKzs+0tJ2jrarNmzeTQoUPmZ03+2rVrJ8OGDTM/JyaGmlzedtttsmvXLnMbAABAJiNHAgAAqHwZUTzbtGmTaQl9/PHH5eyzz5Z69eoVDTtYvHixGV7g9XrtvUU6dOhgEkIVTwxXrFhhWmU3btxotgMAAGQ6ciQAAIDKlxHFswULFkjdunVlwoQJJw070NviraZxyYnhddddJ4899pi0bNnytBPDSCRiWncJgiAIgih75Obm2ldSVCRyJIIgCIIgMj0OHDhgZxPOlTHFs8TkL3HYQVlaVRs3bmxOhg5J0Ml048MXToUmhqFQiCAIgiCIcgYqHjkSQRAEQRA1IZwuI4pnWom888475dixY+bnxMRw69at0qJFi6JkTxO3tm3bppzPQ+/XvXt36dSpU7EJdQEAADIRORIAAEDly4jimSZ1Dz/8sPTv398kdIlDElKtJKWtqPFl2hMTQ6X768+6FLsmigAAAJmKHAkAAKDyZUTxTOmQggcffFDq1KkjDRo0MMupxxO7nJwcadq0qbmtfv36MmXKlKLbkhNDpXN6XHvttWaIAgAAQCYjRwIAAKhcGVM8AwAAAAAAAKoaxTMAAAAAAAAgDYpnAAAAAAAAQBoUzwAAAAAAAIA0KJ4BAAAAAAAAaVA8AwAAAAAAANKgeAYAAAAAAACkQfEMAAAAAAAASIPiGQAAAAAAAJAGxTMAAAAAAAAgDYpnAAAAAAAAQBoUzwAAAAAAAIA0KJ4BAAAAAAAAaVA8AwAAAAAAANKgeAYAAAAAAACkQfEMAAAAAAAASIPiGQAAAAAAAJAGxTMAAAAAAAAgDYpnAAAAAAAAQBoUzwAAAAAAAIA0KJ45wJr9Eft/AAAASLb1cFS2HIraPwEAAFQtimfVTJPB771UILd+5pX35wdlbS6FNAAAgESaI533mktu7+eVrrMDsmBHWKKF9o0AAACVjOJZNdNkMOvp/KL4/isF8m8rMfxwQVA25NHCCgAA8H+9PcXypW88XyDX9vDICxP8MmZdWA66qaQBAIDKQ/HMAYKRQlNE+31nV7HE8IevFkizAV7puSgomw5SSAMAALWXL1RocqL63d3F8iWNi7q45P7hPvlkSVDWH6AXPwAAqFgUzxzmmK9QOs0MyC/eKF5I+3E7l7QY6JWPFwdlyyGSQgAAULtN2hSS5gN8xfIljR9ZOVOTvl55y8qn5myLSIi0CQAAnCaKZw6253hUXp3il3NeLSiWFJ7bvkBaDvLJJ4uDsu0IPdIAAEDttv5AVJ4bf3LO9OVn8uWq993y9FifjMgOSW4BwzsBAED5UTzLEBvzItJmnF/ObFs8KfxZB5fcNdgrfZcGZcdRCmkAAKB2O+SOykcLgnL5uycP77zgLZfcPcQnPRYGJZtFmgAAQBlRPMtAy/dEpPUXPtOampgQ1n3dJfcM9Um/ZUHZfZyWVQAAgLHrQ9K0v7dYzqRx1ksFZiGCDtMCMiMnLP6wfQcAAIAkFM/KKRKJSHZ2tmPi06lbpEmPfSclhOe1OyK39twnHUdvk2mL16e8L0EQBEFUVeTm5tpXUtRUTsuRUsWgGZvlv5/ukbNePHZS7nTRm4fkjk/2Sucx22Tqog0p708QBEEQRMXHgQMH7GzCuSielZMmhqFQyJExZq1fbu938hCFX3cskPuGemTAMp/sPhJMeV+CIAiCqOxAzebkHClV5BwMStdZXvlzt+KLNGn84vUCadbfLd3n+GTZrkDK+xMEQRAEUXHhdBTPaqhhq0NyUx/PScnghZ3c0mqET4auCkqei6GdAAAAXitnH7IqJP/ud/LwTp1v9oZeHnl1sl+mbg6LJ2jfCQAA1BoUz2o4T7BQ+iwJyt97nFxI+11nlzwy0iefrwnJITeFNAAAAKVzoD0+yi9nv1x8oSaNi7u6zNyzg1YGZSeLNQEAUCtQPKtFDroL5b15QbnivZOHdl7UxSWPWUniyOyQHPVSSAMAAFBrcyPy+rSA/Pmdk/Onn77mMosRdLfyq2V7WL0TAICaiuJZLbX9SFQ6Tg9IvbdPnufjj2+75YnRPhm9LizHfRTSAAAAlDZE9l4ckn9+cnKP/q89my/X9fDIS5P8MmlTWPL95FAAANQUFM8g2fsj0naiX37V8eRC2vvzmdgDAAAglTHrQnLvMJ+clWJ4Z7c5AXsvAACQ6SieoZhFuyLyxGi/nPNqLAnUoQgAAAAo2aKdYXl+gl9+2yk2vFN7pwEAgJqB4hlSem9ewCR+P2nvkq2HmQwXAACgLDbmRUwO9fXn8mXBTuZBAwCgJqB4hpT2HI+axE/js2UheysAAABKc9m7sd5nr01l6CYAADUBxTOkdXHXWOJ33zCfvQUAAACl6TYnaHKov33okQjrBgAAkPEoniGt9lNjQzcveMsteS4yPwAAgLLILSg0OZTG5E1heysAAMhUFM+Q1pr9sTk7NEZmM3QTAACgrK7v6TE5VJtxfnsLAADIVBTPUKKfv+4yid+Toxm6CQAAUFZ9lsSGbl7SzS1HvfTgBwAgk1E8Q4meGO0zid+l77glyIJRAAAAZeIJnhi6OYIe/AAAZDSKZyjR7G0nhm5O3cKcHQAAAGV122dek0M9PJIe/AAAZDKKZyjVmW0LTOL38mTm7AAAACgr7XGmOdT5b7lk97GovRUAAGQaimco1Z2DY62m13zktrcAAACgNDrT2TefjzVC9l0ajG0EAAAZh+IZSvXF2lir6Vfa5MvCnQzdBAAAKKt7h8YaIVsO8tpbAABApqF4hlKFIicmvO08K2BvBQAAQGmmbQmbHOrH7QpkQx5DNwEAyEQUz1AmjfvEWk1v6uOxtwAAAKAsftzOZfKo9+czdBMAgExE8Qxl8smSoEn6vvdSgazNjdhbAQAAUJr/jfGZPKpJX4ZuAgCQiSieoUwOuaMm6dPosZBWUwAAgLJaujticihdwXyJ9X8AAJBZKJ6hzK58z20SvzsG0moKAABQHhd2ig3d7Did+WMBAMg0FM9QZl1mBUzS97MOLtlznAlvAQAAyqr91Fge9fcezB8LAECmoXiGMss5dGLo5sAVIXsrAAAASrP5YGzopsaMnLC9FQAAZAKKZyiXC9+KDTl46HOfvQUAAABl8ZfusSkw2k7021sAAEAmoHiGcnlhgt8kfb/v7JYAjaYAAABl9u7c2OrlWkSLFtobAQCA41E8Q7nEV4vSGLOe6hkAAEBZ7c0/MQXG6HVMgQEAQKbIuOLZgQMHpHHjxjJo0CB7i0hOTo7ceuutkpWVJfXr15fRo0dLYWGsOU/3a9Wqlfh8sWGGun3w4MHy0EMPydGjR802lM85r8aGbj4zjiEHAAA4BTlSZvhHL4/Jox4bxRQYAABkiowqnoXDYenYsaOcc845RYmhx+OR++67TwYOHCjRaFTWrVsnDRs2lPXr15vbExNDTQpnzpwpzZs3l7y8PHM7yk/nO9OkT4ccAACA6keOlDn6Lo0N3fxdZ5cc8zF2EwCATJBRxbM5c+bI008/Lc8++2xRYrh582Zp1qyZHDp0yPysyV+7du1k2LBh5ufExFDvf9ttt8muXbvMbTg1kzeFTdKnwWpRAABUP3KkzHHUW1iUR7F6OQAAmSFjimfaCnr//feb4QcdOnQoSgwXL15shhd4vV7zs0q8PZ4YrlixQpo0aSIbN24023F6zmgTS/raTw3YWwAAQHUgR8o8t/fzmjzqnqEM3QQAIBNkRPEsEolI165dZejQoebnxMRvwYIFRa2mccmJ4XXXXSePPfaYtGzZ8rQTQz2W7OzsWh//eD/XJH31385LeTtBEARBJEZubq59JUVFIkfKzHhn3FaTR/34lSMyeeGGlPsQBEEQRG0JnbfV6TKieKbJ31NPPWXm7lCJiV9ZWlV18lw9GTok4Y477igavnAqNDEMhUK1PgYsi8179vXn8mXJzkDKfQiCIAgiMVDxyJEyM1y+kHz7hQKTS30wz5dyH4IgCIKoTeF0ji+e+f1+ad26tVklKjm0NVUnv23RokVRsqeJW9u2bVPO56FzfXTv3l06depkJtbFqTvuOzFfR7c5QXsrAACoKuRIme3+4bGhm//ud6K4CQAAnCmjFgyIS2w1TbWSlLai6iS5KjExVLq//qxLsWuiiFN3fc/YUuu39I21dgMAgOpFjpQ5dNElzaO+91KBZOdG7K0AAMCJMr54pnSC3KZNm0qdOnWkfv36MmXKlKKkLzkxVDqnx7XXXmuGKODUfbggttT6D14pkN3HovZWAABQXciRMsu57V0ml+oyiwWYAABwsowsnsEZdh6NmoRPo/dihm4CAACUxzPj/CaPuvFjevEDAOBkFM9wWi7p5jZJ312Dma8DAACgPJbsjpg86ow2+TJvO3PNAQDgVBTPcFo6TAuYpO+Xb7jET84HAABQLr/rHGuIfGWy394CAACchuIZTsvq/bEWU42hq52/vCwAAICTxBsir3rfbW8BAABOQ/EMp+0Xb8Qmu239xYkJhwEAAFC6tbknGiInbKQbPwAATkTxDKftf2N8JuH7Y1daTAEAAMrrivdiQzefGsvQTQAAnIjiGU7b7G3hohbTibSYAgAAlMt784Kxhsi33VJobwMAAM5B8QwV4jsvFpik7/kJtJgCAACUx7Yj0aKGyKGrmEMWAACnoXiGCnH3EK9J+JjsFgAAoPxu/NhjcqkHhjOHLAAATkPxDBVi9LpQUYvp8j0ReysAAADKot/y2NDNX77hkuM+Bm8CAOAkFM9QIdyBwqLi2RvTA/ZWAAAAlEVuwYlc6pMlQXsrAABwAopnqDD/+jQ2dFOHHQAAAKB8mvWP5VItBnrtLQAAwAkonqHCfLo0Ntzg2y8UyK5jUXsrAAAAyuKLtbFpMH74KrkUAABOQvEMFWbv8RMrRemS6wAAACg7neusTtvYCubvzGEaDAAAnILiGSrU1R+4TcJ3ez+GGwAAAJTXg5/7TC7V+BOmwQAAwCkonqFCdZ0TG7r543Yu8QZZKQoAAKA8Jm8Km1zqm88XyNpchm4CAOAEFM9QodYdiJiET+OzZSF7KwAAAMoiGCmU8zq4TC7VYRpDNwEAcAKKZ6hwv+sUS/juHeaztwAAAKCsnh3vN7nUNR8xdBMAACegeIYK9+LEWMJ3/ltuewsAAADKau722NBNjfk7wvZWAABQXSieocJpkhdP+CZsJOEDAAAor4u6xBZh0l5oAACgelE8Q6XQBQM04XtiNAkfAABAeb0xPWByqT93oyc/AADVjeIZKsXDI2LLrF9CwgcAAFBuy/ecWIRpIj35AQCoVhTPUCnGbwgVJXxLd5PwAQAAlNdV78eGbj4ykkWYAACoThTPUCkCYZGvPRsrnr00iaGbAAAA5fX+/NjQzQvectlbAABAdaB4hkrTfIDXJHx/+5ChmwAAAOW1IS9qcimNIatC9lYAAFDVKJ6h0gxcETTJ3pefyZedR6P2VgAAAJTV//X2mHzqzsFeewsAAKhqFM9QafJchUWtpZ1mBuytAAAAKKs+S2KNkee+5pJ8f6G9FQAAVCWKZ6hU/+gVay1t/InH3gIAAICy2nH0xNDNnguD9lYAAFCVKJ6VUyQSkezsbKKM0Xb4DpPsnfn8MVmycm3KfQiCIIiaH7m5ufaVFDUVOVLlRaMP9pt86rruuSlvJwiCIIhMjgMHDtjZhHNRPCsnTQxDoRBRxli/PzbUQKP3Il/KfQiCIIjaEajZyJEqLwYu85lcqk7bAtl+KJByH4IgCILI5HA6imeodJe+4zYJX4uBTHQLAABQXnmuqHz3xQKTT3WexTyyAABUNYpnqHSvT/ObZO+8Di57CwAAAMqj1YhY77PrezKPLAAAVY3iGSrdkt0Rk+xpjN8QtrcCAACgrMasC5lc6kvP5Mu6A1F7KwAAqAoUz1AlftXRZRK+Bz/32VsAAABQVq5Aofz89Vg+9eJEv70VAABUBYpnqBJPj40NNfhtJ4ZuAgAAnIrnJ8Smwqjf3W1vAQAAVYHiGarElM1hk+xpLNkVsbcCAACgrKZtOZFPLdjBVBgAAFQVimeoEpGoyPdeiq0S9fRYhhoAAACUl+ZT9d6OrWL++CimwgAAoKpQPEOVuXdYbOjm5e8y1AAAAOBUvDY1NnTzoi7kUwAAVBWKZ6gyw1bHVonS2HGUVaIAAADKa8HOE6uYT9rE0E0AAKoCxTNUmSOewqJk762ZAXsrAAAAyuOvH8SGbmqvfgAAUPkonqFKNenrNcne33t47C0AAAAoj7dnB0w+9fPXWcUcAICqQPEMVarXoqBJ9r72bIG4A4X2VgAAAJTVyr0nhm4OXRWytwIAgMpC8QxVatuRaFGy12dJ0N4KAACA8mj8icfkU7f389pbAABAZaF4hirX4MPYPB06hBMAAADl99GCWG/+s18ukAI/vfkBAKhMFM9Q5TrNjM3T8f1XmKcDAADgVGw6GJEvP1NgciqdFgMAAFQeimeocisS5ukYt4El1gEAAE7FfwbFFmJq1JuFmAAAqEwUz1At/vB2bOjmnYMZugkAAHAqPlsWG7r51WfzZc/xqL0VAABUNIpnqBYvTPCbZK/u6wX2FgAAAJTH7mNROevl2NDNLrMC9lYAAFDRKJ6hWszICZtET2Pxroi9FQAAAOXRaoTP5FN//YChmwAAVBaKZ6g257Z3mWTvf2N89hYAAACUx/A1oaIGyfUHGLoJAEBloHiGavPwyFhL6R+6sOomAADAqTjsKZRfvBFrkHxpkt/eCgAAKhLFM1SbkdknWkq3H6GlFAAA4FRoL37Npy7u6ra3AACAikTxDNWmwC/yjedixbM3ZzDJLQAAwKkYv+HEXLILd4btrQAAoKJQPEO1ajHQaxK9K9+jpRQAAOBUeENiep1pTvX4KIZuAgBQ0SieoVr1WRIsail1BQrtrQAAACiPFyf6TT716zeZSxYAgIpG8QzVavfxwqLi2SdLgvZWAAAAlMeMnBNDNydvYugmAAAVKSOKZ4WFhTJz5kxp0KCBZGVlyfXXXy+LFy+2bxXJycmRW2+91dxWv359GT16tLmPGjRokLRq1Up8Pp/5WbcPHjxYHnroITl69KjZhup148cek+g1tP4FAABlR46ERH/7MJZT3T0kdk4BAEDFyIji2fLly6VJkyaydetWiUajMn36dGnUqJHs3r1bPB6P3HfffTJw4EBz27p166Rhw4ayfv16c9/ExDCeYDZv3lzy8vLM7ah+XWcHTKL3rRcK7C0AAKAsyJGQ6I3psZzqnFfJqQAAqEgZUTwbM2aMvP/++/ZPIkeOHJEWLVrI5s2bTTRr1kwOHTpkbtPkr127djJs2DDzc2JiOGfOHLnttttk165d5jY4Q3Zu1CR6GmPXM8wAAICyIkdCokU7TwzdHLY6ZG8FAACnKyPnPMvOzpZ7771Xjh07ZoYm6PACr9dr3yrSoUMHkxCqeGK4YsUK0zK7ceNGs/1URSIRCYVCRAXHZe+6TKLXYoAn5e0EQRBE5gcqHzkS8c/esVU3b+7jTnk7QRAEQTgxnC7jimc6lECHFGgLqVqwYEFRq2lccmJ43XXXyWOPPSYtW7askMRQE1OiYuOhfrtNonf2i0dT3k4QBEFkduTm5tpXUlQWciRCo83QnSan+sZzx2XRinUp9yEIgiAIJ8WBAwfsbMK5Mqp4psMO7rnnHhk6dKgZeqDK0qrauHFjczI0mbzjjjuKhi/AOeZuj5hET2PRzoi9FQAAlAU5EuLW7I/IGW0KTE718SJWMgcAoCJkTPHM5XJJ69atzSpQ8aRQ6QS5OrdHPNnTVs+2bdumnM9D79e9e3fp1KmThMPMreU0v3kzNnTzydGsEAUAQFmRIyFZswE+k1Nd14OVzAEAqAgZUTzT1aIeffTRk5JClWolKW1F1UlyVWJiqHR//TnVY6F6PTYqluj9uqPL3gIAAEpCjoRUei0KmpxKY+/xqL0VAACcqowonumcHVlZWSeFDj1QOTk50rRpU6lTp47Ur19fpkyZUpT0JSeGSuf0uPbaa4vmBIEz6Eqb8URv62GGbgIAUBpyJKSSczgq338lNnTz7dkBeysAADhVGbdgAGoub7BQzn45luh1nEGiBwAAcKr+O8RrcqrL3nXbWwAAwKmieAZHuXNwLNH7U1cSPQAAgFM1YEXI5FQaG/IYugkAwOmgeAZH6b/8RKJX4Ge+FQAAgFOxL79QftUxthjTy5P89lYAAHAqKJ7BUfYXRIuKZ70Xs7w6AADAqXpkZGwxpgs7sRgTAACng+IZHOdfn8aGbl7fk+XVAQAATtWINSd69C/aGba3AgCA8qJ4Bsd5b15sefUvPZNvbwEAAEB5HfMVyiXd3CavemI0QzcBADhVFM/gOBvyIkWtpKPXheytAAAAKK9nxvlNTvXT1xi6CQDAqaJ4Bkdq8KHHJHp3DPTZWwAAAFBeEzeeGLo5ZTNDNwEAOBUUz6pZYa5XPJeOkNCnm+wtUK9NDZgkr05bhm4CAFDbhcfvEm+j8RIasEUkwmrc5eEPFcrVH8QaJf87lEZJAABOBcWzauZvt0wKsnqY8Fw5KpYUQhbuDBe1ki7cGbG3AgCA2sj3r0kn8qXLRkqg2xopPOC1b0VpXpkcG7r5nRcL7C0AAKA8KJ5Vs8jyQ+J/cE5RQmiSwr+NltDQrfYetVe9t+MT3NJKCgBAbRaZsU98/5leLF9y1x0ogbZLJLL2iL0X0pm97USj5PDVzCcLAEB5UTxziMiSPPHdN6tYUui5fqyEv9hu71H7PDU21kp6bntaSQEAgEh07REJPLVQXN/tcyJn+lZv8T8wWyKz9tt7IZUbesaGbt7S12NvAQAAZUXxzGEii/LE99+ZxYpo3v+bIOFxO+09ao/ECW5zDkXtrQAAoLYrzPNK4K1V4rlgSPGcqckkCQ3fZu+FRG/NjM0n++Vn8sUdYN44AADKg+KZQ0Xm54r/rqQi2s2TJDx5t71HzRcMF8p5HVwm0Xt9mt/eCgAAYIsWSqjvJvH8dXTxnOnq0RL8cJ0U5gftHbF0d0S+9lyByat6L+Z1AQCgPCieOVx4zv6T5vjw3T5VIjP32XvUbPcO85kkT+c/AwAASCc8YZf4/j2lWM7kvmCIBNovl+hWVu9WN38aG7r5954M3QQAoDwonmWIyKx94ms+rVhC6LtjukTm5dp71EyDV54YupnvZ4gBAAAoWWTZQfE/Mldc3+hdlDO5zvpU/I/Ok8iiA/ZetdN784JFedW+fKbEAACgrCieZZjw9L3iazq1eBHt7hkSWZxn71GzHHRH5VvPx5K8jxliAAAAyii60yX+dsvE/fMBxfOmZlMlPLb2zSWr1h2Iyg9fjU2J0XVOwN4KAABKQ/EsQ0Wm7hHfbcWHJpiVplYcsveoOW79zGuSvL/3YIgBAAAoJ09Ygj3Wi+fykcXyJs91YyTYZ6NIqHb1wGoxMJZXXfoOU2IAAFBWFM8yXHjSbrOyVGIyqEMVItlH7D0y30cLTgwxAAAAOFWhEdvE23hisbzJU2+4WbmzcH/taKTTxQLiedXGPIZuAgBQFhTPaojQ+F3i+1dCEe2rvcT/5AKJbjpu75G5cg5Hi5K8UWtD9lYAAIBTowsy+e+bXayI5vpxP/E/vVCia2pOA2Qq249E5RdvxIZuvjKZ1cwBACgLimc1jM7h4f3niRZV17c/kUCbRRLdVmDvkZmu6xFbHar5AK+9BQAA4PRENhyVwAuLxf2jficKaV/pKb67Zkhk+l57r5rnPns18/PfYugmAABlQfGshgqN2iHeG8efKKJ9r48E2i6R6O7MTJI6Tg+YJO+MNgzdBAAAFavwsF+C3daIu97wE0U0K7yNxkt4yFZ7r5pj0MoTQzcX74rYWwEAQDoUz2q48Mjt4v3HiSKa+5zPJPDqMonmZlYPrmV7IkVJ3oIdJHkAAKByhAZsEe8N44oV0TyXjZRA92wpPFYzVqjMLYjK7zu7TV715BiGbgIAUBqKZ7VEaPg28f59bFES6Pppfwm8vkKih332Hs53SbdYkvf4KJI8AABQucKTd4v3jmnFimjuugPF/9ISiW7J/DllH7PyKc2rznk1s6f2AACgKlA8q2VCQ3LEc82YE0W0XwyUYOfVIgVBew/nenY8SR4AAKhakRWHJPDkAnF9t8+JQtq3eovvoTkSWXDA3ivz6CJMmldpTN0ctrcCAIBUKJ7VUqFBOeJtMLooCXRfMESC72SL+JybPE3bEi5K8rYcYml1AABQdXTe2OAbK8Vj5UxFRTQrvLdOlvDoHfZemSPfXyiXvhPr1X/P0MwZiQAAQHWgeFbLhfpvFs9Vo04U0S4aJsEP1omEnVecKiwU+aW9tHqHaQzdBAAAVa/QF5bQxxvEc/WJ/EnD89fREuq9UQr9mdOL6zm7V//Xn2NBJgAASkLxrJwikYiEQqEaF75P1ou7/siiBNB18XDx91ibct/qjPuHeUySd1FnV8rbCYIgCOcGaraamiOVFP7Pc8TTZGKxIprrgsHi7bBMgnvyU97HSTFhfax4pjF0pT/lPgRBEARRFeF0FM/KSRPD7OzsGhvb20+TQxcNKEoAD9YfIjk95qTctzri7bFbi5I8jTv77JGlK9em3JcgCIJwTuTm5tpXUtRUNT1HKim29Jsv+/79heR/rVdRDnX0R5/KrscnyroFK1PexwmxcvVa+XPng0V5VZ0Xjsl/PtkrQ2ZuSrk/QRAEQVRGHDjg/DlEKZ4hpeDHG8R94Yk5Pfyt5kh0a/V36T/mK5R/9Ir1PkuMhh97ZPmeiL0XAABA1YtuPi7+F5eI68f9inIo928Gx+aVDTpzvtZ2U/xy5Xuxuc8SQ1c5f2duUA57mGcWAACKZ0ir8LBfAs8tLkr+XOd8JsG3V9u3Vq+9+VF5YvSJoQbx+OlrBdJ/OUODAABA9YnucUug7ZJiK3R66g2XYI/19h7O4goUysjskDz0uU9+Yc8vmxi3fuY1q3MCAFBbUTxDqXQZdu/Nk04kf1eNktCo7fat1a/nomDRQgKJoZPgFvgL7b0AAACqVnTLcfE/OV9cX/v4RB51+UgJ9d1k7+E8Ww5F5IP5AflXH49ZSCAxt/rBKwXy9Fi/rN5Hb38AQO1C8QxlFvp0U7GhnL67Z0p0/VH71uo3e2tY/vnJyUM6b+rjlRV7SfIAAED1iK45Ir6H5hTlUBreBqMlNCTH3sOZ5mwLy4sT/XLZuycP67zc2vb+/CANlQCAWoHiGcoleShnQZ1PJNBhhXWDvYMD5BYUyjPjTh7Sqb3Thq5myAEAAKgekcV54rtrRvEi2j/GS3jUDnsPZwpHRYauCsm9w3xmiozkHKtpf6+M3xC29wYAoOaheIZTkjyU033J5xIestW+1Tn6LAnKhZ1Obi19eZLfLD4AAABQ1SKz9ovv9qnFi2j/miThyXvsPZxr59GovDMnII16e+TLzxTPr37S3mWmzdiQR49/AEDNQvEMp+WkoZxNp0pk1WH7VueYtz0st/T1FkvwNG77zCtLd5PgAQCAqheesEu8jScWK6JpLhWeu9/ew9k0v3p2vF8u7npyQ6Wu4Knz0vpDNFYCADIfxTOctpOGcp7R06wwJQHnFaUOuKLywgS/fKVN8QTvwrdcMnBF0N4LAACg6oRGbBPPdWOKF9HumiGR5QftPZxvyKqQ3DnYK+e8evKwzv8M8snUzQzrBABkLopnqDAnDeX87RBHryb12bKg/KHLyS2lr04JyGEPraQAAKBqhQZsEc8VXxQvoj04W6Ibj9l7OF+eKypdZgXk+p4nL+L0sw4ueWlSQLYejtp7AwCQGSieocIlD+X03jRRIkvy7FudZ8GOsJnoNjnBazHQKwt30koKAACqVujjDeK+ePiJItoZvcT/+HyJ7nLZe2QGXe38f2P88vvOJzdWNvjQLZ8uDUqU9koAQAageIZKcdJQTiv8/1sghS7nDo086C6Ulyf75RvPFU/u/tjVLf2Ws0onAACoOoXBiAS7rxX3BScaJF1nfiL+ZxeZPCvTjFkXkuYDvHLWy8WHdX7pmXz571CfzN5GgyUAwLkonqFSJQ/ldNUdKMFe6+1bnav/8pBc0q14K6nOk/biRL+ZNw0AAKAqFOYHJfDmSnH/bMCJfOoHfSXQbpkUejOv4OQKFMqHC4Lytw9PHtb5yzdc8tq0gOw+Rq4FAHAWimeoEicN5bx+nITn5dq3OteiXRG5Y6DvpOROh3nO284qnQAAoGoUHvBK4JWl4v7BZyeKaOf1l0DnVfYemWdjXsQs5HT+WycP6/x7D48MXEHPfwCAM1A8Q5VJNZTT9/BcKTwasPdwLl1AQBcS+M6LxYca/KmbW/osYZVOAABQNaI7XOJvs0gKvtW7KJ9y/2awBD9cZ++RmaZtCcudg31yZtviudZXn82XB4brPLQ0WgIAqg/FM1S5k4ZynvOZhD7InIRvwPKgXP5u8RbSbz6fL89P8Mu+fGa9BQAAlS+64Zj4H50nBV860SjpqTfc0Sudl0UkKtJ3aVCu+ejk3mgXvOWSt2YG5ICLfAsAULUonqHaJA/l9Fw1SiIz99m3Ot/iXWH5z6CTV+l0avziDZfcM9Qr/ZYFZfdxks5ME56zXwLtl4vn2jGx98tFw8TXbJrZFhqxTaIbj9l7AgBqk8jyg+K/b3ZRPmWuEZePlNCwrfYemWvXsah0mBaQX3d0pcxtMiXOaFMgZ79cYOZ0u7ir28z3dlMfj7Qc7JNHRvrkhYkBeXNGQD5aGDRDVceuD8mcbWFZtS8i249E5bAnKiE63gFAtaJ4hmqVclXO+2ebeT0yxRFPobSb4jdJUaqEyanxKysRvW+YTwasCMqe40zM6zSRebkS6LBCvH8fKwVf7lnsPZI2rP3cfxgmvubTzH3DX2yX6Obj9iMCAGoyvW54W0wrdl3wNBgt4fG77D0y24IdEXnwc598PWlV9NoUOtLhx+0KTA88HQVxfU+P3PaZ1zSOPjnaL69M9kvX2QHpvTgow9eEZPKmkJm/d/2BiOzNL5QCP42nAHCqKJ7BEZKHchbU+USC3dbYt2aO2VvDjo3PloXk7iE++VmH1K232qr7gJWUDloZYvhpNdD3QPCNleK5fqwUfCVFsezbvcX7r0kSfGeNhCfulmCX1eL770zxXDZCCr758cn7J4b1eO4/DhffHdPN7wiN2i7RLRTVAKAmCk/dI94mCTmVFd4bx0s4g3r3lyZVnuPkmJETli/Whkwu1n1ewPSme2ac3xQDm/X3SqPeHrnyPbdc1MUt571WcNIcuxUZX3omX75rPf7PX3fJH7q45OoPPPJ/1u9vMdArD1nH8+x4v7SfGpDXpvrl9ekBecMK7RWnw2U7zwpIFyvenh2QbnMC8o4V3ecF5T3rOX0wP2hWUe2xMCg9rei1KFbE+2RJUD5dGjRDcfstD0n/5bHedZpvDlkVkqFWDFsdlM/XhGSEFfo6jbJizLqw6YE3fkNYJmwMy8SNWgwMy5TNITM/3nQrZlqv7Swr5m4Py7I9EVl3ICrbjkStPDYqR72F4guJFJLSAqggFM/gKCcN5bx0hIQn77ZvRUXZejhqEpo7rETpx+1SF9POf9NlkrrBK4OSW0DmUdHCCw9IoONK8f5jnBR8tVexLzkaLmubt+F4Cby1UiJLD9r3Sk8nkNbeBYFOq8R31wzz3nF9o5SimvU7PH/6XLz/mW6OJTxmh0S35tuPCADIZOExO811JPFz33fbFIksKf2aguqnRZ98f6HsPhY1RaEFO8IyaVNYhq4KysdWDqdFrJcn++XxUT7571Cf3NLXI3/v6ZFL33GbHO6cVwvkG7W4l15i6Otw1ssF8pP2BWbkhRYp9XX66wdu+Ucvj9z8qdcUMfV1fHikT/43xidtJ/pNkVNfZy0M6gJhg1YETXFPz8PsbREzhcua/RHZcihqztMhd6G4g9Z7L0reDNREFM/gOClX5bxrhkR3u+09UNE25kXlowVBud1KHL7/SurWzgs7uaXVCJ9pITzgYphneUUW50nwrVWm9d/19dRFLc81YyTw2nIJz8u173X6otsKJDR2pwTeXCm+O2eI55LPpeBrJxfrEkOPz23tp/vrMYfH7bQeh6IaAGSi8NCtZvhm4ue8fr5H1x6x90BNFggXmqKO9shauTdiij5j1oVkwIqQKQp1nBGQ58b7TdFIG1Ub9/GaxRp0XjYtLl1txVXve+SK99xS/z2PGS56mRV/7uaWS6y4uKtL/vi2W+pZcVEXl/y+s1t+28ll8kYt4v3GCi1Y6XxvOv+u9njTURA/fa1Azn3NZYah/qidS35o5Z8/sEKnQTnrpQL5nhXaA69O2wL59gv58q0XYsXArz9XYFZgPaNNvnylTYHpSZcqb63u0GPU49ciZl3rOetroq+X9jDUgl3LQV55aqzf9OrTwty49WFZsjs2x507QPENcCKKZ3Csk4ZyntFTAtYXeVS+7Nyo6YbfpK837dABTQIeHuEzc2octJIyFKe9xYKdV4u30XgpSNMDzHPlKAm8uETC0/eKVHErZTQn3/RK0B5nvv9MF/fFw01vt1THWRTW89Aebb67Z5rnpj3dojsK7EcEADhZ8NON4rlsZLHPdd9Dc2gcQcbTFMoTLJTDnkIzt1vO4aiVy0Zkya6wzNkWMcM9dSiojqb4dGnIDC/VoacdpvnlxUl+U8TSnPa/Q7zSfIDX9ETTApcWD7VQqD3VtACoxT7twVYVPfq0WKjFRi1WNv7EI/cO85kip85pp4XPKZvDphi693hUgiwmAVQJimeQUGGh7PMHZXWBV6YdLpDB+4/KuzvzpOO2XOm955CMOXhcFh5zS47HL/nhqv90Th7K6a433AxlC/bZKOFxu0yPHu1dU1gQtO+BirbCujhrkvHPT7zyzedTF9O0pbH1Fz4zZ8Uhd+3rmRZZdlACXVaL958TxPWt3sW+nMTD8+cR4n9moZmzrNAXtu9ZMk0ENx6MmlW3RmSHTA9BXaBC/9XXWpPCDXmRCnvNdS608KgdEnh9hZl42vPH4annYEsIfb66spvOweZvt8yxocVCKQjZz7TqhSKFsr8gKmv2R818LYNX6tw3QTNvjA7HCVq3A8gsx0MR2e4LyLJ8j0w+lG9yqPd3HZR2OfvMv/rzFCu3Wp7vlR2+oBSEq/n6aH3MBD9cZ1ZsTvwc9z+1UILdsyU0YIu5RpncKidfCo/47TsCSKTDanVONZ1bTedY0ylRdHitzr2mc7BpcWvMeh1mGzLzvX20QOeJC5o55HReOR0iqnPN6fBR7Y13ugU57amnPf20p+Ctn3ml1Qi/vDzJL+/PD8qw1SGZmRO2ji9CgzdwGiie1UDpimEvbtknD67bJbes3CZXLdooF8xdJ2dPXy1Zk5aXK742ZYWcNytbLlmwQRou2yJ3Zu+QpzbukTe35UqfvYdlbN5xWXzcI9u8AStJrJhiW6qhnCnjzE/E/cuB4vnLSPE2nii+e2aa+wXfXi2hfputhHCXRJYfksLd7jIXL3Cyxbsippu5tsppt/lUF/E/vO2Wx0b5ZWR2yKxIWtNEVhySYNc14r1porisv7tUf49u68uJ//H5phhVeDxg7nfMSrJ0boz5O2KtoL0WBc2EvDpniU7W+/ceHjP04UftCuTL5RyKoEMXdHiAvvbXWY+j83foOdBJf3tav0fPhSZ0mw5Gy31OopuOSWjkdgl2WGFW89RVPQu+dPJzzoTQImbgmUWxFeg8p/45ELG+Ax9wFUr2/oiZDHqolZzqpMk6B41OuqzJ618/8JhV0XQISqpzlhyaRLce6TMTKm+2/k4AVA2v9Ybe4wvKGpdPZh4pkM9zj0qvPYdMQ+Izm/bKPdk75V8rcuTqxZvkd/PWyY9mrJGvTl6RMk8qLc6w7qf3//289dJgyWaTl91v5WfPWr+n0/YD8smewzLKyqXmHnXLerdfcgMhCVZ072Rv2ORGmjOl+pwsFmf0FNeP+on7d0PF+9fRZlSA/95ZpjEo+OZKCfZaL+ER2yQya59Es49I4T6PiJ+uMEB56WqoOrxWV0jVobU6P7EOq9WVVHVIra6u+seubjPUtbw5YnLoMFkdZqv5YvMBPitf9Jk53jQvHbU2bPJUzVeP+yi2AXEUzzJAqmLYe7sOyis5++WR9bul6ertct3SLfIHKwn78cw1JilLlayVJfS+P52VLX9asEGuWrRJzp+7Tr47bVXKfcsa35iyUn5mPealCzdKo+U5cteaHSYR1QSx774jMv5gviw57jEtsu5IyclWfCin9oZx/aSfSehSJnplje/2EfdvBov3qlHiazJZ/A/MFn/bJRJ8N1tCg3MkPG2PRNZYiWCuV2f/tI8CyeZtj8hrUwNy7UeelBdojXpvu0yBSC/IxzLwQhxddVgC3daYFS9ddVIXy/J+PkhW3zJLRry0UV7uf8zMZ9HwY6/8qZtbzm0fm6Mj1WtT1vjhqzqXiMu8zvqv/pxqv7KGJl66YISeG03ItHin50iLeSeSp4hsPhhJe84iG45aX5q2S6D9cvE1nSrea8c4MnRhhFTnTEN7zfmfWyyhybsl73DItMzO2hoxLbU6H4wu/a/DOf7dzysNPozN5fL9V07vtdfhGDoHig7H0PlgUu2joS3JN37skVen+M1KY3uO8zkElCRs5Ux5gZBscPtk/jG3jMk7Ln33HpauOw7IS1v2WXnTLmlu5U0Nl+XIZVZe8qs5a+V7p5nnxOPrU2I5VL356+XaJZvNv+fOWmO2p9q/vFHHOs5fzF5r8ik9/hbW83jUygNftfJBzQsHWfnhZCtPXGo3YGqvuNJED/sk0GGFmUZAe/m7f/iZFHz5NHMrO/Ra6ao70DRYeG4YZxpefI/MlcDLS2N5lunltksiS/LMYjWFx2KNTADK5rAnauYt1tEJOhrho4U6OiEgj4yM5Sw6b53mLDqPXKoco6yhc8vp3HM6N53OXadFN81fdG48HZWicybriv46b97TY2M93rSR/b15sdVWtaf96HUhmbo5VpTT4abaQLjneKEcsVdFBTIBxbNqNvuIS0YcOCY9dx+S17flypMb90jLNTvkxuU5JjmqayVJ35q6MmUSVdb44Yw1prB2w9It8p812+V/1u+ID8kcnXdMFlpJVk4pSZa2eO71B2VVgVemHM6XgfuPSLcdefKClYjet1ZbY7dK/UWxJPTM0zzeb1pJZt3Z2VZSu0H+ab0O/83eIW027ZEuVuL7mZUATzyUb143jTkH8mXBujxZOne3rPhii2T3Xivr31omW9rMl233TJfdN0+QfVeNlIMXDpYjP+grBV86vYTw6FmfysHzB8v+K0fK7n9NML9jy7MLZH3nFbLm03WyfOxWx8bmiTukYMZeCc/eV7kxZ78sG7RHPu68Sx5+Ypv8tVlOyvjvI9vk3dd3yOy+u2W5tb8TY/ULq2TT3ybI4W/3Sfn3sPE7/aXnRVPkjkar5acP5qZMOEoK7Y10oZXU6Jwat5ku9j5TqNGCjRZutIAT72KvwwNS0e16e6qCjz6ePq4+vv6esvZ+Shfay1Dn+7i4q1tu6OmR/wzyyZOjffLGdL9pHdXEKNUS/U6J0fM9MvbNLTLnljmyue7QlOdUY/pPPpdX/zJXrvv3Zjnjf8dSvhbJ8dVnC0yBVAulWjCNTwSsS/uXZSJgTR4nbAiZ89bwY0/auQY1tNimj//+/IDpSahDRoCabvqRAhmee9TkS29uP2DlBXtN/nHLyq1yjV2o+umsNaedM8VDGw5/M3edXGHlNprjaC7ytJWLdNx2wBzD51buNsM6Jm3Y3GPlRx7tiloCt3X7Ll9QVtoNoUOt5/LhroPy2tb98sSG3Vbut10aLdsif7F+36+1oHcKIwNSxVcmr5BzrDzwd1YeqL3mbraey73W66av31vW69h7z2EZaT2XeF5lcqvc4zJ/w0FZsmCvLB+/TVYP3Chr318tG15bIlv+N0+2/9fKr5pMlH1/GyUH6g2Vw+f1l2PfTj1dQXkj/ys95aiVr2mulfuXEbKn0TjZccdUyWk9Wza9sljWvbNSVn+2PmWe4+RYNW2nbN521PQiDLASI6qBrgCqq+fr6qA6dYSuHPru3KBZVfT+4T4zz5suCqFzu535Qur8ozJDR0/owhDaI07netPpYHS+OS0ANurtMfnsnYNjw1E1v3ppkt/0ynt3bsCsPjvQej7jrTxv/mjre+HEg7JwY9D04Ftq5V46/czq/VEzUmC9lS9vOhiRnENRk5PtOhaVvflR89poPq35mPa2cwVi8+j5Q4Vm2g3etlAUz6qZJimpkp2Sos60lXK+lVg1sJKgpqu2yeNW0lXeYlhl0+EPmiTqHCBa7NKilxa/tAj23+yd8n/LYy2+P5+VLd+soES3LPHVccvkJwMXSr0PrS/GHWdK0+emyCMPTZBXm4+W9xqNkMFXDZUpFw2QFef1lZ11KiYRJGpObP1WX/n0txPlnn+skF/dt/ekC78WPLSwoSsp6WILD1jJiE5Eqxd2bXXTZEWTlv3WRbq6OjLq79XfH0+e9Lj0+PQ49Xj1uPX49XmUVMCpCXFW60Ny87/WSZdLZsjiH5yYVzE5Fv96pAxuskDeeW27dNAhsAtjS9WX1ivvdOnw2s+WhUwRVItyqZ6Dxpes0IRXC5mfLQuaJDHAqHTUMDqHWKrremnxZSt+NHON/MHuDaa99bX3memttTNPBu0/Ury3VjXM7ZqOToN4MBiWjW5/US+6TzWf2n5Ant+8Vx5Yu1NuXblV/rZkk1w0b50ZfXCqQ0krIr49aqn8rN9C+eMHc+XaN2fKbS9MlfsfnSjP3j1W3rz1C+l1w+cyvP4Qmfb7AbL8Z31l2/c+kaOlzKlZ0+LQV3uZHHPsZUPkk5u+kC6tJsvLHeZIm89WyJMzN8nTG/fIG1ZO/9Gug6bAqvPl6d/mVutv84j1t8D3d1QV7Q2mhSWdw03zRR1GOmRVyDQI6jxqb83wmwa/Z8b5TU83ncOtaf/Yaq3XfuSWv3R3yx+6xFZa1WGmmlOe0eb08srzHsyVK5tvlWb/XCNP/3WhvPvH6TLyl2Nk6fcHy/6vnfy9bfOZn8mk80bKh3+Yava/5aa18sc7d8qZjx1J+filhRb4tCH568/FRhBobzwdIaCjEbTop89TV5H9eYdYDz3NpbXxWguBOiWL5nI6PcdfusdWr736fS0Ous2IkkyK2oziWTXT4pnOIfbz2dmmtfFmKwl6cN1OecVKEj/afVC+cEgxrLK5rGRVJ9xdfNwt4w7mm7nTtEVU51LT1lidW+1PplU5u0oTw5KKbe83GiFDrhxqksBVP+0re76dekVFInNj7zf6yKjfj5eO/14hrTrsL7bSkc5Jpas3aaFCh9LV1GKFPi99fvo89fnq89bnr6+Dvh66ApQmSNpK+G0rkUiVbDglNMHR+cd0HrLYZLra0y9genBpj715yzyy/ZOtcuyheSdNpp0YnmvGmGGq2suyqi3YEZHOswLW8Xvk3Pbph3tqEndTHx3uGTBDOTbm1dzrB2oHLZ5przLtmX7pgg2xaSAS5lyNNSAelwXH3KbYpEUnHcJZG7kiUdnpC8qKAq9MPVwgQ3KPyge7Dkr7rftNg6uOQrjRyqu0EfOXs9fKdypo2OqpxlnDF8uv+syXy96dI//oMEOat7FyrVYT5MX/jJGuN42UT68ZJqP/PFjmnt9f1v7oU9n3rZqbbx0+o6estHLK0X8eZBp1n/nvOGn67BSp33W2nGvlo/p6fW/6Kuu8xaZD0VEl2pDeav0ueWHzXtNQrXPmaW/CWUddpmfkbn/Q5NmAEwTChWb+X11kQVdF1cZc7SE2K9sv08celBkfbpfZL2TLgrsXyfIbpsrGeqNkzzkDJD/F++V0QhvEp/50hBlB8uzVC+TfjbPlkpY75LuPHk6ZVxEnojajeAbUEjpUQFdNHWwl0dqqef+6nfJ3K+n65Zy1JyWy6UILvRfOXWe+tGjLvbZ+67DjFfkeOVaDi7uonQoP+SU0fKuZo0cnyk6VfOncQN7rx5nVSXVOxqqmLcNj14dMy68WBdMt4KHxu84uM+RBi28TN4Zl9zHmTwOAqhD2heXwusOyc/RW2fzOKtnwxBzZePME2XbJMMn9waepry8pQnvqrT63r4y9ZJB8cOMI06tPi41Xvj1bfjogVlxLFzqvsQ7h1TzuysWbzNQo2kCtBVXtiamLi/Xfd0TGHTxebBhvJsScoy6Za4X20NQCuua7uniZzqmso2CWW6FDpnX6GV0UJNuKtS6vrHf7zPyImzx+2WyFdlbQXn7aoL/Dip3W/3f7gmYxkX3+kOz3B+WAlU/rvIqHgtY5teKolf9qDnw8FDYLpWmhUodx6ygcf7RQAtGomb9ai/kRK2pr78HCgz6zMn145HYzh7D/yQXivWWymRPRrVPrpPh7Txfuc/uL54ovzDyK/mcXmRWEdRGoiC5Ykh+U6JGAhJYclMDALeJrt1zc/5kurvpfiOv7Zfw9P/hMjl/+hRxtPkMOtl0muR9vlr3TD8jObT4z1FMXddDCny6ooENAdd45HQ6qq63q0FAtCK7aFzFzu2njs/be0+Gji3eFTaFQV1jX0Qs69YbOVzd7W8SshqqLT2kvP50bbvKmkEzaFDZTeozfEDa5nvb+G70ubEY/6CJg2jg63Iqhq4KmV6AOxR24IiQDrOi3LGhGL3y6NGh6C+r0Kjq8tefCgPRYGDTz4+k0L9qLsPs8Hf4aW/1dG8i7WHmi5orau1DnrtPhsa9PC5gFJdpPrd0rMNeK4pnH45F27drJ2WefLXXr1pX27dubbQBO2GElCLrCWJ89h82kyv9ZvV2uspKrn8xckzIJSxXaGqqrsN62cps8s2mPmc9Fh+1utBIT5vhApivM80lo2FbxPzzXTKydMuH6ai/xNhwvwbdWSWRxnn3PqqVzd2jCdNdgr+lpl6qQpvG1Z/Pl6g88pgfeB/MDVgIXMXN9oHYhRwIcwB8xq1qHJ++WYM/1EnhhifhaTDMFgoIf90t9vUkRx7/SUzac21cmXzJYPmz4uTx311hp8cwUuarLLDmvf8nFNaLq4ktW6EIiugjI92esNrm2TmXzmzlrzSq8unCbjkjSeQqvW7LZ9BTVuRf/vWqbWSjk7uwd8sC6ndJ6w24zl7Wu1Ku5u86hqCN3uu3Mk/etHLzX7kNmwRRdTETnadTpfTQv1zkkdTXfRcfcpgF8rctnioe6eJvOcX0wGDIjnrQAWJYevIXhqES3F0hk9n4J9dtsFiHx3T9bvP8YL+4LBkvBN8rRW9TKo3QxN8/fx4pPV/Vtt0xCfTdJZOY+s7CIhE6v4U8XJtEiXmhITuw475ohniu/EJculpLqeJLCdXZf8fxlpPj+M10Cr1rHNmCLRBblSeEhn/0bUJPViuJZnz595JFHHhGXy2VC/6/bAJSNtpzpMBi94GpBTAtjWiDTQll5Vik710oMNBG4c80OMzRZL+ipWhAJIhNiwcZDsubjbNl+9zQ5+OuBKZOs/G/2lr03jJWN7RbLshk7Uz5OVUSfLfnyyMyj8pf+h+TMLnmS9fqBlPH9d/Lksn6HpNn4o/LcgqP2JwBqMnIkIAOUUFxzlaO4lv+lHrL/5/1l45UjZO6t42V462nyzmvz5PGeS6TRyJWmgKMFnVQ5HFF747sjlsjFPeZJkw4z5fHHJkmX5mNlyHWfy9zfD5StP0i9qFa6yDuzt2w8f6AsvGakTGwxUYY8PUt6dV0ibw/JlnZzt5r5HF/O2W+GmetImc5aDNyRZ+ao7LH7kBmir98fdPE6nRdwZN4xMx/khIPHzTB17QiQKg8qS8zbcVSWWrnamk/Wyqa2C2VHiylm4ZKjPyxbj7Vj3/lEDlw8THbdMlG2PD1P1n6wWpZP2GbliwdT/r5MjdqsxhfPfD6ftGrVSubOnWtvEfP/1q1bi99fu7sdAhVFJ1jWrvA6R19X6wL36IbdZjjA7+atk29U0BL9BOH0+MnARdLs2SlmPkQdVpMqscr9Zi8zYfZjD46Xiz+Ym/JxnBJnDF1vv8NRU5EjATVEBRXXNNy/GCjea8eI52+jxdPAiqtHiecqK6zH8tS34i8jxXPZCPFcasUln4vnT5+L+4/DxVNvuLgvGiru31vx2yGmh7bnAuvf3wwW96+t+OVA89iunw8Q988GiOun/c3wOz0+148+E9cP+4rrB1Z834qzPhXX96z4Th9x1flECr7dW1zf6h3rwfR1K77aSwrO6CUuXXDiS6mfB1E9seXsT2TGbwfIZ38bJh1uHyUPtp4ojdpNl4s+mivfGbEkZb6RCVFn5BK5+P25cusLU6XNf8dJj398bhaZyznL+vtM8TokR+43esmCX/WTAX8dKu2bjZa7n5wkf+08q2guw0yK2qzGF8+OHTsmLVu2lE2bNtlbRBYsWGCSRU0ay+vQoUOye/dugiDKEcu375RRm7bJe2u3SJsVG6X54vVy1dxs+dkMWjeJmhvnDlho5qL5sOEIWfOT1HPa7P32xzKx3kBHxtSLBqV8P59OwFkqOkfSx0t13gmCqN7Yk7NT9s3aIPsHrJADHefJodbT5MjNY+ToJUPk+A/LPucaUbvj+Bk9Zf/P+0lO/WGysslomfPIFBn32mwZ1HuJfDButbyxfJO8smqTtF25SZ618v2nrXh8+UZpbcVDSzfIfVbcvWS9tLSi2aJ1ctvCddLEin8uWCs3WnH9vGy5xoqr566RK6zvCZfOXiN/suIPs1bLb634zcxV8kvru8N501fKT6avkh9OWylnTV0pdaaskG9Z8dXJy+XLVqTKySozzvxiiVll+JYXp8rT94yTjxp+LpP/MNAUElO9jpkeqT5jKiqcrsYXz44cOSItWrSQzZs321tOv3iWlZVFEARBEOWK87LOkjuy6stHWXfJ2qzXUyYkToqJWf9L+TxONXQ4IJylonMkLZ6lOvcEQTg7vpH1Vbkg60dyQ9bv5b6sBvJCVmN5Puuf8mzW/0mbrEbyTNaN8pQV/8tqKE9m/UMez7pBHsu6Xlpn/V0eybpOHrbioaxr5cGsa+SBrL+Zx7g3669yT9bVcrcVd2VdJS2zrpT/ZF1hroPNs/4izbIul6ZW/DvrMrkt61K5JevP0iTrErk5609ykxWNsy6Wf2b9URpl1ZMbs/4g/8i6yBzf9VZcl/U7uTbrt3JN1oXSIOsC+WvW+XJ11m/kSiuuyPq1/CXrV3J51i/lsqxfyJ+z6solWT+XP1nxx6yfSb2s8+SirJ/K77POld9l/UQutOKCrB/L+dbz/3XWOfKrrB/KL7N+IHWzvi8/t+K8rLPlp9b1+9ys78mPs74rP8r6jpyTVUd+YMX3s86Us7K+Ld/L+pZ8N+ubUifrG3Jm1tfl21Z8M+tr5nX9etYZ8tWsr8gZWV+WL2d9Sb5khb7m+v+vWNvOsG77mrWP7vdNa/9vWffT++tjfcd6zO9aj32WFWdbv+cH1u/7ofV7z7GOQY/lJ9Yx6XFpfvEz6zj1eH9hHfsvreegz+U3VujzutB6fr+1nufvrOesz/0PVvzReh0utl4PfV30NbrUeq0us16zv1hR33r99HW8yno9r7ZeW30t9fcl/90QpYeeT/2b07/tp6z3zwdZd1r51VOyOevNlLlXJkSq51kR8dhjj9nZhHPR8wwAAKAWIkcCAAAomxpfPNM5O3TujsT5PKZNm8Z8HgAAoFYjRwIAACibGl88U6lWkho0aJB9KwAAQO1EjgQAAFC6WlE883g80r59e6lbt66Jt956i+EIAACg1iNHAgAAKF2tKJ4BAAAAAAAAp4LiGQAAAAAAAJAGxTMAAAAAAAAgDYpnAAAAAAAAQBoUzwAAAAAAAIA0KJ4BAAAAAAAAaVA8qyY5OTly6623SlZWltSvX19Gjx4thYWF9q3VJxwOy86dO6VHjx7SrFkz2bx5s31L9Tt69Ki8+OKLcvbZZ5vl9HVpfV1iv7rpeZs5c6Y0aNDAnE89r6tXr7ZvdQY9xoEDB8qNN94oR44csbdWr2HDhpnXKzEWLFhg31q99O+qe/fucskll0iHDh3srdVLjyP59dIYNGiQvUf10c+NXr16yYUXXmjen/o+1ferE+h7Mf5Zq/9u2rTJvqVq6XtQ33sTJkyQu+66S4YOHWrfEqN/c+3atauWz7dgMCjr1q2Tzp07y5133lnsM6K04wYq2+LFi4uur9dff7352aky7f2SnL9kwuvr9HwrHT3uK664wlF5dTKfz2dyH70Gaeh3gUAgYN/qPE7OPZLp54Lm4Pp3mxgXX3yxo/8m9PwPGTJErrnmGmnVqpX5G3GqY8eOSePGjYu9vk465tKuD/n5+TJ79mx5/PHHpVOnTvbW6lNaTcCptYzKRvGsGugXovvuu88UM6LRqPnS0rBhQ1m/fr29R/XRN7K+ofv162c+gJzyga4f3s8884x8/PHH5v/6AfnII4/IBx98YO9RfTRxa9KkiWzdutWcz6lTp0rz5s3NMTrFxo0bzQdbo0aNin0xrk79+/c3SY/T6Pvz0UcflbfffttR5zCZHtu9997riM+NGTNmmAvovn37zPvzzTfflFdeeUUikYi9R/XIzc2Vm266yXxp0WPRhKVp06Zy8OBBe4+qo5+lmnxoEvLggw+eVPTs06eP+UxzuVwm9P+6rSpokqbJmr4fb7vttmKfEaUdN1CZEt/Den3Vf/Vn3e5EmfZ+Wb58ebH8Zfr06SZP2L17t72Hs2RCvpXKgQMHzHFfeumljsmrU0m8Dh06dMjxf8NOzT3KSt9/Wtypqoay8tLiieYHbdq0Ma+x0wsj+jd7zz33yP79++0tzlLS9UHzLm281EbMl156yREN9yXVBJxcy6hsFM+qQfzNo29ypR9G2uNAe+I4hb6JW7Ro4ZiLvCZG//vf/2T79u32FjEfOk74cNFWWv1SHue0104/4J566inzxViPyynFMz13Tvqbj9NkTC9cmjQ4mX5pcMpxJr8XtQehE1r79L350EMPidfrNT/rv/pzdfes0NcqMWnS10lfr7lz59pbxPy/devW4vf77S2VTz+zSvqMSD5uoLLpZ8kDDzzguPdwWWTC+2XMmDHy/vvv2z85L39J5vR8KxW9RusXYu3R5eRj1WuNXnOq+zpUHk7NPcpC/y40h9Nczqm0EKLF1IKCAnuLs+l7SwtQTi+mq5KuD8l/19Ut1ees/t/ptYzKQvGsGiR/oVNOS7KcnpDELzqa+DmJHpcekxarnHDx1g+zwYMHS9euXWXDhg3mnKb7YlyVdJiYvkY33HCD6Wpfr14908JR3YWg+If/Cy+8YIaF1KlTx7QOxS8OTqEFUT2upUuX2luqlyas2vqf2PqrXxSqu5Uy+Yu3csJnbfIxaKLXsmXLYkNKq+NLgH7el/QZ4bTrFGo+TcT1Mzn+WRIvNOv7w+ky8f2SnZ1tejRnwpdPp+Vb6cyZM0eefvpp2bt3r6Pz6vh7K7F4Vto1obo5NfcoCy1M3X333Y5+r+kIkYcffrhoaJ7+q0P1nGrFihVmaPTll19u8nf9LNuzZ499q7OUdH3Q7Xq7U6SqCWRCLaOyUDyrBqm+FDntD87JxbN4QUiH1jmpq7OeQ7246LwAW7ZssbdWL73IafFAiz9OSoLiQ+j0w1f/rwm7vm7VXQyKJ4/xgplThwFo7zjtianH5wT62rzzzjtFc0xoS7XO3VDdkodt6t+bDl+u7s/a5M/7VJ+3FM+Ak79ExD+jKZ5VvLy8PFOI0GKP0zkx30pF8wjNwTQXc3JeHZc4bFN7G2nh2klz5SZzau5RGj1uzSu/+OILe4sz6ftMh+vpqB8dmqdD9HSonlOHmepwTS34aUFSrxUdO3aUJ554wjG5cqKSrg/J173qVtYcNdOueaeK4lk1oOfZqdPCmV5sdAy2JnpOE58zxAlzsugHmrZ2xhPh0r4YVzdNgDSqU6ovZtobSHsFOaV1UI9RWwK1gOYU2mtQk1Z9jbQ3gCYvOkeGExIW/bzVXoTaw/H5558382FU9xfv5M97fd3oeQacjJ5nVUOLPPrZqJ/lmdBrRzkp30pFCyTa618be/U1dWpenUiLIvp+0+ulXjc1J3vssceq9DpUHk7OPUqifwM65M2pczfGJX+G6eeE/g3rnIOZYNeuXXL77bebf52mpOuDbtfbnSLVZxc9z1Cl9ENH/wj1Q0jpBbZt27bMeVYKTT60B4m2jDqpcKYfIIlzcGjyoV2Fqzu51+PSbsvxFrnEqO5j08lz+/btK263297ijOJZ/L2Y2BrotOKZ9s7TnnFOafmLz5Mya9Yse4vIjh07TMLitO7ymqjqfBjVnUglJxip5pqZNm2a2cacZ6jNkhN07RGjQ510u9NlyvtFX1P9rIkXeZzMqflWKprr6wIBqXKwTPkc1Z5o1Z2XpZNJuUcifY9169atyhYEOh06V7Iea/xzwenFs/iIljiKZxUjVU0gE2oZlYXiWTXQi33yChVOWtlSObF4pj2onFY4U9oDSFs+tVuzXmCWLFli5gVw2mpVpX0xrko6HEB7D44dO9a8B/RD+Oabb3bEHF5awNAVGfX8OW3Yph6PDtd02lx/uuqtzjujn23x1t877rjDMZPM6vtSl9vWL+FOmA8lVdKUOFxGQ/9f1V+wKJ7BaRKHXuu1Qv+trhVzyysT3i/6ma1TYGRC4UxlSr6VihPz6nS0p5k2Iv7zn/80106ncnrukUq8wOfk1zVO/1b1+6lOraI5sNOHbWrxTI9PCzqaL3/88ccM26wAqT67MqGWUVkonlUTnf9AE0DtGaRz8EyZMsVRiYvTLvLxoRrJrXcXX3xxtR+jfmhokqHnUY9JEzldTt1p9HVySvFMacugthjre8ApCwao+PnUY9KhCy+++KIcPXrUvrV66bLmmhg6pRdcnF5EdTWxunXrOm6SVv17b9SokQk9r074G0uVNOlr2L59e/Maarz11ltVPlSmtM8IimeoDtqT4PrrrzfXV30fr1y50r7F2TLh/aI9thJzqng46YtbokzJt1JxWl6djv7NXnjhhWbaDyf34FJOzj1S0e952oCX2JvLyfQYFy5cWLSAltNfX83v9LuE5u9OP96Srg+63Umfwek+u5xey6gsFM8AAAAAAACANCieAQAAAAAAAGlQPAMAAAAAAADSoHgGAAAAAAAApEHxDAAAAAAAAEiD4hkAAAAAAACQBsUzAAAAAAAAIA2KZwAAAAAAAEAaFM8AAAAAAACANCieAQAAAAAAAGlQPAMAAAAAAADSoHgGAAAAAAAApEHxDAAAAAAAAEiD4hkAAAAAAACQBsUzAAAAAAAAIA2KZwAAAAAAAEAaFM8AAAAAAACANCieAQAAAAAAAGlQPAMAAAAAAADSoHgGAAAAAAAApEHxDAAAAAAAAEiD4hkAAAAAAACQBsUzAAAAAAAAIA2KZwAAAAAAAEAaFM8AAAAAAACANCieAQAAAAAAAGlQPAMAAAAAAADSoHgGAAAAAAAApEHxDAAAAAAAAEiD4hkAAAAAAACQBsUzAAAAAAAAIA2KZwAAAAAAAEAaFM8AAAAAAACANCieAQAAAAAAACmJ/D8lhxxj9biD6AAAAABJRU5ErkJggg==)"
      ],
      "metadata": {
        "id": "QqZR0jgr80U1"
      }
    }
  ]
}